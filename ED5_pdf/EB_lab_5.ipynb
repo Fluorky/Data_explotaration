{
  "cells": [
    {
      "cell_type": "code",
      "execution_count": 2,
      "metadata": {
        "colab": {
          "base_uri": "https://localhost:8080/"
        },
        "id": "EbdDgIU4sm78",
        "outputId": "6cdc4b9b-74ed-4164-ae7f-8df702c9aacc"
      },
      "outputs": [
        {
          "output_type": "stream",
          "name": "stdout",
          "text": [
            "   Wzrost (cm)  Waga (kg)  Staz (lata)  Zarobki (tys.)  Ocena (pkt.)  Pietro  \\\n",
            "A          190         88            3             3.5             7       6   \n",
            "B          172         70           12             4.3             5       1   \n",
            "\n",
            "   Dzieci  Odleglosc (km)  Ubezp.  \n",
            "A       1              25       1  \n",
            "B       4              12       0  \n"
          ]
        }
      ],
      "source": [
        "import pandas as pd\n",
        "import numpy as np\n",
        "data = pd.read_csv('PersonsData.csv')\n",
        "print(data)"
      ]
    },
    {
      "cell_type": "code",
      "execution_count": 3,
      "metadata": {
        "colab": {
          "base_uri": "https://localhost:8080/"
        },
        "id": "3G__KbV2wBwg",
        "outputId": "ca3d9d08-e20e-4219-cfd0-4af5ec1d1a22"
      },
      "outputs": [
        {
          "output_type": "execute_result",
          "data": {
            "text/plain": [
              "30.620907889871585"
            ]
          },
          "metadata": {},
          "execution_count": 3
        }
      ],
      "source": [
        "np.sqrt(np.sum((data.iloc[0,:]-data.iloc[1,:])**2))"
      ]
    },
    {
      "cell_type": "code",
      "execution_count": 4,
      "metadata": {
        "id": "jjpkuUFAx375"
      },
      "outputs": [],
      "source": [
        "data_copy=data.copy()"
      ]
    },
    {
      "cell_type": "code",
      "execution_count": 5,
      "metadata": {
        "id": "yx5yS22VyOpv"
      },
      "outputs": [],
      "source": [
        "#data_copy.iloc[:,3]=data_copy.iloc[:,3]/1000"
      ]
    },
    {
      "cell_type": "code",
      "execution_count": 6,
      "metadata": {
        "id": "REyugMvEx93d"
      },
      "outputs": [],
      "source": [
        "data_copy.iloc[:,3]=data_copy.iloc[:,3]*1000"
      ]
    },
    {
      "cell_type": "code",
      "execution_count": 7,
      "metadata": {
        "colab": {
          "base_uri": "https://localhost:8080/"
        },
        "id": "qBw2YqNHyI9z",
        "outputId": "e2aae591-e9dc-4e74-eb8d-1ac74cc257b6"
      },
      "outputs": [
        {
          "output_type": "stream",
          "name": "stdout",
          "text": [
            "   Wzrost (cm)  Waga (kg)  Staz (lata)  Zarobki (tys.)  Ocena (pkt.)  Pietro  \\\n",
            "A          190         88            3          3500.0             7       6   \n",
            "B          172         70           12          4300.0             5       1   \n",
            "\n",
            "   Dzieci  Odleglosc (km)  Ubezp.  \n",
            "A       1              25       1  \n",
            "B       4              12       0  \n"
          ]
        }
      ],
      "source": [
        "print(data_copy)"
      ]
    },
    {
      "cell_type": "code",
      "execution_count": 8,
      "metadata": {
        "colab": {
          "base_uri": "https://localhost:8080/"
        },
        "id": "rzgUBc1Nyob4",
        "outputId": "3d798f6e-0cf8-4c9e-dd57-89b9fd0d9dd2"
      },
      "outputs": [
        {
          "output_type": "execute_result",
          "data": {
            "text/plain": [
              "800.5854108088655"
            ]
          },
          "metadata": {},
          "execution_count": 8
        }
      ],
      "source": [
        "np.sqrt(np.sum((data_copy.iloc[0,:]-data_copy.iloc[1,:])**2))"
      ]
    },
    {
      "cell_type": "code",
      "execution_count": 9,
      "metadata": {
        "id": "5SgZDT4kzEhy"
      },
      "outputs": [],
      "source": [
        "data_copy2=data_copy.copy()"
      ]
    },
    {
      "cell_type": "code",
      "execution_count": 10,
      "metadata": {
        "colab": {
          "base_uri": "https://localhost:8080/",
          "height": 112
        },
        "id": "rhjahnkg0f4w",
        "outputId": "e4ffa4ef-f049-4051-f2bc-da8d59049719"
      },
      "outputs": [
        {
          "output_type": "execute_result",
          "data": {
            "text/plain": [
              "   Wzrost (cm)  Waga (kg)  Staz (lata)  Zarobki (tys.)  Ocena (pkt.)  Pietro  \\\n",
              "A          190         88            3          3500.0             7       6   \n",
              "B          172         70           12          4300.0             5       1   \n",
              "\n",
              "   Dzieci  Odleglosc (km)  Ubezp.  \n",
              "A       1              25       1  \n",
              "B       4              12       0  "
            ],
            "text/html": [
              "\n",
              "  <div id=\"df-63e3b18f-95ab-4307-9296-5e80c8603c6c\">\n",
              "    <div class=\"colab-df-container\">\n",
              "      <div>\n",
              "<style scoped>\n",
              "    .dataframe tbody tr th:only-of-type {\n",
              "        vertical-align: middle;\n",
              "    }\n",
              "\n",
              "    .dataframe tbody tr th {\n",
              "        vertical-align: top;\n",
              "    }\n",
              "\n",
              "    .dataframe thead th {\n",
              "        text-align: right;\n",
              "    }\n",
              "</style>\n",
              "<table border=\"1\" class=\"dataframe\">\n",
              "  <thead>\n",
              "    <tr style=\"text-align: right;\">\n",
              "      <th></th>\n",
              "      <th>Wzrost (cm)</th>\n",
              "      <th>Waga (kg)</th>\n",
              "      <th>Staz (lata)</th>\n",
              "      <th>Zarobki (tys.)</th>\n",
              "      <th>Ocena (pkt.)</th>\n",
              "      <th>Pietro</th>\n",
              "      <th>Dzieci</th>\n",
              "      <th>Odleglosc (km)</th>\n",
              "      <th>Ubezp.</th>\n",
              "    </tr>\n",
              "  </thead>\n",
              "  <tbody>\n",
              "    <tr>\n",
              "      <th>A</th>\n",
              "      <td>190</td>\n",
              "      <td>88</td>\n",
              "      <td>3</td>\n",
              "      <td>3500.0</td>\n",
              "      <td>7</td>\n",
              "      <td>6</td>\n",
              "      <td>1</td>\n",
              "      <td>25</td>\n",
              "      <td>1</td>\n",
              "    </tr>\n",
              "    <tr>\n",
              "      <th>B</th>\n",
              "      <td>172</td>\n",
              "      <td>70</td>\n",
              "      <td>12</td>\n",
              "      <td>4300.0</td>\n",
              "      <td>5</td>\n",
              "      <td>1</td>\n",
              "      <td>4</td>\n",
              "      <td>12</td>\n",
              "      <td>0</td>\n",
              "    </tr>\n",
              "  </tbody>\n",
              "</table>\n",
              "</div>\n",
              "      <button class=\"colab-df-convert\" onclick=\"convertToInteractive('df-63e3b18f-95ab-4307-9296-5e80c8603c6c')\"\n",
              "              title=\"Convert this dataframe to an interactive table.\"\n",
              "              style=\"display:none;\">\n",
              "        \n",
              "  <svg xmlns=\"http://www.w3.org/2000/svg\" height=\"24px\"viewBox=\"0 0 24 24\"\n",
              "       width=\"24px\">\n",
              "    <path d=\"M0 0h24v24H0V0z\" fill=\"none\"/>\n",
              "    <path d=\"M18.56 5.44l.94 2.06.94-2.06 2.06-.94-2.06-.94-.94-2.06-.94 2.06-2.06.94zm-11 1L8.5 8.5l.94-2.06 2.06-.94-2.06-.94L8.5 2.5l-.94 2.06-2.06.94zm10 10l.94 2.06.94-2.06 2.06-.94-2.06-.94-.94-2.06-.94 2.06-2.06.94z\"/><path d=\"M17.41 7.96l-1.37-1.37c-.4-.4-.92-.59-1.43-.59-.52 0-1.04.2-1.43.59L10.3 9.45l-7.72 7.72c-.78.78-.78 2.05 0 2.83L4 21.41c.39.39.9.59 1.41.59.51 0 1.02-.2 1.41-.59l7.78-7.78 2.81-2.81c.8-.78.8-2.07 0-2.86zM5.41 20L4 18.59l7.72-7.72 1.47 1.35L5.41 20z\"/>\n",
              "  </svg>\n",
              "      </button>\n",
              "      \n",
              "  <style>\n",
              "    .colab-df-container {\n",
              "      display:flex;\n",
              "      flex-wrap:wrap;\n",
              "      gap: 12px;\n",
              "    }\n",
              "\n",
              "    .colab-df-convert {\n",
              "      background-color: #E8F0FE;\n",
              "      border: none;\n",
              "      border-radius: 50%;\n",
              "      cursor: pointer;\n",
              "      display: none;\n",
              "      fill: #1967D2;\n",
              "      height: 32px;\n",
              "      padding: 0 0 0 0;\n",
              "      width: 32px;\n",
              "    }\n",
              "\n",
              "    .colab-df-convert:hover {\n",
              "      background-color: #E2EBFA;\n",
              "      box-shadow: 0px 1px 2px rgba(60, 64, 67, 0.3), 0px 1px 3px 1px rgba(60, 64, 67, 0.15);\n",
              "      fill: #174EA6;\n",
              "    }\n",
              "\n",
              "    [theme=dark] .colab-df-convert {\n",
              "      background-color: #3B4455;\n",
              "      fill: #D2E3FC;\n",
              "    }\n",
              "\n",
              "    [theme=dark] .colab-df-convert:hover {\n",
              "      background-color: #434B5C;\n",
              "      box-shadow: 0px 1px 3px 1px rgba(0, 0, 0, 0.15);\n",
              "      filter: drop-shadow(0px 1px 2px rgba(0, 0, 0, 0.3));\n",
              "      fill: #FFFFFF;\n",
              "    }\n",
              "  </style>\n",
              "\n",
              "      <script>\n",
              "        const buttonEl =\n",
              "          document.querySelector('#df-63e3b18f-95ab-4307-9296-5e80c8603c6c button.colab-df-convert');\n",
              "        buttonEl.style.display =\n",
              "          google.colab.kernel.accessAllowed ? 'block' : 'none';\n",
              "\n",
              "        async function convertToInteractive(key) {\n",
              "          const element = document.querySelector('#df-63e3b18f-95ab-4307-9296-5e80c8603c6c');\n",
              "          const dataTable =\n",
              "            await google.colab.kernel.invokeFunction('convertToInteractive',\n",
              "                                                     [key], {});\n",
              "          if (!dataTable) return;\n",
              "\n",
              "          const docLinkHtml = 'Like what you see? Visit the ' +\n",
              "            '<a target=\"_blank\" href=https://colab.research.google.com/notebooks/data_table.ipynb>data table notebook</a>'\n",
              "            + ' to learn more about interactive tables.';\n",
              "          element.innerHTML = '';\n",
              "          dataTable['output_type'] = 'display_data';\n",
              "          await google.colab.output.renderOutput(dataTable, element);\n",
              "          const docLink = document.createElement('div');\n",
              "          docLink.innerHTML = docLinkHtml;\n",
              "          element.appendChild(docLink);\n",
              "        }\n",
              "      </script>\n",
              "    </div>\n",
              "  </div>\n",
              "  "
            ]
          },
          "metadata": {},
          "execution_count": 10
        }
      ],
      "source": [
        "data_copy.iloc[:,:]"
      ]
    },
    {
      "cell_type": "code",
      "execution_count": 11,
      "metadata": {
        "colab": {
          "base_uri": "https://localhost:8080/"
        },
        "id": "0zCKrii40aRf",
        "outputId": "f1b27053-dbbf-4cf6-de5d-a8b0b9752396"
      },
      "outputs": [
        {
          "output_type": "execute_result",
          "data": {
            "text/plain": [
              "Wzrost (cm)        12.727922\n",
              "Waga (kg)          12.727922\n",
              "Staz (lata)         6.363961\n",
              "Zarobki (tys.)    565.685425\n",
              "Ocena (pkt.)        1.414214\n",
              "Pietro              3.535534\n",
              "Dzieci              2.121320\n",
              "Odleglosc (km)      9.192388\n",
              "Ubezp.              0.707107\n",
              "dtype: float64"
            ]
          },
          "metadata": {},
          "execution_count": 11
        }
      ],
      "source": [
        "data_copy.iloc[:,:].std()"
      ]
    },
    {
      "cell_type": "code",
      "execution_count": 12,
      "metadata": {
        "id": "qN2XSOx4GiY1"
      },
      "outputs": [],
      "source": [
        "data_copy3=data.copy()"
      ]
    },
    {
      "cell_type": "code",
      "execution_count": 13,
      "metadata": {
        "id": "TvY-YBrH3Hcs"
      },
      "outputs": [],
      "source": [
        "data_copy3.iloc[:,:]=data.iloc[:,:]/data.iloc[:,:].std()"
      ]
    },
    {
      "cell_type": "code",
      "execution_count": 14,
      "metadata": {
        "id": "_3Q40oRdy8fR"
      },
      "outputs": [],
      "source": [
        "data_copy2.iloc[:,:]=data_copy2.iloc[:,:]/data_copy2.iloc[:,:].std()"
      ]
    },
    {
      "cell_type": "code",
      "execution_count": 15,
      "metadata": {
        "colab": {
          "base_uri": "https://localhost:8080/"
        },
        "id": "DG08_5BlzSXM",
        "outputId": "2a32ab03-bd4b-4ee4-8c95-3caa95e34cd1"
      },
      "outputs": [
        {
          "output_type": "stream",
          "name": "stdout",
          "text": [
            "   Wzrost (cm)  Waga (kg)  Staz (lata)  Zarobki (tys.)  Ocena (pkt.)  \\\n",
            "A    14.927810   6.913933     0.471405        6.187184      4.949747   \n",
            "B    13.513596   5.499719     1.885618        7.601398      3.535534   \n",
            "\n",
            "     Pietro    Dzieci  Odleglosc (km)    Ubezp.  \n",
            "A  1.697056  0.471405        2.719641  1.414214  \n",
            "B  0.282843  1.885618        1.305428  0.000000  \n"
          ]
        }
      ],
      "source": [
        "print(data_copy2)"
      ]
    },
    {
      "cell_type": "code",
      "execution_count": 16,
      "metadata": {
        "colab": {
          "base_uri": "https://localhost:8080/"
        },
        "id": "gxQRWKaY0DCS",
        "outputId": "877b63b3-1b6f-400c-c4dd-ce75f633dd7d"
      },
      "outputs": [
        {
          "output_type": "execute_result",
          "data": {
            "text/plain": [
              "4.242640687119286"
            ]
          },
          "metadata": {},
          "execution_count": 16
        }
      ],
      "source": [
        "np.sqrt(np.sum((data_copy2.iloc[0,:]-data_copy2.iloc[1,:])**2))"
      ]
    },
    {
      "cell_type": "code",
      "execution_count": 17,
      "metadata": {
        "colab": {
          "base_uri": "https://localhost:8080/"
        },
        "id": "r_aCp9SCGnoW",
        "outputId": "fedfe384-aec6-4008-d887-57b6f907aa1b"
      },
      "outputs": [
        {
          "output_type": "execute_result",
          "data": {
            "text/plain": [
              "4.242640687119285"
            ]
          },
          "metadata": {},
          "execution_count": 17
        }
      ],
      "source": [
        "np.sqrt(np.sum((data_copy3.iloc[0,:]-data_copy3.iloc[1,:])**2))"
      ]
    },
    {
      "cell_type": "code",
      "execution_count": 18,
      "metadata": {
        "colab": {
          "base_uri": "https://localhost:8080/"
        },
        "id": "BkRzY215u7ct",
        "outputId": "7366edaa-84db-44c7-90fa-c4f1ecab847a"
      },
      "outputs": [
        {
          "output_type": "execute_result",
          "data": {
            "text/plain": [
              "0.5656854249492379"
            ]
          },
          "metadata": {},
          "execution_count": 18
        }
      ],
      "source": [
        "data.iloc[:,3].std()"
      ]
    },
    {
      "cell_type": "markdown",
      "metadata": {
        "id": "Eh-ouZpc1gmb"
      },
      "source": [
        "minskowskiego"
      ]
    },
    {
      "cell_type": "code",
      "execution_count": 19,
      "metadata": {
        "colab": {
          "base_uri": "https://localhost:8080/"
        },
        "id": "oxzk34Rp1jSg",
        "outputId": "535e3359-e3d9-4131-a277-c3753719684e"
      },
      "outputs": [
        {
          "output_type": "execute_result",
          "data": {
            "text/plain": [
              "30.620907889871585"
            ]
          },
          "metadata": {},
          "execution_count": 19
        }
      ],
      "source": [
        "np.sqrt(np.sum((data.iloc[0,:]-data.iloc[1,:])**2))"
      ]
    },
    {
      "cell_type": "markdown",
      "metadata": {
        "id": "NMDDrghFGwWi"
      },
      "source": [
        "miejska"
      ]
    },
    {
      "cell_type": "code",
      "execution_count": 20,
      "metadata": {
        "colab": {
          "base_uri": "https://localhost:8080/"
        },
        "id": "ltLzw_1f2Wbz",
        "outputId": "b2a73eb5-8ef2-4874-820b-38ab2e831571"
      },
      "outputs": [
        {
          "output_type": "execute_result",
          "data": {
            "text/plain": [
              "69.8"
            ]
          },
          "metadata": {},
          "execution_count": 20
        }
      ],
      "source": [
        "np.sum(np.abs(data.iloc[0,:]-data.iloc[1,:]))"
      ]
    },
    {
      "cell_type": "markdown",
      "metadata": {
        "id": "s59-cioatz8T"
      },
      "source": [
        "Zad 2\n"
      ]
    },
    {
      "cell_type": "code",
      "execution_count": 21,
      "metadata": {
        "colab": {
          "base_uri": "https://localhost:8080/"
        },
        "id": "0o97bWwAt2oX",
        "outputId": "801aed4e-4536-4c17-ee6e-108230c3670d"
      },
      "outputs": [
        {
          "output_type": "stream",
          "name": "stdout",
          "text": [
            "   A1  A2  A3  A4  A5  A6  A7  A8  A9  A10\n",
            "A   0   0   1   1   0   1   0   1   0    1\n",
            "B   0   0   0   1   1   1   0   0   0    1\n",
            "C   1   0   1   1   0   1   1   1   0    0\n",
            "D   1   1   1   1   0   0   0   0   0    0\n",
            "E   1   0   1   0   1   0   0   0   0    0\n",
            "F   0   0   0   1   0   1   0   0   0    0\n"
          ]
        }
      ],
      "source": [
        "data2 = pd.read_csv('BinaryData.csv')\n",
        "print(data2)"
      ]
    },
    {
      "cell_type": "code",
      "execution_count": 22,
      "metadata": {
        "id": "R2IlQ2gFs4CP"
      },
      "outputs": [],
      "source": [
        "a=len(data2.index)"
      ]
    },
    {
      "cell_type": "code",
      "execution_count": 23,
      "metadata": {
        "id": "JdHS-gIxJV-u",
        "colab": {
          "base_uri": "https://localhost:8080/"
        },
        "outputId": "27f912ff-c983-4f88-9796-b83355101153"
      },
      "outputs": [
        {
          "output_type": "stream",
          "name": "stdout",
          "text": [
            "AB_n00 4 AB_n01 1 AB_n10 2 AB_n11 3\n"
          ]
        }
      ],
      "source": [
        "AB_n10=np.sum(data2.iloc[0,:]-data2.iloc[1,:]==1)\n",
        "AB_n11=np.sum((data2.iloc[0,:]-data2.iloc[1,:]==0)&(data2.iloc[0,:]==1)&(data2.iloc[1,:]==1))\n",
        "AB_n00=np.sum((data2.iloc[0,:]-data2.iloc[1,:]==0)&(data2.iloc[0,:]==0)&(data2.iloc[1,:]==0))\n",
        "AB_n01=np.sum(data2.iloc[1,:]-data2.iloc[0,:]==1)\n",
        "print(\"AB_n00 \"+ str(AB_n00)+\" AB_n01 \"+str(AB_n01)+\" AB_n10 \"+ str(AB_n10) +\" AB_n11 \"+str(AB_n11))"
      ]
    },
    {
      "cell_type": "code",
      "execution_count": 24,
      "metadata": {
        "id": "XYWbOracYuXu"
      },
      "outputs": [],
      "source": [
        "n10 = []\n",
        "\n",
        "n10.append(np.sum(data2.iloc[0,:]-data2.iloc[1,:]==1))\n",
        "n10.append(np.sum(data2.iloc[1,:]-data2.iloc[2,:]==1))"
      ]
    },
    {
      "cell_type": "code",
      "execution_count": 25,
      "metadata": {
        "colab": {
          "base_uri": "https://localhost:8080/"
        },
        "id": "kt7SiJEds4CQ",
        "outputId": "8e9fe2d1-dd76-4794-e769-c041e79ef6f1"
      },
      "outputs": [
        {
          "output_type": "stream",
          "name": "stdout",
          "text": [
            "A B\n",
            "Jacard: 0.5\n",
            "Dice: 0.6666666666666666\n",
            "A B n00 4 n01 1 n10 2 n11 3\n",
            "A C\n",
            "Jacard: 0.5714285714285714\n",
            "Dice: 0.7272727272727273\n",
            "A C n00 3 n01 2 n10 1 n11 4\n",
            "A D\n",
            "Jacard: 0.2857142857142857\n",
            "Dice: 0.4444444444444444\n",
            "A D n00 3 n01 2 n10 3 n11 2\n",
            "A E\n",
            "Jacard: 0.14285714285714285\n",
            "Dice: 0.25\n",
            "A E n00 3 n01 2 n10 4 n11 1\n",
            "A F\n",
            "Jacard: 0.4\n",
            "Dice: 0.5714285714285714\n",
            "A F n00 5 n01 0 n10 3 n11 2\n",
            "B A\n",
            "Jacard: 0.5\n",
            "Dice: 0.6666666666666666\n",
            "B A n00 4 n01 2 n10 1 n11 3\n",
            "B C\n",
            "Jacard: 0.25\n",
            "Dice: 0.4\n",
            "B C n00 2 n01 4 n10 2 n11 2\n",
            "B D\n",
            "Jacard: 0.14285714285714285\n",
            "Dice: 0.25\n",
            "B D n00 3 n01 3 n10 3 n11 1\n",
            "B E\n",
            "Jacard: 0.16666666666666666\n",
            "Dice: 0.2857142857142857\n",
            "B E n00 4 n01 2 n10 3 n11 1\n",
            "B F\n",
            "Jacard: 0.5\n",
            "Dice: 0.6666666666666666\n",
            "B F n00 6 n01 0 n10 2 n11 2\n",
            "C A\n",
            "Jacard: 0.5714285714285714\n",
            "Dice: 0.7272727272727273\n",
            "C A n00 3 n01 1 n10 2 n11 4\n",
            "C B\n",
            "Jacard: 0.25\n",
            "Dice: 0.4\n",
            "C B n00 2 n01 2 n10 4 n11 2\n",
            "C D\n",
            "Jacard: 0.42857142857142855\n",
            "Dice: 0.6\n",
            "C D n00 3 n01 1 n10 3 n11 3\n",
            "C E\n",
            "Jacard: 0.2857142857142857\n",
            "Dice: 0.4444444444444444\n",
            "C E n00 3 n01 1 n10 4 n11 2\n",
            "C F\n",
            "Jacard: 0.3333333333333333\n",
            "Dice: 0.5\n",
            "C F n00 4 n01 0 n10 4 n11 2\n",
            "D A\n",
            "Jacard: 0.2857142857142857\n",
            "Dice: 0.4444444444444444\n",
            "D A n00 3 n01 3 n10 2 n11 2\n",
            "D B\n",
            "Jacard: 0.14285714285714285\n",
            "Dice: 0.25\n",
            "D B n00 3 n01 3 n10 3 n11 1\n",
            "D C\n",
            "Jacard: 0.42857142857142855\n",
            "Dice: 0.6\n",
            "D C n00 3 n01 3 n10 1 n11 3\n",
            "D E\n",
            "Jacard: 0.4\n",
            "Dice: 0.5714285714285714\n",
            "D E n00 5 n01 1 n10 2 n11 2\n",
            "D F\n",
            "Jacard: 0.2\n",
            "Dice: 0.3333333333333333\n",
            "D F n00 5 n01 1 n10 3 n11 1\n",
            "E A\n",
            "Jacard: 0.14285714285714285\n",
            "Dice: 0.25\n",
            "E A n00 3 n01 4 n10 2 n11 1\n",
            "E B\n",
            "Jacard: 0.16666666666666666\n",
            "Dice: 0.2857142857142857\n",
            "E B n00 4 n01 3 n10 2 n11 1\n",
            "E C\n",
            "Jacard: 0.2857142857142857\n",
            "Dice: 0.4444444444444444\n",
            "E C n00 3 n01 4 n10 1 n11 2\n",
            "E D\n",
            "Jacard: 0.4\n",
            "Dice: 0.5714285714285714\n",
            "E D n00 5 n01 2 n10 1 n11 2\n",
            "E F\n",
            "Jacard: 0.0\n",
            "Dice: 0.0\n",
            "E F n00 5 n01 2 n10 3 n11 0\n",
            "F A\n",
            "Jacard: 0.4\n",
            "Dice: 0.5714285714285714\n",
            "F A n00 5 n01 3 n10 0 n11 2\n",
            "F B\n",
            "Jacard: 0.5\n",
            "Dice: 0.6666666666666666\n",
            "F B n00 6 n01 2 n10 0 n11 2\n",
            "F C\n",
            "Jacard: 0.3333333333333333\n",
            "Dice: 0.5\n",
            "F C n00 4 n01 4 n10 0 n11 2\n",
            "F D\n",
            "Jacard: 0.2\n",
            "Dice: 0.3333333333333333\n",
            "F D n00 5 n01 3 n10 1 n11 1\n",
            "F E\n",
            "Jacard: 0.0\n",
            "Dice: 0.0\n",
            "F E n00 5 n01 3 n10 2 n11 0\n"
          ]
        }
      ],
      "source": [
        "for i in range(a):\n",
        "    for j in range(a):\n",
        "        if(str(data2.iloc[i,:].name)!=str(data2.iloc[j,:].name)):\n",
        "            n10=np.sum(data2.iloc[i,:]-data2.iloc[j,:]==1)\n",
        "            n11=np.sum((data2.iloc[i,:]-data2.iloc[j,:]==0)&(data2.iloc[i,:]==1)&(data2.iloc[j,:]==1))\n",
        "            n00=np.sum((data2.iloc[i,:]-data2.iloc[j,:]==0)&(data2.iloc[i,:]==0)&(data2.iloc[j,:]==0))\n",
        "            n01=np.sum(data2.iloc[j,:]-data2.iloc[i,:]==1)\n",
        "            jacard=n11/(n11++n10+n01)\n",
        "            dice=2*n11/(2*n11+n10+n01)\n",
        "            print(str(data2.iloc[i,:].name)+\" \"+str(data2.iloc[j,:].name))\n",
        "            print(\"Jacard: \"+str(jacard))\n",
        "            print(\"Dice: \"+str(dice))\n",
        "            print(str(data2.iloc[i,:].name)+\" \"+str(data2.iloc[j,:].name)+\" n00 \"+ str(n00)+\" n01 \"+str(n01)+\" n10 \"+ str(n10) +\" n11 \"+str(n11))"
      ]
    },
    {
      "cell_type": "markdown",
      "metadata": {
        "id": "U6NnZOkYuQBV"
      },
      "source": [
        "Zad 3\n"
      ]
    },
    {
      "cell_type": "markdown",
      "source": [
        "1.Jest małe zróżnicowanie wartości cechy w dwóch środkowych ćwiartkach rozkładu"
      ],
      "metadata": {
        "id": "-SyNKjY5i941"
      }
    },
    {
      "cell_type": "markdown",
      "source": [
        "2.Jest duże zróżnicowanie wartości cechy w dwóch środkowych ćwiartkach rozkładu"
      ],
      "metadata": {
        "id": "hY7qI8_Nj61D"
      }
    },
    {
      "cell_type": "markdown",
      "source": [
        "3.Pudełko nr 3 ma większe zróżnicowanie wartości cechy w dwóch środkowych ćwiartkach rozkładu niż pudełko nr 4"
      ],
      "metadata": {
        "id": "h88O76Rvkfu-"
      }
    },
    {
      "cell_type": "markdown",
      "source": [
        "4.Mediana ma tą samą wartość"
      ],
      "metadata": {
        "id": "ZuvaCOyXkxxH"
      }
    },
    {
      "cell_type": "markdown",
      "source": [
        "5.Mediana w przypadku kategorii reprezentowanej przez wykres pudełkowy nr 2 jest większa niż w wypadku nr 4"
      ],
      "metadata": {
        "id": "sZBt2Q5BlUdf"
      }
    },
    {
      "cell_type": "markdown",
      "source": [
        "6.Wartość maksimum w wypadku kategorii nr 1 jest większa niż w wypadku kategorii nr 2, zaś w przypadku minimum wartość ta w wypadku kategorii nr 1 jest mniejsza niż w wypadku kategorii nr 2."
      ],
      "metadata": {
        "id": "56oSmrf_mAka"
      }
    },
    {
      "cell_type": "markdown",
      "metadata": {
        "id": "kkzYUjGduR10"
      },
      "source": [
        "Zad 4\n"
      ]
    },
    {
      "cell_type": "code",
      "source": [
        "XD=np.array([30, 75, 79, 80, 85, 105, 126, 130, 138, 140, 149, 149, 152, 156, 161, 166, 173, 179, 182, 184, 198, 223,\n",
        "240, 242, 245, 247, 254, 274, 291, 384, 470])\n"
      ],
      "metadata": {
        "id": "FUJhAcmFn7Kz"
      },
      "execution_count": 69,
      "outputs": []
    },
    {
      "cell_type": "code",
      "source": [
        "import matplotlib.pyplot as plt"
      ],
      "metadata": {
        "id": "yJXb81YRZN8g"
      },
      "execution_count": 70,
      "outputs": []
    },
    {
      "cell_type": "code",
      "source": [
        "#plt.hist(XD, bins='auto')\n",
        "plt.hist(XD, bins = [0,40,80,120,160,200,240,280,320,360,400,440,480,520])"
      ],
      "metadata": {
        "colab": {
          "base_uri": "https://localhost:8080/",
          "height": 336
        },
        "id": "oeAkskCnYq-P",
        "outputId": "9a2e7b38-ca49-4e3e-f523-567a2541cb83"
      },
      "execution_count": 71,
      "outputs": [
        {
          "output_type": "execute_result",
          "data": {
            "text/plain": [
              "(array([1., 2., 3., 8., 7., 1., 6., 1., 0., 1., 0., 1., 0.]),\n",
              " array([  0,  40,  80, 120, 160, 200, 240, 280, 320, 360, 400, 440, 480,\n",
              "        520]),\n",
              " <a list of 13 Patch objects>)"
            ]
          },
          "metadata": {},
          "execution_count": 71
        },
        {
          "output_type": "display_data",
          "data": {
            "text/plain": [
              "<Figure size 432x288 with 1 Axes>"
            ],
            "image/png": "[encoded data removed]"
          },
          "metadata": {
            "needs_background": "light"
          }
        }
      ]
    },
    {
      "cell_type": "code",
      "source": [
        "df = pd.DataFrame(XD, columns = ['Column_A'])"
      ],
      "metadata": {
        "id": "2Z_izhhSblcX"
      },
      "execution_count": 72,
      "outputs": []
    },
    {
      "cell_type": "code",
      "source": [
        "df.mean()"
      ],
      "metadata": {
        "colab": {
          "base_uri": "https://localhost:8080/"
        },
        "id": "07_Mz6-JdFVD",
        "outputId": "46444fb4-3e3b-41ab-fccc-e6e7e959f8f1"
      },
      "execution_count": 80,
      "outputs": [
        {
          "output_type": "execute_result",
          "data": {
            "text/plain": [
              "Column_A    184.096774\n",
              "dtype: float64"
            ]
          },
          "metadata": {},
          "execution_count": 80
        }
      ]
    },
    {
      "cell_type": "code",
      "source": [
        "df.median()"
      ],
      "metadata": {
        "colab": {
          "base_uri": "https://localhost:8080/"
        },
        "id": "VwRDbqMgeB7h",
        "outputId": "9cc82456-649e-448c-89df-958ca0618446"
      },
      "execution_count": 79,
      "outputs": [
        {
          "output_type": "execute_result",
          "data": {
            "text/plain": [
              "Column_A    166.0\n",
              "dtype: float64"
            ]
          },
          "metadata": {},
          "execution_count": 79
        }
      ]
    },
    {
      "cell_type": "code",
      "source": [
        "dominant=df['Column_A'].value_counts()\n",
        "print(dominant)"
      ],
      "metadata": {
        "colab": {
          "base_uri": "https://localhost:8080/"
        },
        "id": "HzwPdqI-eKTf",
        "outputId": "d95913a6-32fd-453d-e142-4a202c862417"
      },
      "execution_count": 81,
      "outputs": [
        {
          "output_type": "stream",
          "name": "stdout",
          "text": [
            "149    2\n",
            "30     1\n",
            "179    1\n",
            "384    1\n",
            "291    1\n",
            "274    1\n",
            "254    1\n",
            "247    1\n",
            "245    1\n",
            "242    1\n",
            "240    1\n",
            "223    1\n",
            "198    1\n",
            "184    1\n",
            "182    1\n",
            "173    1\n",
            "75     1\n",
            "166    1\n",
            "161    1\n",
            "156    1\n",
            "152    1\n",
            "140    1\n",
            "138    1\n",
            "130    1\n",
            "126    1\n",
            "105    1\n",
            "85     1\n",
            "80     1\n",
            "79     1\n",
            "470    1\n",
            "Name: Column_A, dtype: int64\n"
          ]
        }
      ]
    },
    {
      "cell_type": "code",
      "source": [
        "max(dominant)"
      ],
      "metadata": {
        "colab": {
          "base_uri": "https://localhost:8080/"
        },
        "id": "v6VHTpq5b8_O",
        "outputId": "9f4673d1-2608-4740-84ad-541b67afa724"
      },
      "execution_count": 82,
      "outputs": [
        {
          "output_type": "execute_result",
          "data": {
            "text/plain": [
              "2"
            ]
          },
          "metadata": {},
          "execution_count": 82
        }
      ]
    },
    {
      "cell_type": "code",
      "source": [
        "from scipy.stats import skew"
      ],
      "metadata": {
        "id": "pfhotecsetj2"
      },
      "execution_count": 83,
      "outputs": []
    },
    {
      "cell_type": "code",
      "source": [
        "skew(df)"
      ],
      "metadata": {
        "colab": {
          "base_uri": "https://localhost:8080/"
        },
        "id": "UY9SGKHeevDU",
        "outputId": "96492a27-cdae-4de9-f9f7-475d475eeb7c"
      },
      "execution_count": 84,
      "outputs": [
        {
          "output_type": "execute_result",
          "data": {
            "text/plain": [
              "array([1.11158529])"
            ]
          },
          "metadata": {},
          "execution_count": 84
        }
      ]
    },
    {
      "cell_type": "code",
      "source": [
        "np.quantile(XD,0.0)"
      ],
      "metadata": {
        "colab": {
          "base_uri": "https://localhost:8080/"
        },
        "id": "lOpT9NVFikpg",
        "outputId": "cc98503b-6887-44ca-d674-2e9944d0559a"
      },
      "execution_count": 97,
      "outputs": [
        {
          "output_type": "execute_result",
          "data": {
            "text/plain": [
              "30.0"
            ]
          },
          "metadata": {},
          "execution_count": 97
        }
      ]
    },
    {
      "cell_type": "code",
      "source": [
        "Q1=np.quantile(XD,0.25)"
      ],
      "metadata": {
        "id": "Azfdt7NOghY_"
      },
      "execution_count": 101,
      "outputs": []
    },
    {
      "cell_type": "code",
      "source": [
        "Q2=np.quantile(XD,0.5)"
      ],
      "metadata": {
        "id": "9l8rN0X6fWmf"
      },
      "execution_count": 100,
      "outputs": []
    },
    {
      "cell_type": "code",
      "source": [
        "Q3=np.quantile(XD,0.75)"
      ],
      "metadata": {
        "id": "4F2_KV_tgs0y"
      },
      "execution_count": 99,
      "outputs": []
    },
    {
      "cell_type": "code",
      "source": [
        "Q4=np.quantile(XD,1)"
      ],
      "metadata": {
        "id": "nEqH-NHEhTDj"
      },
      "execution_count": 102,
      "outputs": []
    },
    {
      "cell_type": "code",
      "source": [
        "df.describe()"
      ],
      "metadata": {
        "colab": {
          "base_uri": "https://localhost:8080/",
          "height": 300
        },
        "id": "o6NZ_fwzidC2",
        "outputId": "86054c88-a738-4b23-87bf-203af981f546"
      },
      "execution_count": 103,
      "outputs": [
        {
          "output_type": "execute_result",
          "data": {
            "text/plain": [
              "         Column_A\n",
              "count   31.000000\n",
              "mean   184.096774\n",
              "std     91.510420\n",
              "min     30.000000\n",
              "25%    134.000000\n",
              "50%    166.000000\n",
              "75%    241.000000\n",
              "max    470.000000"
            ],
            "text/html": [
              "\n",
              "  <div id=\"df-19475cc3-d60b-4e19-92a3-c0a550caa8f9\">\n",
              "    <div class=\"colab-df-container\">\n",
              "      <div>\n",
              "<style scoped>\n",
              "    .dataframe tbody tr th:only-of-type {\n",
              "        vertical-align: middle;\n",
              "    }\n",
              "\n",
              "    .dataframe tbody tr th {\n",
              "        vertical-align: top;\n",
              "    }\n",
              "\n",
              "    .dataframe thead th {\n",
              "        text-align: right;\n",
              "    }\n",
              "</style>\n",
              "<table border=\"1\" class=\"dataframe\">\n",
              "  <thead>\n",
              "    <tr style=\"text-align: right;\">\n",
              "      <th></th>\n",
              "      <th>Column_A</th>\n",
              "    </tr>\n",
              "  </thead>\n",
              "  <tbody>\n",
              "    <tr>\n",
              "      <th>count</th>\n",
              "      <td>31.000000</td>\n",
              "    </tr>\n",
              "    <tr>\n",
              "      <th>mean</th>\n",
              "      <td>184.096774</td>\n",
              "    </tr>\n",
              "    <tr>\n",
              "      <th>std</th>\n",
              "      <td>91.510420</td>\n",
              "    </tr>\n",
              "    <tr>\n",
              "      <th>min</th>\n",
              "      <td>30.000000</td>\n",
              "    </tr>\n",
              "    <tr>\n",
              "      <th>25%</th>\n",
              "      <td>134.000000</td>\n",
              "    </tr>\n",
              "    <tr>\n",
              "      <th>50%</th>\n",
              "      <td>166.000000</td>\n",
              "    </tr>\n",
              "    <tr>\n",
              "      <th>75%</th>\n",
              "      <td>241.000000</td>\n",
              "    </tr>\n",
              "    <tr>\n",
              "      <th>max</th>\n",
              "      <td>470.000000</td>\n",
              "    </tr>\n",
              "  </tbody>\n",
              "</table>\n",
              "</div>\n",
              "      <button class=\"colab-df-convert\" onclick=\"convertToInteractive('df-19475cc3-d60b-4e19-92a3-c0a550caa8f9')\"\n",
              "              title=\"Convert this dataframe to an interactive table.\"\n",
              "              style=\"display:none;\">\n",
              "        \n",
              "  <svg xmlns=\"http://www.w3.org/2000/svg\" height=\"24px\"viewBox=\"0 0 24 24\"\n",
              "       width=\"24px\">\n",
              "    <path d=\"M0 0h24v24H0V0z\" fill=\"none\"/>\n",
              "    <path d=\"M18.56 5.44l.94 2.06.94-2.06 2.06-.94-2.06-.94-.94-2.06-.94 2.06-2.06.94zm-11 1L8.5 8.5l.94-2.06 2.06-.94-2.06-.94L8.5 2.5l-.94 2.06-2.06.94zm10 10l.94 2.06.94-2.06 2.06-.94-2.06-.94-.94-2.06-.94 2.06-2.06.94z\"/><path d=\"M17.41 7.96l-1.37-1.37c-.4-.4-.92-.59-1.43-.59-.52 0-1.04.2-1.43.59L10.3 9.45l-7.72 7.72c-.78.78-.78 2.05 0 2.83L4 21.41c.39.39.9.59 1.41.59.51 0 1.02-.2 1.41-.59l7.78-7.78 2.81-2.81c.8-.78.8-2.07 0-2.86zM5.41 20L4 18.59l7.72-7.72 1.47 1.35L5.41 20z\"/>\n",
              "  </svg>\n",
              "      </button>\n",
              "      \n",
              "  <style>\n",
              "    .colab-df-container {\n",
              "      display:flex;\n",
              "      flex-wrap:wrap;\n",
              "      gap: 12px;\n",
              "    }\n",
              "\n",
              "    .colab-df-convert {\n",
              "      background-color: #E8F0FE;\n",
              "      border: none;\n",
              "      border-radius: 50%;\n",
              "      cursor: pointer;\n",
              "      display: none;\n",
              "      fill: #1967D2;\n",
              "      height: 32px;\n",
              "      padding: 0 0 0 0;\n",
              "      width: 32px;\n",
              "    }\n",
              "\n",
              "    .colab-df-convert:hover {\n",
              "      background-color: #E2EBFA;\n",
              "      box-shadow: 0px 1px 2px rgba(60, 64, 67, 0.3), 0px 1px 3px 1px rgba(60, 64, 67, 0.15);\n",
              "      fill: #174EA6;\n",
              "    }\n",
              "\n",
              "    [theme=dark] .colab-df-convert {\n",
              "      background-color: #3B4455;\n",
              "      fill: #D2E3FC;\n",
              "    }\n",
              "\n",
              "    [theme=dark] .colab-df-convert:hover {\n",
              "      background-color: #434B5C;\n",
              "      box-shadow: 0px 1px 3px 1px rgba(0, 0, 0, 0.15);\n",
              "      filter: drop-shadow(0px 1px 2px rgba(0, 0, 0, 0.3));\n",
              "      fill: #FFFFFF;\n",
              "    }\n",
              "  </style>\n",
              "\n",
              "      <script>\n",
              "        const buttonEl =\n",
              "          document.querySelector('#df-19475cc3-d60b-4e19-92a3-c0a550caa8f9 button.colab-df-convert');\n",
              "        buttonEl.style.display =\n",
              "          google.colab.kernel.accessAllowed ? 'block' : 'none';\n",
              "\n",
              "        async function convertToInteractive(key) {\n",
              "          const element = document.querySelector('#df-19475cc3-d60b-4e19-92a3-c0a550caa8f9');\n",
              "          const dataTable =\n",
              "            await google.colab.kernel.invokeFunction('convertToInteractive',\n",
              "                                                     [key], {});\n",
              "          if (!dataTable) return;\n",
              "\n",
              "          const docLinkHtml = 'Like what you see? Visit the ' +\n",
              "            '<a target=\"_blank\" href=https://colab.research.google.com/notebooks/data_table.ipynb>data table notebook</a>'\n",
              "            + ' to learn more about interactive tables.';\n",
              "          element.innerHTML = '';\n",
              "          dataTable['output_type'] = 'display_data';\n",
              "          await google.colab.output.renderOutput(dataTable, element);\n",
              "          const docLink = document.createElement('div');\n",
              "          docLink.innerHTML = docLinkHtml;\n",
              "          element.appendChild(docLink);\n",
              "        }\n",
              "      </script>\n",
              "    </div>\n",
              "  </div>\n",
              "  "
            ]
          },
          "metadata": {},
          "execution_count": 103
        }
      ]
    },
    {
      "cell_type": "code",
      "source": [
        "IQR=Q3-Q1"
      ],
      "metadata": {
        "id": "WvMPWx00jIft"
      },
      "execution_count": 104,
      "outputs": []
    },
    {
      "cell_type": "code",
      "source": [
        "print(IQR)"
      ],
      "metadata": {
        "colab": {
          "base_uri": "https://localhost:8080/"
        },
        "id": "U6_0N1dmjV4X",
        "outputId": "389d6396-92a1-4e08-de80-86a3e5c34a17"
      },
      "execution_count": 105,
      "outputs": [
        {
          "output_type": "stream",
          "name": "stdout",
          "text": [
            "107.0\n"
          ]
        }
      ]
    },
    {
      "cell_type": "code",
      "source": [
        "fig = plt.figure(figsize =(15, 7))\n",
        " \n",
        "# Creating plot\n",
        "plt.boxplot(XD)\n",
        " \n",
        "# show plot\n",
        "plt.show()"
      ],
      "metadata": {
        "colab": {
          "base_uri": "https://localhost:8080/",
          "height": 428
        },
        "id": "fZVYifUVj5fB",
        "outputId": "49f78904-63fb-4b69-c954-54f0701a2722"
      },
      "execution_count": 107,
      "outputs": [
        {
          "output_type": "display_data",
          "data": {
            "text/plain": [
              "<Figure size 1080x504 with 1 Axes>"
            ],
            "image/png": "[encoded data removed]"
          },
          "metadata": {
            "needs_background": "light"
          }
        }
      ]
    },
    {
      "cell_type": "markdown",
      "metadata": {
        "id": "NOVbPg-zuTft"
      },
      "source": [
        "Zad 5"
      ]
    },
    {
      "cell_type": "code",
      "execution_count": 145,
      "metadata": {
        "id": "LbaSTXe1uYDj",
        "colab": {
          "base_uri": "https://localhost:8080/"
        },
        "outputId": "35524f34-b8a2-44b6-d509-f3e2c1b5a4f3"
      },
      "outputs": [
        {
          "output_type": "stream",
          "name": "stdout",
          "text": [
            "    x0   x1  n \n",
            "1  105  110   1\n",
            "2  110  115   6\n",
            "3  115  120  10\n",
            "4  120  125  10\n",
            "5  125  130  15\n",
            "6  130  135   2\n",
            "7  135  140   6\n"
          ]
        }
      ],
      "source": [
        "dataEx5 = pd.read_csv('SkokiNarciarskie.csv', delimiter=\",\")\n",
        "print(dataEx5)"
      ]
    },
    {
      "cell_type": "code",
      "source": [
        "dataEx5.info()"
      ],
      "metadata": {
        "colab": {
          "base_uri": "https://localhost:8080/"
        },
        "id": "IJ37flxPv6N6",
        "outputId": "0e4f5651-2741-440e-a739-26bec69d6805"
      },
      "execution_count": 146,
      "outputs": [
        {
          "output_type": "stream",
          "name": "stdout",
          "text": [
            "<class 'pandas.core.frame.DataFrame'>\n",
            "Int64Index: 7 entries, 1 to 7\n",
            "Data columns (total 3 columns):\n",
            " #   Column  Non-Null Count  Dtype\n",
            "---  ------  --------------  -----\n",
            " 0   x0      7 non-null      int64\n",
            " 1   x1      7 non-null      int64\n",
            " 2   n       7 non-null      int64\n",
            "dtypes: int64(3)\n",
            "memory usage: 224.0 bytes\n"
          ]
        }
      ]
    },
    {
      "cell_type": "code",
      "source": [
        "dataEx5.head()"
      ],
      "metadata": {
        "colab": {
          "base_uri": "https://localhost:8080/",
          "height": 206
        },
        "id": "Flban-yvwgiu",
        "outputId": "be89c8b6-7849-4d59-e7e3-897aed9eef5a"
      },
      "execution_count": 147,
      "outputs": [
        {
          "output_type": "execute_result",
          "data": {
            "text/plain": [
              "    x0   x1  n \n",
              "1  105  110   1\n",
              "2  110  115   6\n",
              "3  115  120  10\n",
              "4  120  125  10\n",
              "5  125  130  15"
            ],
            "text/html": [
              "\n",
              "  <div id=\"df-9dc62a8a-6d53-4388-870e-82bb1788b4da\">\n",
              "    <div class=\"colab-df-container\">\n",
              "      <div>\n",
              "<style scoped>\n",
              "    .dataframe tbody tr th:only-of-type {\n",
              "        vertical-align: middle;\n",
              "    }\n",
              "\n",
              "    .dataframe tbody tr th {\n",
              "        vertical-align: top;\n",
              "    }\n",
              "\n",
              "    .dataframe thead th {\n",
              "        text-align: right;\n",
              "    }\n",
              "</style>\n",
              "<table border=\"1\" class=\"dataframe\">\n",
              "  <thead>\n",
              "    <tr style=\"text-align: right;\">\n",
              "      <th></th>\n",
              "      <th>x0</th>\n",
              "      <th>x1</th>\n",
              "      <th>n</th>\n",
              "    </tr>\n",
              "  </thead>\n",
              "  <tbody>\n",
              "    <tr>\n",
              "      <th>1</th>\n",
              "      <td>105</td>\n",
              "      <td>110</td>\n",
              "      <td>1</td>\n",
              "    </tr>\n",
              "    <tr>\n",
              "      <th>2</th>\n",
              "      <td>110</td>\n",
              "      <td>115</td>\n",
              "      <td>6</td>\n",
              "    </tr>\n",
              "    <tr>\n",
              "      <th>3</th>\n",
              "      <td>115</td>\n",
              "      <td>120</td>\n",
              "      <td>10</td>\n",
              "    </tr>\n",
              "    <tr>\n",
              "      <th>4</th>\n",
              "      <td>120</td>\n",
              "      <td>125</td>\n",
              "      <td>10</td>\n",
              "    </tr>\n",
              "    <tr>\n",
              "      <th>5</th>\n",
              "      <td>125</td>\n",
              "      <td>130</td>\n",
              "      <td>15</td>\n",
              "    </tr>\n",
              "  </tbody>\n",
              "</table>\n",
              "</div>\n",
              "      <button class=\"colab-df-convert\" onclick=\"convertToInteractive('df-9dc62a8a-6d53-4388-870e-82bb1788b4da')\"\n",
              "              title=\"Convert this dataframe to an interactive table.\"\n",
              "              style=\"display:none;\">\n",
              "        \n",
              "  <svg xmlns=\"http://www.w3.org/2000/svg\" height=\"24px\"viewBox=\"0 0 24 24\"\n",
              "       width=\"24px\">\n",
              "    <path d=\"M0 0h24v24H0V0z\" fill=\"none\"/>\n",
              "    <path d=\"M18.56 5.44l.94 2.06.94-2.06 2.06-.94-2.06-.94-.94-2.06-.94 2.06-2.06.94zm-11 1L8.5 8.5l.94-2.06 2.06-.94-2.06-.94L8.5 2.5l-.94 2.06-2.06.94zm10 10l.94 2.06.94-2.06 2.06-.94-2.06-.94-.94-2.06-.94 2.06-2.06.94z\"/><path d=\"M17.41 7.96l-1.37-1.37c-.4-.4-.92-.59-1.43-.59-.52 0-1.04.2-1.43.59L10.3 9.45l-7.72 7.72c-.78.78-.78 2.05 0 2.83L4 21.41c.39.39.9.59 1.41.59.51 0 1.02-.2 1.41-.59l7.78-7.78 2.81-2.81c.8-.78.8-2.07 0-2.86zM5.41 20L4 18.59l7.72-7.72 1.47 1.35L5.41 20z\"/>\n",
              "  </svg>\n",
              "      </button>\n",
              "      \n",
              "  <style>\n",
              "    .colab-df-container {\n",
              "      display:flex;\n",
              "      flex-wrap:wrap;\n",
              "      gap: 12px;\n",
              "    }\n",
              "\n",
              "    .colab-df-convert {\n",
              "      background-color: #E8F0FE;\n",
              "      border: none;\n",
              "      border-radius: 50%;\n",
              "      cursor: pointer;\n",
              "      display: none;\n",
              "      fill: #1967D2;\n",
              "      height: 32px;\n",
              "      padding: 0 0 0 0;\n",
              "      width: 32px;\n",
              "    }\n",
              "\n",
              "    .colab-df-convert:hover {\n",
              "      background-color: #E2EBFA;\n",
              "      box-shadow: 0px 1px 2px rgba(60, 64, 67, 0.3), 0px 1px 3px 1px rgba(60, 64, 67, 0.15);\n",
              "      fill: #174EA6;\n",
              "    }\n",
              "\n",
              "    [theme=dark] .colab-df-convert {\n",
              "      background-color: #3B4455;\n",
              "      fill: #D2E3FC;\n",
              "    }\n",
              "\n",
              "    [theme=dark] .colab-df-convert:hover {\n",
              "      background-color: #434B5C;\n",
              "      box-shadow: 0px 1px 3px 1px rgba(0, 0, 0, 0.15);\n",
              "      filter: drop-shadow(0px 1px 2px rgba(0, 0, 0, 0.3));\n",
              "      fill: #FFFFFF;\n",
              "    }\n",
              "  </style>\n",
              "\n",
              "      <script>\n",
              "        const buttonEl =\n",
              "          document.querySelector('#df-9dc62a8a-6d53-4388-870e-82bb1788b4da button.colab-df-convert');\n",
              "        buttonEl.style.display =\n",
              "          google.colab.kernel.accessAllowed ? 'block' : 'none';\n",
              "\n",
              "        async function convertToInteractive(key) {\n",
              "          const element = document.querySelector('#df-9dc62a8a-6d53-4388-870e-82bb1788b4da');\n",
              "          const dataTable =\n",
              "            await google.colab.kernel.invokeFunction('convertToInteractive',\n",
              "                                                     [key], {});\n",
              "          if (!dataTable) return;\n",
              "\n",
              "          const docLinkHtml = 'Like what you see? Visit the ' +\n",
              "            '<a target=\"_blank\" href=https://colab.research.google.com/notebooks/data_table.ipynb>data table notebook</a>'\n",
              "            + ' to learn more about interactive tables.';\n",
              "          element.innerHTML = '';\n",
              "          dataTable['output_type'] = 'display_data';\n",
              "          await google.colab.output.renderOutput(dataTable, element);\n",
              "          const docLink = document.createElement('div');\n",
              "          docLink.innerHTML = docLinkHtml;\n",
              "          element.appendChild(docLink);\n",
              "        }\n",
              "      </script>\n",
              "    </div>\n",
              "  </div>\n",
              "  "
            ]
          },
          "metadata": {},
          "execution_count": 147
        }
      ]
    },
    {
      "cell_type": "code",
      "source": [
        "dataEx5.describe()"
      ],
      "metadata": {
        "colab": {
          "base_uri": "https://localhost:8080/",
          "height": 300
        },
        "id": "4yi8x2yjuWs4",
        "outputId": "7a423fa4-ba22-4761-8517-18f4a5e74e67"
      },
      "execution_count": 148,
      "outputs": [
        {
          "output_type": "execute_result",
          "data": {
            "text/plain": [
              "               x0          x1         n \n",
              "count    7.000000    7.000000   7.000000\n",
              "mean   120.000000  125.000000   7.142857\n",
              "std     10.801234   10.801234   4.913538\n",
              "min    105.000000  110.000000   1.000000\n",
              "25%    112.500000  117.500000   4.000000\n",
              "50%    120.000000  125.000000   6.000000\n",
              "75%    127.500000  132.500000  10.000000\n",
              "max    135.000000  140.000000  15.000000"
            ],
            "text/html": [
              "\n",
              "  <div id=\"df-93aff13a-fc74-467a-a9f6-5e305d52e458\">\n",
              "    <div class=\"colab-df-container\">\n",
              "      <div>\n",
              "<style scoped>\n",
              "    .dataframe tbody tr th:only-of-type {\n",
              "        vertical-align: middle;\n",
              "    }\n",
              "\n",
              "    .dataframe tbody tr th {\n",
              "        vertical-align: top;\n",
              "    }\n",
              "\n",
              "    .dataframe thead th {\n",
              "        text-align: right;\n",
              "    }\n",
              "</style>\n",
              "<table border=\"1\" class=\"dataframe\">\n",
              "  <thead>\n",
              "    <tr style=\"text-align: right;\">\n",
              "      <th></th>\n",
              "      <th>x0</th>\n",
              "      <th>x1</th>\n",
              "      <th>n</th>\n",
              "    </tr>\n",
              "  </thead>\n",
              "  <tbody>\n",
              "    <tr>\n",
              "      <th>count</th>\n",
              "      <td>7.000000</td>\n",
              "      <td>7.000000</td>\n",
              "      <td>7.000000</td>\n",
              "    </tr>\n",
              "    <tr>\n",
              "      <th>mean</th>\n",
              "      <td>120.000000</td>\n",
              "      <td>125.000000</td>\n",
              "      <td>7.142857</td>\n",
              "    </tr>\n",
              "    <tr>\n",
              "      <th>std</th>\n",
              "      <td>10.801234</td>\n",
              "      <td>10.801234</td>\n",
              "      <td>4.913538</td>\n",
              "    </tr>\n",
              "    <tr>\n",
              "      <th>min</th>\n",
              "      <td>105.000000</td>\n",
              "      <td>110.000000</td>\n",
              "      <td>1.000000</td>\n",
              "    </tr>\n",
              "    <tr>\n",
              "      <th>25%</th>\n",
              "      <td>112.500000</td>\n",
              "      <td>117.500000</td>\n",
              "      <td>4.000000</td>\n",
              "    </tr>\n",
              "    <tr>\n",
              "      <th>50%</th>\n",
              "      <td>120.000000</td>\n",
              "      <td>125.000000</td>\n",
              "      <td>6.000000</td>\n",
              "    </tr>\n",
              "    <tr>\n",
              "      <th>75%</th>\n",
              "      <td>127.500000</td>\n",
              "      <td>132.500000</td>\n",
              "      <td>10.000000</td>\n",
              "    </tr>\n",
              "    <tr>\n",
              "      <th>max</th>\n",
              "      <td>135.000000</td>\n",
              "      <td>140.000000</td>\n",
              "      <td>15.000000</td>\n",
              "    </tr>\n",
              "  </tbody>\n",
              "</table>\n",
              "</div>\n",
              "      <button class=\"colab-df-convert\" onclick=\"convertToInteractive('df-93aff13a-fc74-467a-a9f6-5e305d52e458')\"\n",
              "              title=\"Convert this dataframe to an interactive table.\"\n",
              "              style=\"display:none;\">\n",
              "        \n",
              "  <svg xmlns=\"http://www.w3.org/2000/svg\" height=\"24px\"viewBox=\"0 0 24 24\"\n",
              "       width=\"24px\">\n",
              "    <path d=\"M0 0h24v24H0V0z\" fill=\"none\"/>\n",
              "    <path d=\"M18.56 5.44l.94 2.06.94-2.06 2.06-.94-2.06-.94-.94-2.06-.94 2.06-2.06.94zm-11 1L8.5 8.5l.94-2.06 2.06-.94-2.06-.94L8.5 2.5l-.94 2.06-2.06.94zm10 10l.94 2.06.94-2.06 2.06-.94-2.06-.94-.94-2.06-.94 2.06-2.06.94z\"/><path d=\"M17.41 7.96l-1.37-1.37c-.4-.4-.92-.59-1.43-.59-.52 0-1.04.2-1.43.59L10.3 9.45l-7.72 7.72c-.78.78-.78 2.05 0 2.83L4 21.41c.39.39.9.59 1.41.59.51 0 1.02-.2 1.41-.59l7.78-7.78 2.81-2.81c.8-.78.8-2.07 0-2.86zM5.41 20L4 18.59l7.72-7.72 1.47 1.35L5.41 20z\"/>\n",
              "  </svg>\n",
              "      </button>\n",
              "      \n",
              "  <style>\n",
              "    .colab-df-container {\n",
              "      display:flex;\n",
              "      flex-wrap:wrap;\n",
              "      gap: 12px;\n",
              "    }\n",
              "\n",
              "    .colab-df-convert {\n",
              "      background-color: #E8F0FE;\n",
              "      border: none;\n",
              "      border-radius: 50%;\n",
              "      cursor: pointer;\n",
              "      display: none;\n",
              "      fill: #1967D2;\n",
              "      height: 32px;\n",
              "      padding: 0 0 0 0;\n",
              "      width: 32px;\n",
              "    }\n",
              "\n",
              "    .colab-df-convert:hover {\n",
              "      background-color: #E2EBFA;\n",
              "      box-shadow: 0px 1px 2px rgba(60, 64, 67, 0.3), 0px 1px 3px 1px rgba(60, 64, 67, 0.15);\n",
              "      fill: #174EA6;\n",
              "    }\n",
              "\n",
              "    [theme=dark] .colab-df-convert {\n",
              "      background-color: #3B4455;\n",
              "      fill: #D2E3FC;\n",
              "    }\n",
              "\n",
              "    [theme=dark] .colab-df-convert:hover {\n",
              "      background-color: #434B5C;\n",
              "      box-shadow: 0px 1px 3px 1px rgba(0, 0, 0, 0.15);\n",
              "      filter: drop-shadow(0px 1px 2px rgba(0, 0, 0, 0.3));\n",
              "      fill: #FFFFFF;\n",
              "    }\n",
              "  </style>\n",
              "\n",
              "      <script>\n",
              "        const buttonEl =\n",
              "          document.querySelector('#df-93aff13a-fc74-467a-a9f6-5e305d52e458 button.colab-df-convert');\n",
              "        buttonEl.style.display =\n",
              "          google.colab.kernel.accessAllowed ? 'block' : 'none';\n",
              "\n",
              "        async function convertToInteractive(key) {\n",
              "          const element = document.querySelector('#df-93aff13a-fc74-467a-a9f6-5e305d52e458');\n",
              "          const dataTable =\n",
              "            await google.colab.kernel.invokeFunction('convertToInteractive',\n",
              "                                                     [key], {});\n",
              "          if (!dataTable) return;\n",
              "\n",
              "          const docLinkHtml = 'Like what you see? Visit the ' +\n",
              "            '<a target=\"_blank\" href=https://colab.research.google.com/notebooks/data_table.ipynb>data table notebook</a>'\n",
              "            + ' to learn more about interactive tables.';\n",
              "          element.innerHTML = '';\n",
              "          dataTable['output_type'] = 'display_data';\n",
              "          await google.colab.output.renderOutput(dataTable, element);\n",
              "          const docLink = document.createElement('div');\n",
              "          docLink.innerHTML = docLinkHtml;\n",
              "          element.appendChild(docLink);\n",
              "        }\n",
              "      </script>\n",
              "    </div>\n",
              "  </div>\n",
              "  "
            ]
          },
          "metadata": {},
          "execution_count": 148
        }
      ]
    },
    {
      "cell_type": "code",
      "source": [
        "for zjebane_gowno_Twojej_Strej in dataEx5:\n",
        "  print(zjebane_gowno_Twojej_Strej)"
      ],
      "metadata": {
        "colab": {
          "base_uri": "https://localhost:8080/"
        },
        "id": "M20xQZtdxrNb",
        "outputId": "dd385b12-2ef1-47f2-a965-5fbe0406297f"
      },
      "execution_count": 149,
      "outputs": [
        {
          "output_type": "stream",
          "name": "stdout",
          "text": [
            "x0\n",
            "x1\n",
            "n \n"
          ]
        }
      ]
    },
    {
      "cell_type": "code",
      "source": [
        "test=[]\n",
        "for index, row in dataEx5.iterrows():\n",
        "  print((row[0]+row[1])/2)\n",
        "  for i in range(row[2]):\n",
        "    print(\"test\",i)\n",
        "    test.append((row[0]+row[1])/2)"
      ],
      "metadata": {
        "colab": {
          "base_uri": "https://localhost:8080/"
        },
        "id": "kLcIv3wGyR9W",
        "outputId": "620caedf-f473-4dc7-c97f-c751a2957187"
      },
      "execution_count": 158,
      "outputs": [
        {
          "output_type": "stream",
          "name": "stdout",
          "text": [
            "107.5\n",
            "test 0\n",
            "112.5\n",
            "test 0\n",
            "test 1\n",
            "test 2\n",
            "test 3\n",
            "test 4\n",
            "test 5\n",
            "117.5\n",
            "test 0\n",
            "test 1\n",
            "test 2\n",
            "test 3\n",
            "test 4\n",
            "test 5\n",
            "test 6\n",
            "test 7\n",
            "test 8\n",
            "test 9\n",
            "122.5\n",
            "test 0\n",
            "test 1\n",
            "test 2\n",
            "test 3\n",
            "test 4\n",
            "test 5\n",
            "test 6\n",
            "test 7\n",
            "test 8\n",
            "test 9\n",
            "127.5\n",
            "test 0\n",
            "test 1\n",
            "test 2\n",
            "test 3\n",
            "test 4\n",
            "test 5\n",
            "test 6\n",
            "test 7\n",
            "test 8\n",
            "test 9\n",
            "test 10\n",
            "test 11\n",
            "test 12\n",
            "test 13\n",
            "test 14\n",
            "132.5\n",
            "test 0\n",
            "test 1\n",
            "137.5\n",
            "test 0\n",
            "test 1\n",
            "test 2\n",
            "test 3\n",
            "test 4\n",
            "test 5\n"
          ]
        }
      ]
    },
    {
      "cell_type": "code",
      "source": [
        "test"
      ],
      "metadata": {
        "colab": {
          "base_uri": "https://localhost:8080/"
        },
        "id": "f2jmVqbK132x",
        "outputId": "5fa38140-40fe-4595-a988-e1e9931f0c58"
      },
      "execution_count": 159,
      "outputs": [
        {
          "output_type": "execute_result",
          "data": {
            "text/plain": [
              "[107.5,\n",
              " 112.5,\n",
              " 112.5,\n",
              " 112.5,\n",
              " 112.5,\n",
              " 112.5,\n",
              " 112.5,\n",
              " 117.5,\n",
              " 117.5,\n",
              " 117.5,\n",
              " 117.5,\n",
              " 117.5,\n",
              " 117.5,\n",
              " 117.5,\n",
              " 117.5,\n",
              " 117.5,\n",
              " 117.5,\n",
              " 122.5,\n",
              " 122.5,\n",
              " 122.5,\n",
              " 122.5,\n",
              " 122.5,\n",
              " 122.5,\n",
              " 122.5,\n",
              " 122.5,\n",
              " 122.5,\n",
              " 122.5,\n",
              " 127.5,\n",
              " 127.5,\n",
              " 127.5,\n",
              " 127.5,\n",
              " 127.5,\n",
              " 127.5,\n",
              " 127.5,\n",
              " 127.5,\n",
              " 127.5,\n",
              " 127.5,\n",
              " 127.5,\n",
              " 127.5,\n",
              " 127.5,\n",
              " 127.5,\n",
              " 127.5,\n",
              " 132.5,\n",
              " 132.5,\n",
              " 137.5,\n",
              " 137.5,\n",
              " 137.5,\n",
              " 137.5,\n",
              " 137.5,\n",
              " 137.5]"
            ]
          },
          "metadata": {},
          "execution_count": 159
        }
      ]
    },
    {
      "cell_type": "code",
      "source": [
        "plt.hist(test, bins = [105,110,115,120,125,130,135,140])"
      ],
      "metadata": {
        "colab": {
          "base_uri": "https://localhost:8080/",
          "height": 319
        },
        "id": "w6s-Xcn03_Gc",
        "outputId": "50a82676-7d35-4bdb-c75e-2eaa1ba9d60c"
      },
      "execution_count": 160,
      "outputs": [
        {
          "output_type": "execute_result",
          "data": {
            "text/plain": [
              "(array([ 1.,  6., 10., 10., 15.,  2.,  6.]),\n",
              " array([105, 110, 115, 120, 125, 130, 135, 140]),\n",
              " <a list of 7 Patch objects>)"
            ]
          },
          "metadata": {},
          "execution_count": 160
        },
        {
          "output_type": "display_data",
          "data": {
            "text/plain": [
              "<Figure size 432x288 with 1 Axes>"
            ],
            "image/png": "[encoded data removed]"
          },
          "metadata": {
            "needs_background": "light"
          }
        }
      ]
    },
    {
      "cell_type": "code",
      "source": [
        "df = pd.DataFrame(test, columns = ['Column_A'])"
      ],
      "metadata": {
        "id": "JjTcaS_87-OJ"
      },
      "execution_count": 161,
      "outputs": []
    },
    {
      "cell_type": "code",
      "source": [
        "df.mean()"
      ],
      "metadata": {
        "colab": {
          "base_uri": "https://localhost:8080/"
        },
        "id": "EjaMCTLG8GcO",
        "outputId": "37ac9936-6eaf-4833-a4be-bcc300d91ee4"
      },
      "execution_count": 162,
      "outputs": [
        {
          "output_type": "execute_result",
          "data": {
            "text/plain": [
              "Column_A    123.7\n",
              "dtype: float64"
            ]
          },
          "metadata": {},
          "execution_count": 162
        }
      ]
    },
    {
      "cell_type": "code",
      "source": [
        "df.median()"
      ],
      "metadata": {
        "colab": {
          "base_uri": "https://localhost:8080/"
        },
        "id": "9FHFYfZw8LUF",
        "outputId": "ceca8471-6097-4893-e44d-5e9686c6767a"
      },
      "execution_count": 163,
      "outputs": [
        {
          "output_type": "execute_result",
          "data": {
            "text/plain": [
              "Column_A    122.5\n",
              "dtype: float64"
            ]
          },
          "metadata": {},
          "execution_count": 163
        }
      ]
    },
    {
      "cell_type": "code",
      "source": [
        "dominant=df['Column_A'].value_counts()\n",
        "print(dominant)"
      ],
      "metadata": {
        "colab": {
          "base_uri": "https://localhost:8080/"
        },
        "id": "MUI08UVi8NHf",
        "outputId": "870e2678-196e-484d-d4c1-832913f52e65"
      },
      "execution_count": 164,
      "outputs": [
        {
          "output_type": "stream",
          "name": "stdout",
          "text": [
            "127.5    15\n",
            "117.5    10\n",
            "122.5    10\n",
            "112.5     6\n",
            "137.5     6\n",
            "132.5     2\n",
            "107.5     1\n",
            "Name: Column_A, dtype: int64\n"
          ]
        }
      ]
    },
    {
      "cell_type": "code",
      "source": [
        "max(dominant)"
      ],
      "metadata": {
        "colab": {
          "base_uri": "https://localhost:8080/"
        },
        "id": "_4AExWA-8SXf",
        "outputId": "7cfbf7f8-7ac9-48fc-cb04-a195f931f487"
      },
      "execution_count": 165,
      "outputs": [
        {
          "output_type": "execute_result",
          "data": {
            "text/plain": [
              "15"
            ]
          },
          "metadata": {},
          "execution_count": 165
        }
      ]
    },
    {
      "cell_type": "code",
      "source": [
        "skew(df)"
      ],
      "metadata": {
        "colab": {
          "base_uri": "https://localhost:8080/"
        },
        "id": "z9wrwau08bfr",
        "outputId": "21023181-a647-43b0-d0ce-10c3f440fce4"
      },
      "execution_count": 166,
      "outputs": [
        {
          "output_type": "execute_result",
          "data": {
            "text/plain": [
              "array([0.12821351])"
            ]
          },
          "metadata": {},
          "execution_count": 166
        }
      ]
    },
    {
      "cell_type": "code",
      "source": [
        "np.quantile(test,0.0)"
      ],
      "metadata": {
        "colab": {
          "base_uri": "https://localhost:8080/"
        },
        "id": "kxUPerdK8hxi",
        "outputId": "cfbea2ba-270e-4e62-889a-63ac614bbbe2"
      },
      "execution_count": 168,
      "outputs": [
        {
          "output_type": "execute_result",
          "data": {
            "text/plain": [
              "107.5"
            ]
          },
          "metadata": {},
          "execution_count": 168
        }
      ]
    },
    {
      "cell_type": "code",
      "source": [
        "Q1=np.quantile(test,0.25)"
      ],
      "metadata": {
        "id": "M9jnUkLb8nnP"
      },
      "execution_count": 169,
      "outputs": []
    },
    {
      "cell_type": "code",
      "source": [
        "Q2=np.quantile(test,0.5)"
      ],
      "metadata": {
        "id": "FXPw-wnV8pQ9"
      },
      "execution_count": 170,
      "outputs": []
    },
    {
      "cell_type": "code",
      "source": [
        "Q3=np.quantile(test,0.75)"
      ],
      "metadata": {
        "id": "UBM-1rb08stw"
      },
      "execution_count": 171,
      "outputs": []
    },
    {
      "cell_type": "code",
      "source": [
        "Q4=np.quantile(test,1)"
      ],
      "metadata": {
        "id": "6Cahlt5V8vDg"
      },
      "execution_count": 172,
      "outputs": []
    },
    {
      "cell_type": "code",
      "source": [
        "df.describe()"
      ],
      "metadata": {
        "colab": {
          "base_uri": "https://localhost:8080/",
          "height": 300
        },
        "id": "hsmeG5Pp8z2x",
        "outputId": "35dbd050-d59c-4d31-e2b5-7eb97c0acfe6"
      },
      "execution_count": 173,
      "outputs": [
        {
          "output_type": "execute_result",
          "data": {
            "text/plain": [
              "         Column_A\n",
              "count   50.000000\n",
              "mean   123.700000\n",
              "std      7.730142\n",
              "min    107.500000\n",
              "25%    117.500000\n",
              "50%    122.500000\n",
              "75%    127.500000\n",
              "max    137.500000"
            ],
            "text/html": [
              "\n",
              "  <div id=\"df-78550b0d-8450-4f57-ad41-5b016b4ca020\">\n",
              "    <div class=\"colab-df-container\">\n",
              "      <div>\n",
              "<style scoped>\n",
              "    .dataframe tbody tr th:only-of-type {\n",
              "        vertical-align: middle;\n",
              "    }\n",
              "\n",
              "    .dataframe tbody tr th {\n",
              "        vertical-align: top;\n",
              "    }\n",
              "\n",
              "    .dataframe thead th {\n",
              "        text-align: right;\n",
              "    }\n",
              "</style>\n",
              "<table border=\"1\" class=\"dataframe\">\n",
              "  <thead>\n",
              "    <tr style=\"text-align: right;\">\n",
              "      <th></th>\n",
              "      <th>Column_A</th>\n",
              "    </tr>\n",
              "  </thead>\n",
              "  <tbody>\n",
              "    <tr>\n",
              "      <th>count</th>\n",
              "      <td>50.000000</td>\n",
              "    </tr>\n",
              "    <tr>\n",
              "      <th>mean</th>\n",
              "      <td>123.700000</td>\n",
              "    </tr>\n",
              "    <tr>\n",
              "      <th>std</th>\n",
              "      <td>7.730142</td>\n",
              "    </tr>\n",
              "    <tr>\n",
              "      <th>min</th>\n",
              "      <td>107.500000</td>\n",
              "    </tr>\n",
              "    <tr>\n",
              "      <th>25%</th>\n",
              "      <td>117.500000</td>\n",
              "    </tr>\n",
              "    <tr>\n",
              "      <th>50%</th>\n",
              "      <td>122.500000</td>\n",
              "    </tr>\n",
              "    <tr>\n",
              "      <th>75%</th>\n",
              "      <td>127.500000</td>\n",
              "    </tr>\n",
              "    <tr>\n",
              "      <th>max</th>\n",
              "      <td>137.500000</td>\n",
              "    </tr>\n",
              "  </tbody>\n",
              "</table>\n",
              "</div>\n",
              "      <button class=\"colab-df-convert\" onclick=\"convertToInteractive('df-78550b0d-8450-4f57-ad41-5b016b4ca020')\"\n",
              "              title=\"Convert this dataframe to an interactive table.\"\n",
              "              style=\"display:none;\">\n",
              "        \n",
              "  <svg xmlns=\"http://www.w3.org/2000/svg\" height=\"24px\"viewBox=\"0 0 24 24\"\n",
              "       width=\"24px\">\n",
              "    <path d=\"M0 0h24v24H0V0z\" fill=\"none\"/>\n",
              "    <path d=\"M18.56 5.44l.94 2.06.94-2.06 2.06-.94-2.06-.94-.94-2.06-.94 2.06-2.06.94zm-11 1L8.5 8.5l.94-2.06 2.06-.94-2.06-.94L8.5 2.5l-.94 2.06-2.06.94zm10 10l.94 2.06.94-2.06 2.06-.94-2.06-.94-.94-2.06-.94 2.06-2.06.94z\"/><path d=\"M17.41 7.96l-1.37-1.37c-.4-.4-.92-.59-1.43-.59-.52 0-1.04.2-1.43.59L10.3 9.45l-7.72 7.72c-.78.78-.78 2.05 0 2.83L4 21.41c.39.39.9.59 1.41.59.51 0 1.02-.2 1.41-.59l7.78-7.78 2.81-2.81c.8-.78.8-2.07 0-2.86zM5.41 20L4 18.59l7.72-7.72 1.47 1.35L5.41 20z\"/>\n",
              "  </svg>\n",
              "      </button>\n",
              "      \n",
              "  <style>\n",
              "    .colab-df-container {\n",
              "      display:flex;\n",
              "      flex-wrap:wrap;\n",
              "      gap: 12px;\n",
              "    }\n",
              "\n",
              "    .colab-df-convert {\n",
              "      background-color: #E8F0FE;\n",
              "      border: none;\n",
              "      border-radius: 50%;\n",
              "      cursor: pointer;\n",
              "      display: none;\n",
              "      fill: #1967D2;\n",
              "      height: 32px;\n",
              "      padding: 0 0 0 0;\n",
              "      width: 32px;\n",
              "    }\n",
              "\n",
              "    .colab-df-convert:hover {\n",
              "      background-color: #E2EBFA;\n",
              "      box-shadow: 0px 1px 2px rgba(60, 64, 67, 0.3), 0px 1px 3px 1px rgba(60, 64, 67, 0.15);\n",
              "      fill: #174EA6;\n",
              "    }\n",
              "\n",
              "    [theme=dark] .colab-df-convert {\n",
              "      background-color: #3B4455;\n",
              "      fill: #D2E3FC;\n",
              "    }\n",
              "\n",
              "    [theme=dark] .colab-df-convert:hover {\n",
              "      background-color: #434B5C;\n",
              "      box-shadow: 0px 1px 3px 1px rgba(0, 0, 0, 0.15);\n",
              "      filter: drop-shadow(0px 1px 2px rgba(0, 0, 0, 0.3));\n",
              "      fill: #FFFFFF;\n",
              "    }\n",
              "  </style>\n",
              "\n",
              "      <script>\n",
              "        const buttonEl =\n",
              "          document.querySelector('#df-78550b0d-8450-4f57-ad41-5b016b4ca020 button.colab-df-convert');\n",
              "        buttonEl.style.display =\n",
              "          google.colab.kernel.accessAllowed ? 'block' : 'none';\n",
              "\n",
              "        async function convertToInteractive(key) {\n",
              "          const element = document.querySelector('#df-78550b0d-8450-4f57-ad41-5b016b4ca020');\n",
              "          const dataTable =\n",
              "            await google.colab.kernel.invokeFunction('convertToInteractive',\n",
              "                                                     [key], {});\n",
              "          if (!dataTable) return;\n",
              "\n",
              "          const docLinkHtml = 'Like what you see? Visit the ' +\n",
              "            '<a target=\"_blank\" href=https://colab.research.google.com/notebooks/data_table.ipynb>data table notebook</a>'\n",
              "            + ' to learn more about interactive tables.';\n",
              "          element.innerHTML = '';\n",
              "          dataTable['output_type'] = 'display_data';\n",
              "          await google.colab.output.renderOutput(dataTable, element);\n",
              "          const docLink = document.createElement('div');\n",
              "          docLink.innerHTML = docLinkHtml;\n",
              "          element.appendChild(docLink);\n",
              "        }\n",
              "      </script>\n",
              "    </div>\n",
              "  </div>\n",
              "  "
            ]
          },
          "metadata": {},
          "execution_count": 173
        }
      ]
    },
    {
      "cell_type": "code",
      "source": [
        "IQR=Q3-Q1"
      ],
      "metadata": {
        "id": "U1TuCOAA83tS"
      },
      "execution_count": 174,
      "outputs": []
    },
    {
      "cell_type": "code",
      "source": [
        "print(IQR)"
      ],
      "metadata": {
        "colab": {
          "base_uri": "https://localhost:8080/"
        },
        "id": "GuVkxDu083qh",
        "outputId": "36eed207-75dd-4a06-c0ce-a7e592278312"
      },
      "execution_count": 175,
      "outputs": [
        {
          "output_type": "stream",
          "name": "stdout",
          "text": [
            "10.0\n"
          ]
        }
      ]
    },
    {
      "cell_type": "code",
      "source": [
        "fig = plt.figure(figsize =(15, 7))\n",
        "plt.boxplot(test)\n",
        "plt.show()"
      ],
      "metadata": {
        "colab": {
          "base_uri": "https://localhost:8080/",
          "height": 428
        },
        "id": "FZj7qPbc89fy",
        "outputId": "67332385-a4bb-4e42-8c6c-ea8a6d67b19d"
      },
      "execution_count": 176,
      "outputs": [
        {
          "output_type": "display_data",
          "data": {
            "text/plain": [
              "<Figure size 1080x504 with 1 Axes>"
            ],
            "image/png": "[encoded data removed]"
          },
          "metadata": {
            "needs_background": "light"
          }
        }
      ]
    }
  ],
  "metadata": {
    "colab": {
      "provenance": []
    },
    "kernelspec": {
      "display_name": "Python 3 (ipykernel)",
      "language": "python",
      "name": "python3"
    },
    "language_info": {
      "codemirror_mode": {
        "name": "ipython",
        "version": 3
      },
      "file_extension": ".py",
      "mimetype": "text/x-python",
      "name": "python",
      "nbconvert_exporter": "python",
      "pygments_lexer": "ipython3",
      "version": "3.9.6"
    }
  },
  "nbformat": 4,
  "nbformat_minor": 0
}