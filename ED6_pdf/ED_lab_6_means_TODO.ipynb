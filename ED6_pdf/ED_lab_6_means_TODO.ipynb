{
  "nbformat": 4,
  "nbformat_minor": 0,
  "metadata": {
    "colab": {
      "provenance": []
    },
    "kernelspec": {
      "name": "python3",
      "display_name": "Python 3"
    }
  },
  "cells": [
    {
      "cell_type": "code",
      "metadata": {
        "id": "HKLbX4a1lFT-",
        "colab": {
          "base_uri": "https://localhost:8080/"
        },
        "outputId": "0ed7c327-8660-49e0-a791-abc4dffdacc9"
      },
      "source": [
        "import pandas as pd\n",
        "import numpy as np\n",
        "data = pd.read_csv('k_means_data.csv')\n",
        "print(data)\n",
        "data = np.array(data)"
      ],
      "execution_count": 2,
      "outputs": [
        {
          "output_type": "stream",
          "name": "stdout",
          "text": [
            "        X      Y\n",
            "0   25.23  41.09\n",
            "1   45.10  35.69\n",
            "2   26.59  37.21\n",
            "3   27.80  36.93\n",
            "4   28.56  40.21\n",
            "5   29.49  43.05\n",
            "6   30.04  38.33\n",
            "7   31.25  39.03\n",
            "8   31.35  40.98\n",
            "9   42.95  30.91\n",
            "10  37.30  38.42\n",
            "11  37.39  43.69\n",
            "12  32.53  52.18\n",
            "13  33.60  42.20\n",
            "14  24.60  37.88\n",
            "15  33.76  53.60\n",
            "16  34.97  54.72\n",
            "17  35.84  57.04\n",
            "18  47.16  31.52\n",
            "19  36.58  55.76\n",
            "20  46.82  34.33\n",
            "21  46.98  38.03\n",
            "22  45.34  33.02\n",
            "23  45.70  36.63\n",
            "24  48.12  54.53\n",
            "25  47.25  51.99\n",
            "26  38.48  56.41\n",
            "27  34.10  58.45\n",
            "28  39.81  49.98\n",
            "29  40.47  43.18\n",
            "30  40.66  46.02\n",
            "31  41.59  48.86\n",
            "32  42.05  46.89\n",
            "33  43.04  43.52\n",
            "34  43.34  50.49\n",
            "35  44.17  48.94\n",
            "36  44.23  52.81\n",
            "37  45.19  52.05\n",
            "38  46.68  55.59\n",
            "39  47.98  56.47\n"
          ]
        }
      ]
    },
    {
      "cell_type": "code",
      "metadata": {
        "id": "_2oNXvglUH9L",
        "colab": {
          "base_uri": "https://localhost:8080/"
        },
        "outputId": "25006689-e0b9-4fd7-d6db-f6a6640368a7"
      },
      "source": [
        "Label = np.zeros((len(data),1),dtype=np.float64)\n",
        "Label"
      ],
      "execution_count": 3,
      "outputs": [
        {
          "output_type": "execute_result",
          "data": {
            "text/plain": [
              "array([[0.],\n",
              "       [0.],\n",
              "       [0.],\n",
              "       [0.],\n",
              "       [0.],\n",
              "       [0.],\n",
              "       [0.],\n",
              "       [0.],\n",
              "       [0.],\n",
              "       [0.],\n",
              "       [0.],\n",
              "       [0.],\n",
              "       [0.],\n",
              "       [0.],\n",
              "       [0.],\n",
              "       [0.],\n",
              "       [0.],\n",
              "       [0.],\n",
              "       [0.],\n",
              "       [0.],\n",
              "       [0.],\n",
              "       [0.],\n",
              "       [0.],\n",
              "       [0.],\n",
              "       [0.],\n",
              "       [0.],\n",
              "       [0.],\n",
              "       [0.],\n",
              "       [0.],\n",
              "       [0.],\n",
              "       [0.],\n",
              "       [0.],\n",
              "       [0.],\n",
              "       [0.],\n",
              "       [0.],\n",
              "       [0.],\n",
              "       [0.],\n",
              "       [0.],\n",
              "       [0.],\n",
              "       [0.]])"
            ]
          },
          "metadata": {},
          "execution_count": 3
        }
      ]
    },
    {
      "cell_type": "code",
      "metadata": {
        "id": "hvCP1Ff5VI4H",
        "colab": {
          "base_uri": "https://localhost:8080/"
        },
        "outputId": "a2a98509-00de-437c-8c98-d90c209adfb0"
      },
      "source": [
        "NewData = np.concatenate([data,Label],axis=1)\n",
        "NewData"
      ],
      "execution_count": 4,
      "outputs": [
        {
          "output_type": "execute_result",
          "data": {
            "text/plain": [
              "array([[25.23, 41.09,  0.  ],\n",
              "       [45.1 , 35.69,  0.  ],\n",
              "       [26.59, 37.21,  0.  ],\n",
              "       [27.8 , 36.93,  0.  ],\n",
              "       [28.56, 40.21,  0.  ],\n",
              "       [29.49, 43.05,  0.  ],\n",
              "       [30.04, 38.33,  0.  ],\n",
              "       [31.25, 39.03,  0.  ],\n",
              "       [31.35, 40.98,  0.  ],\n",
              "       [42.95, 30.91,  0.  ],\n",
              "       [37.3 , 38.42,  0.  ],\n",
              "       [37.39, 43.69,  0.  ],\n",
              "       [32.53, 52.18,  0.  ],\n",
              "       [33.6 , 42.2 ,  0.  ],\n",
              "       [24.6 , 37.88,  0.  ],\n",
              "       [33.76, 53.6 ,  0.  ],\n",
              "       [34.97, 54.72,  0.  ],\n",
              "       [35.84, 57.04,  0.  ],\n",
              "       [47.16, 31.52,  0.  ],\n",
              "       [36.58, 55.76,  0.  ],\n",
              "       [46.82, 34.33,  0.  ],\n",
              "       [46.98, 38.03,  0.  ],\n",
              "       [45.34, 33.02,  0.  ],\n",
              "       [45.7 , 36.63,  0.  ],\n",
              "       [48.12, 54.53,  0.  ],\n",
              "       [47.25, 51.99,  0.  ],\n",
              "       [38.48, 56.41,  0.  ],\n",
              "       [34.1 , 58.45,  0.  ],\n",
              "       [39.81, 49.98,  0.  ],\n",
              "       [40.47, 43.18,  0.  ],\n",
              "       [40.66, 46.02,  0.  ],\n",
              "       [41.59, 48.86,  0.  ],\n",
              "       [42.05, 46.89,  0.  ],\n",
              "       [43.04, 43.52,  0.  ],\n",
              "       [43.34, 50.49,  0.  ],\n",
              "       [44.17, 48.94,  0.  ],\n",
              "       [44.23, 52.81,  0.  ],\n",
              "       [45.19, 52.05,  0.  ],\n",
              "       [46.68, 55.59,  0.  ],\n",
              "       [47.98, 56.47,  0.  ]])"
            ]
          },
          "metadata": {},
          "execution_count": 4
        }
      ]
    },
    {
      "cell_type": "code",
      "metadata": {
        "id": "wh5Zc2CM3L3f",
        "colab": {
          "base_uri": "https://localhost:8080/"
        },
        "outputId": "a9ab9012-927e-4212-8136-c607031285ab"
      },
      "source": [
        "minX = int(np.min(data[:,0]))\n",
        "maxX = int(np.max(data[:,0]))\n",
        "minY = int(np.min(data[:,1]))\n",
        "maxY = int(np.max(data[:,1]))\n",
        "print(minX,\" \",maxX,\" \",minY,\" \",maxY)"
      ],
      "execution_count": 5,
      "outputs": [
        {
          "output_type": "stream",
          "name": "stdout",
          "text": [
            "24   48   30   58\n"
          ]
        }
      ]
    },
    {
      "cell_type": "code",
      "metadata": {
        "id": "SC-pn1W4beeF",
        "colab": {
          "base_uri": "https://localhost:8080/"
        },
        "outputId": "c4b08255-09ef-4c44-a811-560c60337f56"
      },
      "source": [
        "import random\n",
        "CentersX = []\n",
        "CentersY = []\n",
        "for _ in range(0,3):\n",
        "  CentersX.append(random.randrange(minX,maxX))\n",
        "  CentersY.append(random.randrange(minY,maxY))\n",
        "\n",
        "CentersX = np.array(CentersX).reshape(3,1)\n",
        "CentersY = np.array(CentersY).reshape(3,1)\n",
        "\n",
        "Centers = np.concatenate([CentersX,CentersY],axis=1).astype(np.float64)\n",
        "\n",
        "Centers"
      ],
      "execution_count": 6,
      "outputs": [
        {
          "output_type": "execute_result",
          "data": {
            "text/plain": [
              "array([[26., 31.],\n",
              "       [25., 57.],\n",
              "       [35., 40.]])"
            ]
          },
          "metadata": {},
          "execution_count": 6
        }
      ]
    },
    {
      "cell_type": "code",
      "metadata": {
        "id": "7m1JoQZE7JWO",
        "colab": {
          "base_uri": "https://localhost:8080/",
          "height": 265
        },
        "outputId": "34c167b4-6d77-4bec-a0e4-cbb73f4cbb45"
      },
      "source": [
        "import matplotlib.pyplot as plt\n",
        "plt.scatter(data[:,0],data[:,1])\n",
        "plt.scatter(Centers[:,0],Centers[:,1])\n",
        "plt.show()"
      ],
      "execution_count": 7,
      "outputs": [
        {
          "output_type": "display_data",
          "data": {
            "text/plain": [
              "<Figure size 432x288 with 1 Axes>"
            ],
            "image/png": "[encoded data removed]"
          },
          "metadata": {
            "needs_background": "light"
          }
        }
      ]
    }
  ]
}