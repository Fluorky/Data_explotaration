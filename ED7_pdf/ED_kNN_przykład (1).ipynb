{
  "nbformat": 4,
  "nbformat_minor": 0,
  "metadata": {
    "colab": {
      "provenance": []
    },
    "kernelspec": {
      "name": "python3",
      "display_name": "Python 3"
    }
  },
  "cells": [
    {
      "cell_type": "code",
      "metadata": {
        "id": "OYtTAs8LfEQy"
      },
      "source": [
        "import pandas as pd\n",
        "import numpy as np\n",
        "import random"
      ],
      "execution_count": 1,
      "outputs": []
    },
    {
      "cell_type": "markdown",
      "metadata": {
        "id": "3_f8QnH31Plt"
      },
      "source": [
        "Generujemy zbiór danych:"
      ]
    },
    {
      "cell_type": "code",
      "metadata": {
        "id": "7UQ90UiMiRJw"
      },
      "source": [
        "X_A,X_B,Y_A,Y_B = [],[],[],[] \n",
        "for j in range(30): \n",
        "  X_A.append(random.random()*4.9) \n",
        "  X_B.append(random.random()*5.1+5)\n",
        "  Y_A.append(random.random()*5.1) \n",
        "  Y_B.append(random.random()*4.9+5)  "
      ],
      "execution_count": 2,
      "outputs": []
    },
    {
      "cell_type": "markdown",
      "metadata": {
        "id": "jwgF_1aW1eTQ"
      },
      "source": [
        "Punkty podzielone są na dwie klasy. Interesuje nas przynależność punktu (5,5) - punkt zielony."
      ]
    },
    {
      "cell_type": "code",
      "metadata": {
        "id": "dCTqBJj6gD0n",
        "colab": {
          "base_uri": "https://localhost:8080/",
          "height": 265
        },
        "outputId": "4919f0c0-df66-4f88-c4dc-b74d812fd776"
      },
      "source": [
        "import matplotlib.pyplot as plt\n",
        "plt.scatter(X_A,Y_A)\n",
        "plt.scatter(X_B,Y_B)\n",
        "plt.scatter(5,5)\n",
        "plt.show()"
      ],
      "execution_count": 3,
      "outputs": [
        {
          "output_type": "display_data",
          "data": {
            "text/plain": [
              "<Figure size 432x288 with 1 Axes>"
            ],
            "image/png": "[encoded data removed]"
          },
          "metadata": {
            "needs_background": "light"
          }
        }
      ]
    },
    {
      "cell_type": "markdown",
      "metadata": {
        "id": "JxRBRbeG13Xb"
      },
      "source": [
        "Łączymy współrzędne w krotki i zapisujemy je w tablicy. Etykiety umieszczamy w tablicy."
      ]
    },
    {
      "cell_type": "code",
      "metadata": {
        "id": "pslsdb5VkV05",
        "colab": {
          "base_uri": "https://localhost:8080/"
        },
        "outputId": "4788dd94-3576-47e8-f26f-24840eba9f83"
      },
      "source": [
        "X_A = np.array(X_A)\n",
        "X_B = np.array(X_B)\n",
        "Y_A = np.array(Y_A)\n",
        "Y_B = np.array(Y_B)\n",
        "X = np.concatenate([X_A,X_B])\n",
        "Y = np.concatenate([Y_A,Y_B])\n",
        "\n",
        "data = list(zip(X,Y))\n",
        "\n",
        "L_0 = np.full((30,),0)\n",
        "L_1 = np.full((30,),1)\n",
        "L = np.concatenate([L_0,L_1])\n",
        "dataC =list(zip(X,Y,L))\n",
        "data,L"
      ],
      "execution_count": 50,
      "outputs": [
        {
          "output_type": "execute_result",
          "data": {
            "text/plain": [
              "([(0.5538771260457623, 0.17692494683198737),\n",
              "  (2.104135867180641, 2.0829092599517893),\n",
              "  (1.5444941934255163, 4.003294021660498),\n",
              "  (3.6298270378552377, 3.305267723287175),\n",
              "  (3.5337182766107547, 2.2293412999249638),\n",
              "  (2.4471498932396347, 3.8975996628323597),\n",
              "  (4.311599756934288, 3.129323409271743),\n",
              "  (4.257125258226131, 3.89952705973703),\n",
              "  (4.43599112892591, 4.518740859242036),\n",
              "  (1.8220902915238648, 2.4747476770202286),\n",
              "  (0.48011749888611044, 1.5950836360447287),\n",
              "  (1.9575214310636806, 0.4862335908652296),\n",
              "  (4.717934841757632, 2.102052609772762),\n",
              "  (1.7746107124397301, 1.8499194331116253),\n",
              "  (1.1333498173554815, 2.3347145954504644),\n",
              "  (3.403507232440234, 4.611648567034556),\n",
              "  (4.669485479855284, 1.3877811377888385),\n",
              "  (0.9614129751620495, 4.338546679344032),\n",
              "  (0.36139220899579344, 3.027937126090144),\n",
              "  (2.05921618048528, 2.2412649255861643),\n",
              "  (3.9124331875778844, 1.941654017226313),\n",
              "  (2.496031140028135, 1.3250880980373778),\n",
              "  (2.892930551329341, 4.059955755870323),\n",
              "  (4.521359432552599, 4.908145198662925),\n",
              "  (2.9219796796113635, 0.5956498114846187),\n",
              "  (4.848492790671941, 2.885183719019854),\n",
              "  (4.0601456180084705, 0.03660885444683843),\n",
              "  (2.858298290238218, 2.6138366983705397),\n",
              "  (4.476411209164806, 2.4970490077476692),\n",
              "  (2.64781212056843, 3.5912877656319493),\n",
              "  (9.504669642545414, 7.005128507329125),\n",
              "  (5.452150618003403, 8.943410170398534),\n",
              "  (9.607656624538825, 7.753990390897641),\n",
              "  (5.99759475761825, 6.250855132239232),\n",
              "  (5.139323594870438, 8.077235817208553),\n",
              "  (5.199363869238435, 9.863317140124739),\n",
              "  (8.465180458455343, 6.833179868122967),\n",
              "  (5.481686330320197, 8.793736089327489),\n",
              "  (8.902352452645825, 8.382733574845977),\n",
              "  (9.219034390084188, 9.812173831440472),\n",
              "  (5.3607783674732365, 6.530126997934978),\n",
              "  (6.747837327221626, 5.7756769439679125),\n",
              "  (5.061256881126596, 7.026458107728223),\n",
              "  (9.671263357862546, 7.577443244252294),\n",
              "  (6.782292797611046, 6.932406089740718),\n",
              "  (7.301706710932772, 8.45972317314279),\n",
              "  (8.609795011982657, 5.864722340782496),\n",
              "  (5.592483534274709, 7.422562451843758),\n",
              "  (7.5474865900603, 7.9352000873166055),\n",
              "  (8.170762643478968, 9.879446186991792),\n",
              "  (9.041561156674113, 9.195256927975326),\n",
              "  (6.846567115659311, 7.697455517030395),\n",
              "  (9.086651923797076, 5.774686614519051),\n",
              "  (8.178049514835504, 8.056109820687318),\n",
              "  (9.592041372042846, 5.209930647676828),\n",
              "  (9.76491230826419, 5.221052863949283),\n",
              "  (8.981644011495556, 8.919295584408747),\n",
              "  (5.69102951709372, 8.017852825441715),\n",
              "  (8.239667146380736, 8.907145291870894),\n",
              "  (7.511043441041924, 7.177174002221364)],\n",
              " array([0, 0, 0, 0, 0, 0, 0, 0, 0, 0, 0, 0, 0, 0, 0, 0, 0, 0, 0, 0, 0, 0,\n",
              "        0, 0, 0, 0, 0, 0, 0, 0, 1, 1, 1, 1, 1, 1, 1, 1, 1, 1, 1, 1, 1, 1,\n",
              "        1, 1, 1, 1, 1, 1, 1, 1, 1, 1, 1, 1, 1, 1, 1, 1]))"
            ]
          },
          "metadata": {},
          "execution_count": 50
        }
      ]
    },
    {
      "cell_type": "markdown",
      "metadata": {
        "id": "Svr-GoOl2DCC"
      },
      "source": [
        "Klasyfikacja dla k=3:"
      ]
    },
    {
      "cell_type": "code",
      "metadata": {
        "id": "QfKRgkV7ax0k",
        "colab": {
          "base_uri": "https://localhost:8080/"
        },
        "outputId": "05254b8d-4fd7-4050-ca7d-d96acdaaab73"
      },
      "source": [
        "from sklearn.neighbors import KNeighborsClassifier\n",
        "\n",
        "neigh = KNeighborsClassifier(n_neighbors=3)\n",
        "neigh.fit(data, L)\n",
        "\n",
        "point = np.array([[2,2]])\n",
        "\n",
        "print(neigh.predict(point))"
      ],
      "execution_count": 46,
      "outputs": [
        {
          "output_type": "stream",
          "name": "stdout",
          "text": [
            "[0]\n"
          ]
        }
      ]
    },
    {
      "cell_type": "markdown",
      "source": [
        "K nieparzyste"
      ],
      "metadata": {
        "id": "cEBOvUsnu0iB"
      }
    },
    {
      "cell_type": "code",
      "source": [
        "import math "
      ],
      "metadata": {
        "id": "wu4IEmOAcomC"
      },
      "execution_count": 51,
      "outputs": []
    },
    {
      "cell_type": "code",
      "source": [
        "#NewData = list(zip(data,L))#np.dstack((dataC,L))"
      ],
      "metadata": {
        "id": "PPsvc5GWibqM"
      },
      "execution_count": 48,
      "outputs": []
    },
    {
      "cell_type": "code",
      "source": [
        "print(dataC)"
      ],
      "metadata": {
        "colab": {
          "base_uri": "https://localhost:8080/"
        },
        "id": "wKjyMLHkkdDy",
        "outputId": "7739f15e-b717-4beb-8ba4-af46cd4ab1e9"
      },
      "execution_count": 53,
      "outputs": [
        {
          "output_type": "stream",
          "name": "stdout",
          "text": [
            "[(0.5538771260457623, 0.17692494683198737, 0), (2.104135867180641, 2.0829092599517893, 0), (1.5444941934255163, 4.003294021660498, 0), (3.6298270378552377, 3.305267723287175, 0), (3.5337182766107547, 2.2293412999249638, 0), (2.4471498932396347, 3.8975996628323597, 0), (4.311599756934288, 3.129323409271743, 0), (4.257125258226131, 3.89952705973703, 0), (4.43599112892591, 4.518740859242036, 0), (1.8220902915238648, 2.4747476770202286, 0), (0.48011749888611044, 1.5950836360447287, 0), (1.9575214310636806, 0.4862335908652296, 0), (4.717934841757632, 2.102052609772762, 0), (1.7746107124397301, 1.8499194331116253, 0), (1.1333498173554815, 2.3347145954504644, 0), (3.403507232440234, 4.611648567034556, 0), (4.669485479855284, 1.3877811377888385, 0), (0.9614129751620495, 4.338546679344032, 0), (0.36139220899579344, 3.027937126090144, 0), (2.05921618048528, 2.2412649255861643, 0), (3.9124331875778844, 1.941654017226313, 0), (2.496031140028135, 1.3250880980373778, 0), (2.892930551329341, 4.059955755870323, 0), (4.521359432552599, 4.908145198662925, 0), (2.9219796796113635, 0.5956498114846187, 0), (4.848492790671941, 2.885183719019854, 0), (4.0601456180084705, 0.03660885444683843, 0), (2.858298290238218, 2.6138366983705397, 0), (4.476411209164806, 2.4970490077476692, 0), (2.64781212056843, 3.5912877656319493, 0), (9.504669642545414, 7.005128507329125, 1), (5.452150618003403, 8.943410170398534, 1), (9.607656624538825, 7.753990390897641, 1), (5.99759475761825, 6.250855132239232, 1), (5.139323594870438, 8.077235817208553, 1), (5.199363869238435, 9.863317140124739, 1), (8.465180458455343, 6.833179868122967, 1), (5.481686330320197, 8.793736089327489, 1), (8.902352452645825, 8.382733574845977, 1), (9.219034390084188, 9.812173831440472, 1), (5.3607783674732365, 6.530126997934978, 1), (6.747837327221626, 5.7756769439679125, 1), (5.061256881126596, 7.026458107728223, 1), (9.671263357862546, 7.577443244252294, 1), (6.782292797611046, 6.932406089740718, 1), (7.301706710932772, 8.45972317314279, 1), (8.609795011982657, 5.864722340782496, 1), (5.592483534274709, 7.422562451843758, 1), (7.5474865900603, 7.9352000873166055, 1), (8.170762643478968, 9.879446186991792, 1), (9.041561156674113, 9.195256927975326, 1), (6.846567115659311, 7.697455517030395, 1), (9.086651923797076, 5.774686614519051, 1), (8.178049514835504, 8.056109820687318, 1), (9.592041372042846, 5.209930647676828, 1), (9.76491230826419, 5.221052863949283, 1), (8.981644011495556, 8.919295584408747, 1), (5.69102951709372, 8.017852825441715, 1), (8.239667146380736, 8.907145291870894, 1), (7.511043441041924, 7.177174002221364, 1)]\n"
          ]
        }
      ]
    },
    {
      "cell_type": "code",
      "source": [
        "point_x = 2\n",
        "point_y = 2\n",
        "num_neighbors=3\n",
        "distances = list()\n",
        "neighbors = list()\n",
        "for point in dataC:\n",
        "  print(point[0],point[1])\n",
        "  i = -1\n",
        "  j= -1\n",
        "  #\n",
        "  #for cent in Centers:\n",
        "  #  print(\"Cent\",cent[0],cent[1])\n",
        "  #  i= i+1\n",
        "  euclidesian=math.sqrt(((point_y-point[1])*(point_y-point[1]))+((point_x-point[0])*(point_x-point[0])))\n",
        "  #if(i==0):\n",
        "     # min=euclidesian\n",
        "     # j=i\n",
        "  #if(min>euclidesian):\n",
        "     # min=euclidesian\n",
        "    #  j=i\n",
        "\n",
        "  print(euclidesian)\n",
        "  print(\"    \")\n",
        "  #print(\"Max\",\" i \", min,i,j)\n",
        "  #point[2]=j\n",
        "\n",
        "  #distances = list()\n",
        " # for train_row in train:\n",
        "   #dist = euclidean_distance(test_row, train_row)\n",
        "  distances.append((point, euclidesian))\n",
        "  distances.sort(key=lambda tup: tup[1])\n",
        "\n",
        "   #neighbors = list()\n",
        "for test in distances:\n",
        "  print(test,\"test\")\n",
        "for i in range(num_neighbors):\n",
        "   neighbors.append(distances[i][0])\n",
        "  \n",
        "print(distances)\n",
        "print(\"******\")\n",
        "print(neighbors)\n",
        "\n",
        "  "
      ],
      "metadata": {
        "colab": {
          "base_uri": "https://localhost:8080/"
        },
        "id": "bEhVxrupsZ8f",
        "outputId": "ca8717b7-6ca8-482f-a5b6-e4d73d12e2fe"
      },
      "execution_count": 57,
      "outputs": [
        {
          "output_type": "stream",
          "name": "stdout",
          "text": [
            "0.5538771260457623 0.17692494683198737\n",
            "2.3269881856290584\n",
            "    \n",
            "2.104135867180641 2.0829092599517893\n",
            "0.13310982014568823\n",
            "    \n",
            "1.5444941934255163 4.003294021660498\n",
            "2.054427530248697\n",
            "    \n",
            "3.6298270378552377 3.305267723287175\n",
            "2.088075669792468\n",
            "    \n",
            "3.5337182766107547 2.2293412999249638\n",
            "1.5507705129583602\n",
            "    \n",
            "2.4471498932396347 3.8975996628323597\n",
            "1.949571108578936\n",
            "    \n",
            "4.311599756934288 3.129323409271743\n",
            "2.572715452394184\n",
            "    \n",
            "4.257125258226131 3.89952705973703\n",
            "2.9500538100169607\n",
            "    \n",
            "4.43599112892591 4.518740859242036\n",
            "3.504013170098115\n",
            "    \n",
            "1.8220902915238648 2.4747476770202286\n",
            "0.5069883836994361\n",
            "    \n",
            "0.48011749888611044 1.5950836360447287\n",
            "1.5728954443925922\n",
            "    \n",
            "1.9575214310636806 0.4862335908652296\n",
            "1.5143622982112488\n",
            "    \n",
            "4.717934841757632 2.102052609772762\n",
            "2.719850094987133\n",
            "    \n",
            "1.7746107124397301 1.8499194331116253\n",
            "0.27078498389767097\n",
            "    \n",
            "1.1333498173554815 2.3347145954504644\n",
            "0.9290405801068894\n",
            "    \n",
            "3.403507232440234 4.611648567034556\n",
            "2.964884616507984\n",
            "    \n",
            "4.669485479855284 1.3877811377888385\n",
            "2.7387889043161624\n",
            "    \n",
            "0.9614129751620495 4.338546679344032\n",
            "2.5588011997091025\n",
            "    \n",
            "0.36139220899579344 3.027937126090144\n",
            "1.9343449092481284\n",
            "    \n",
            "2.05921618048528 2.2412649255861643\n",
            "0.24842568375544966\n",
            "    \n",
            "3.9124331875778844 1.941654017226313\n",
            "1.913323012628849\n",
            "    \n",
            "2.496031140028135 1.3250880980373778\n",
            "0.8375875878309179\n",
            "    \n",
            "2.892930551329341 4.059955755870323\n",
            "2.245159835210089\n",
            "    \n",
            "4.521359432552599 4.908145198662925\n",
            "3.8489689378622156\n",
            "    \n",
            "2.9219796796113635 0.5956498114846187\n",
            "1.6799541605649422\n",
            "    \n",
            "4.848492790671941 2.885183719019854\n",
            "2.9828612765141864\n",
            "    \n",
            "4.0601456180084705 0.03660885444683843\n",
            "2.8458926117891483\n",
            "    \n",
            "2.858298290238218 2.6138366983705397\n",
            "1.0552115651812641\n",
            "    \n",
            "4.476411209164806 2.4970490077476692\n",
            "2.5258009012944864\n",
            "    \n",
            "2.64781212056843 3.5912877656319493\n",
            "1.7180969986020251\n",
            "    \n",
            "9.504669642545414 7.005128507329125\n",
            "9.020608506005646\n",
            "    \n",
            "5.452150618003403 8.943410170398534\n",
            "7.75424326957667\n",
            "    \n",
            "9.607656624538825 7.753990390897641\n",
            "9.538597629391433\n",
            "    \n",
            "5.99759475761825 6.250855132239232\n",
            "5.835283472242075\n",
            "    \n",
            "5.139323594870438 8.077235817208553\n",
            "6.8401862409785865\n",
            "    \n",
            "5.199363869238435 9.863317140124739\n",
            "8.489268850376211\n",
            "    \n",
            "8.465180458455343 6.833179868122967\n",
            "8.07206206604124\n",
            "    \n",
            "5.481686330320197 8.793736089327489\n",
            "7.633936714053194\n",
            "    \n",
            "8.902352452645825 8.382733574845977\n",
            "9.401157230256919\n",
            "    \n",
            "9.219034390084188 9.812173831440472\n",
            "10.636941172059826\n",
            "    \n",
            "5.3607783674732365 6.530126997934978\n",
            "5.640645517376132\n",
            "    \n",
            "6.747837327221626 5.7756769439679125\n",
            "6.066110423572082\n",
            "    \n",
            "5.061256881126596 7.026458107728223\n",
            "5.885284598130469\n",
            "    \n",
            "9.671263357862546 7.577443244252294\n",
            "9.484521846067945\n",
            "    \n",
            "6.782292797611046 6.932406089740718\n",
            "6.870149506102018\n",
            "    \n",
            "7.301706710932772 8.45972317314279\n",
            "8.356800675042305\n",
            "    \n",
            "8.609795011982657 5.864722340782496\n",
            "7.656727033907774\n",
            "    \n",
            "5.592483534274709 7.422562451843758\n",
            "6.504623085789114\n",
            "    \n",
            "7.5474865900603 7.9352000873166055\n",
            "8.124112723453676\n",
            "    \n",
            "8.170762643478968 9.879446186991792\n",
            "10.008195832209472\n",
            "    \n",
            "9.041561156674113 9.195256927975326\n",
            "10.067537225297883\n",
            "    \n",
            "6.846567115659311 7.697455517030395\n",
            "7.4799874448511146\n",
            "    \n",
            "9.086651923797076 5.774686614519051\n",
            "8.029252426402229\n",
            "    \n",
            "8.178049514835504 8.056109820687318\n",
            "8.651286723255945\n",
            "    \n",
            "9.592041372042846 5.209930647676828\n",
            "8.242739044620132\n",
            "    \n",
            "9.76491230826419 5.221052863949283\n",
            "8.40648825059481\n",
            "    \n",
            "8.981644011495556 8.919295584408747\n",
            "9.829547522021048\n",
            "    \n",
            "5.69102951709372 8.017852825441715\n",
            "7.059621202637853\n",
            "    \n",
            "8.239667146380736 8.907145291870894\n",
            "9.308173944476831\n",
            "    \n",
            "7.511043441041924 7.177174002221364\n",
            "7.561397387938818\n",
            "    \n",
            "((2.104135867180641, 2.0829092599517893, 0), 0.13310982014568823) test\n",
            "((2.05921618048528, 2.2412649255861643, 0), 0.24842568375544966) test\n",
            "((1.7746107124397301, 1.8499194331116253, 0), 0.27078498389767097) test\n",
            "((1.8220902915238648, 2.4747476770202286, 0), 0.5069883836994361) test\n",
            "((2.496031140028135, 1.3250880980373778, 0), 0.8375875878309179) test\n",
            "((1.1333498173554815, 2.3347145954504644, 0), 0.9290405801068894) test\n",
            "((2.858298290238218, 2.6138366983705397, 0), 1.0552115651812641) test\n",
            "((1.9575214310636806, 0.4862335908652296, 0), 1.5143622982112488) test\n",
            "((3.5337182766107547, 2.2293412999249638, 0), 1.5507705129583602) test\n",
            "((0.48011749888611044, 1.5950836360447287, 0), 1.5728954443925922) test\n",
            "((2.9219796796113635, 0.5956498114846187, 0), 1.6799541605649422) test\n",
            "((2.64781212056843, 3.5912877656319493, 0), 1.7180969986020251) test\n",
            "((3.9124331875778844, 1.941654017226313, 0), 1.913323012628849) test\n",
            "((0.36139220899579344, 3.027937126090144, 0), 1.9343449092481284) test\n",
            "((2.4471498932396347, 3.8975996628323597, 0), 1.949571108578936) test\n",
            "((1.5444941934255163, 4.003294021660498, 0), 2.054427530248697) test\n",
            "((3.6298270378552377, 3.305267723287175, 0), 2.088075669792468) test\n",
            "((2.892930551329341, 4.059955755870323, 0), 2.245159835210089) test\n",
            "((0.5538771260457623, 0.17692494683198737, 0), 2.3269881856290584) test\n",
            "((4.476411209164806, 2.4970490077476692, 0), 2.5258009012944864) test\n",
            "((0.9614129751620495, 4.338546679344032, 0), 2.5588011997091025) test\n",
            "((4.311599756934288, 3.129323409271743, 0), 2.572715452394184) test\n",
            "((4.717934841757632, 2.102052609772762, 0), 2.719850094987133) test\n",
            "((4.669485479855284, 1.3877811377888385, 0), 2.7387889043161624) test\n",
            "((4.0601456180084705, 0.03660885444683843, 0), 2.8458926117891483) test\n",
            "((4.257125258226131, 3.89952705973703, 0), 2.9500538100169607) test\n",
            "((3.403507232440234, 4.611648567034556, 0), 2.964884616507984) test\n",
            "((4.848492790671941, 2.885183719019854, 0), 2.9828612765141864) test\n",
            "((4.43599112892591, 4.518740859242036, 0), 3.504013170098115) test\n",
            "((4.521359432552599, 4.908145198662925, 0), 3.8489689378622156) test\n",
            "((5.3607783674732365, 6.530126997934978, 1), 5.640645517376132) test\n",
            "((5.99759475761825, 6.250855132239232, 1), 5.835283472242075) test\n",
            "((5.061256881126596, 7.026458107728223, 1), 5.885284598130469) test\n",
            "((6.747837327221626, 5.7756769439679125, 1), 6.066110423572082) test\n",
            "((5.592483534274709, 7.422562451843758, 1), 6.504623085789114) test\n",
            "((5.139323594870438, 8.077235817208553, 1), 6.8401862409785865) test\n",
            "((6.782292797611046, 6.932406089740718, 1), 6.870149506102018) test\n",
            "((5.69102951709372, 8.017852825441715, 1), 7.059621202637853) test\n",
            "((6.846567115659311, 7.697455517030395, 1), 7.4799874448511146) test\n",
            "((7.511043441041924, 7.177174002221364, 1), 7.561397387938818) test\n",
            "((5.481686330320197, 8.793736089327489, 1), 7.633936714053194) test\n",
            "((8.609795011982657, 5.864722340782496, 1), 7.656727033907774) test\n",
            "((5.452150618003403, 8.943410170398534, 1), 7.75424326957667) test\n",
            "((9.086651923797076, 5.774686614519051, 1), 8.029252426402229) test\n",
            "((8.465180458455343, 6.833179868122967, 1), 8.07206206604124) test\n",
            "((7.5474865900603, 7.9352000873166055, 1), 8.124112723453676) test\n",
            "((9.592041372042846, 5.209930647676828, 1), 8.242739044620132) test\n",
            "((7.301706710932772, 8.45972317314279, 1), 8.356800675042305) test\n",
            "((9.76491230826419, 5.221052863949283, 1), 8.40648825059481) test\n",
            "((5.199363869238435, 9.863317140124739, 1), 8.489268850376211) test\n",
            "((8.178049514835504, 8.056109820687318, 1), 8.651286723255945) test\n",
            "((9.504669642545414, 7.005128507329125, 1), 9.020608506005646) test\n",
            "((8.239667146380736, 8.907145291870894, 1), 9.308173944476831) test\n",
            "((8.902352452645825, 8.382733574845977, 1), 9.401157230256919) test\n",
            "((9.671263357862546, 7.577443244252294, 1), 9.484521846067945) test\n",
            "((9.607656624538825, 7.753990390897641, 1), 9.538597629391433) test\n",
            "((8.981644011495556, 8.919295584408747, 1), 9.829547522021048) test\n",
            "((8.170762643478968, 9.879446186991792, 1), 10.008195832209472) test\n",
            "((9.041561156674113, 9.195256927975326, 1), 10.067537225297883) test\n",
            "((9.219034390084188, 9.812173831440472, 1), 10.636941172059826) test\n",
            "[((2.104135867180641, 2.0829092599517893, 0), 0.13310982014568823), ((2.05921618048528, 2.2412649255861643, 0), 0.24842568375544966), ((1.7746107124397301, 1.8499194331116253, 0), 0.27078498389767097), ((1.8220902915238648, 2.4747476770202286, 0), 0.5069883836994361), ((2.496031140028135, 1.3250880980373778, 0), 0.8375875878309179), ((1.1333498173554815, 2.3347145954504644, 0), 0.9290405801068894), ((2.858298290238218, 2.6138366983705397, 0), 1.0552115651812641), ((1.9575214310636806, 0.4862335908652296, 0), 1.5143622982112488), ((3.5337182766107547, 2.2293412999249638, 0), 1.5507705129583602), ((0.48011749888611044, 1.5950836360447287, 0), 1.5728954443925922), ((2.9219796796113635, 0.5956498114846187, 0), 1.6799541605649422), ((2.64781212056843, 3.5912877656319493, 0), 1.7180969986020251), ((3.9124331875778844, 1.941654017226313, 0), 1.913323012628849), ((0.36139220899579344, 3.027937126090144, 0), 1.9343449092481284), ((2.4471498932396347, 3.8975996628323597, 0), 1.949571108578936), ((1.5444941934255163, 4.003294021660498, 0), 2.054427530248697), ((3.6298270378552377, 3.305267723287175, 0), 2.088075669792468), ((2.892930551329341, 4.059955755870323, 0), 2.245159835210089), ((0.5538771260457623, 0.17692494683198737, 0), 2.3269881856290584), ((4.476411209164806, 2.4970490077476692, 0), 2.5258009012944864), ((0.9614129751620495, 4.338546679344032, 0), 2.5588011997091025), ((4.311599756934288, 3.129323409271743, 0), 2.572715452394184), ((4.717934841757632, 2.102052609772762, 0), 2.719850094987133), ((4.669485479855284, 1.3877811377888385, 0), 2.7387889043161624), ((4.0601456180084705, 0.03660885444683843, 0), 2.8458926117891483), ((4.257125258226131, 3.89952705973703, 0), 2.9500538100169607), ((3.403507232440234, 4.611648567034556, 0), 2.964884616507984), ((4.848492790671941, 2.885183719019854, 0), 2.9828612765141864), ((4.43599112892591, 4.518740859242036, 0), 3.504013170098115), ((4.521359432552599, 4.908145198662925, 0), 3.8489689378622156), ((5.3607783674732365, 6.530126997934978, 1), 5.640645517376132), ((5.99759475761825, 6.250855132239232, 1), 5.835283472242075), ((5.061256881126596, 7.026458107728223, 1), 5.885284598130469), ((6.747837327221626, 5.7756769439679125, 1), 6.066110423572082), ((5.592483534274709, 7.422562451843758, 1), 6.504623085789114), ((5.139323594870438, 8.077235817208553, 1), 6.8401862409785865), ((6.782292797611046, 6.932406089740718, 1), 6.870149506102018), ((5.69102951709372, 8.017852825441715, 1), 7.059621202637853), ((6.846567115659311, 7.697455517030395, 1), 7.4799874448511146), ((7.511043441041924, 7.177174002221364, 1), 7.561397387938818), ((5.481686330320197, 8.793736089327489, 1), 7.633936714053194), ((8.609795011982657, 5.864722340782496, 1), 7.656727033907774), ((5.452150618003403, 8.943410170398534, 1), 7.75424326957667), ((9.086651923797076, 5.774686614519051, 1), 8.029252426402229), ((8.465180458455343, 6.833179868122967, 1), 8.07206206604124), ((7.5474865900603, 7.9352000873166055, 1), 8.124112723453676), ((9.592041372042846, 5.209930647676828, 1), 8.242739044620132), ((7.301706710932772, 8.45972317314279, 1), 8.356800675042305), ((9.76491230826419, 5.221052863949283, 1), 8.40648825059481), ((5.199363869238435, 9.863317140124739, 1), 8.489268850376211), ((8.178049514835504, 8.056109820687318, 1), 8.651286723255945), ((9.504669642545414, 7.005128507329125, 1), 9.020608506005646), ((8.239667146380736, 8.907145291870894, 1), 9.308173944476831), ((8.902352452645825, 8.382733574845977, 1), 9.401157230256919), ((9.671263357862546, 7.577443244252294, 1), 9.484521846067945), ((9.607656624538825, 7.753990390897641, 1), 9.538597629391433), ((8.981644011495556, 8.919295584408747, 1), 9.829547522021048), ((8.170762643478968, 9.879446186991792, 1), 10.008195832209472), ((9.041561156674113, 9.195256927975326, 1), 10.067537225297883), ((9.219034390084188, 9.812173831440472, 1), 10.636941172059826)]\n",
            "******\n",
            "[(2.104135867180641, 2.0829092599517893, 0), (2.05921618048528, 2.2412649255861643, 0), (1.7746107124397301, 1.8499194331116253, 0)]\n",
            "0\n",
            "0\n",
            "0\n"
          ]
        }
      ]
    },
    {
      "cell_type": "code",
      "source": [
        "classesArr = np.array([])\n",
        "for classes in range(num_neighbors):#neighbors:\n",
        "  print(neighbors[classes][2])\n",
        "  classesArr = np.append(classesArr,neighbors[classes][2])"
      ],
      "metadata": {
        "colab": {
          "base_uri": "https://localhost:8080/"
        },
        "id": "YfaMjcsPoInt",
        "outputId": "ce3ac074-939f-45dc-e537-7752487e1a04"
      },
      "execution_count": 79,
      "outputs": [
        {
          "output_type": "stream",
          "name": "stdout",
          "text": [
            "0\n",
            "0\n",
            "0\n"
          ]
        }
      ]
    },
    {
      "cell_type": "code",
      "source": [
        "classesArr = np.append(classesArr,2)"
      ],
      "metadata": {
        "id": "ClLxF40FpyT5"
      },
      "execution_count": 80,
      "outputs": []
    },
    {
      "cell_type": "code",
      "source": [
        "classesArr = classesArr.astype(int)\n",
        "counts = np.bincount(classesArr)\n",
        "print(np.argmax(counts))"
      ],
      "metadata": {
        "colab": {
          "base_uri": "https://localhost:8080/"
        },
        "id": "92znMg-AotqB",
        "outputId": "25ef04ac-ac35-425a-dab8-1f4f8260a4d9"
      },
      "execution_count": 81,
      "outputs": [
        {
          "output_type": "stream",
          "name": "stdout",
          "text": [
            "0\n"
          ]
        }
      ]
    }
  ]
}