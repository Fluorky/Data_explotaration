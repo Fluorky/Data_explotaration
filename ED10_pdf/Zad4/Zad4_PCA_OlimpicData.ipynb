{
  "cells": [
    {
      "cell_type": "markdown",
      "metadata": {
        "id": "r_0JmE5H70Fm"
      },
      "source": [
        "# **ANALIZA SKŁADOWYCH GŁÓWNYCH**"
      ]
    },
    {
      "cell_type": "code",
      "execution_count": null,
      "metadata": {
        "id": "M6GurYaAqeqA"
      },
      "outputs": [],
      "source": [
        "import numpy as np\n",
        "import matplotlib.pyplot as plt\n",
        "import pandas as pd\n",
        "import seaborn as sb\n",
        "from sklearn.decomposition import PCA"
      ]
    },
    {
      "cell_type": "markdown",
      "metadata": {
        "id": "CEoGIVds7w8K"
      },
      "source": [
        "Załadowanie zbioru danych:"
      ]
    },
    {
      "cell_type": "code",
      "execution_count": null,
      "metadata": {
        "colab": {
          "base_uri": "https://localhost:8080/",
          "height": 415
        },
        "id": "Faks-Nb0vIW4",
        "outputId": "8d492fe1-a2f6-4a3e-d3a0-9bfd6e20d8d2"
      },
      "outputs": [
        {
          "data": {
            "text/html": [
              "<div>\n",
              "<style scoped>\n",
              "    .dataframe tbody tr th:only-of-type {\n",
              "        vertical-align: middle;\n",
              "    }\n",
              "\n",
              "    .dataframe tbody tr th {\n",
              "        vertical-align: top;\n",
              "    }\n",
              "\n",
              "    .dataframe thead th {\n",
              "        text-align: right;\n",
              "    }\n",
              "</style>\n",
              "<table border=\"1\" class=\"dataframe\">\n",
              "  <thead>\n",
              "    <tr style=\"text-align: right;\">\n",
              "      <th></th>\n",
              "      <th>name</th>\n",
              "      <th>hurdles</th>\n",
              "      <th>highjump</th>\n",
              "      <th>shot</th>\n",
              "      <th>run200m</th>\n",
              "      <th>longjump</th>\n",
              "      <th>javelin</th>\n",
              "      <th>run800m</th>\n",
              "    </tr>\n",
              "  </thead>\n",
              "  <tbody>\n",
              "    <tr>\n",
              "      <th>0</th>\n",
              "      <td>JoynerKersee(USA)</td>\n",
              "      <td>12.69</td>\n",
              "      <td>1.86</td>\n",
              "      <td>15.80</td>\n",
              "      <td>22.56</td>\n",
              "      <td>7.27</td>\n",
              "      <td>45.66</td>\n",
              "      <td>128.51</td>\n",
              "    </tr>\n",
              "    <tr>\n",
              "      <th>1</th>\n",
              "      <td>John(GDR)</td>\n",
              "      <td>12.85</td>\n",
              "      <td>1.80</td>\n",
              "      <td>16.23</td>\n",
              "      <td>23.65</td>\n",
              "      <td>6.71</td>\n",
              "      <td>42.56</td>\n",
              "      <td>126.12</td>\n",
              "    </tr>\n",
              "    <tr>\n",
              "      <th>2</th>\n",
              "      <td>Behmer(GDR)</td>\n",
              "      <td>13.20</td>\n",
              "      <td>1.83</td>\n",
              "      <td>14.20</td>\n",
              "      <td>23.10</td>\n",
              "      <td>6.68</td>\n",
              "      <td>44.54</td>\n",
              "      <td>124.20</td>\n",
              "    </tr>\n",
              "    <tr>\n",
              "      <th>3</th>\n",
              "      <td>Sablovskaite(URS)</td>\n",
              "      <td>13.61</td>\n",
              "      <td>1.80</td>\n",
              "      <td>15.23</td>\n",
              "      <td>23.92</td>\n",
              "      <td>6.25</td>\n",
              "      <td>42.78</td>\n",
              "      <td>132.24</td>\n",
              "    </tr>\n",
              "    <tr>\n",
              "      <th>4</th>\n",
              "      <td>Choubenkova(URS)</td>\n",
              "      <td>13.51</td>\n",
              "      <td>1.74</td>\n",
              "      <td>14.76</td>\n",
              "      <td>23.93</td>\n",
              "      <td>6.32</td>\n",
              "      <td>47.46</td>\n",
              "      <td>127.90</td>\n",
              "    </tr>\n",
              "    <tr>\n",
              "      <th>5</th>\n",
              "      <td>Schulz(GDR)</td>\n",
              "      <td>13.75</td>\n",
              "      <td>1.83</td>\n",
              "      <td>13.50</td>\n",
              "      <td>24.65</td>\n",
              "      <td>6.33</td>\n",
              "      <td>42.82</td>\n",
              "      <td>125.79</td>\n",
              "    </tr>\n",
              "    <tr>\n",
              "      <th>6</th>\n",
              "      <td>Fleming(AUS)</td>\n",
              "      <td>13.38</td>\n",
              "      <td>1.80</td>\n",
              "      <td>12.88</td>\n",
              "      <td>23.59</td>\n",
              "      <td>6.37</td>\n",
              "      <td>40.28</td>\n",
              "      <td>132.54</td>\n",
              "    </tr>\n",
              "    <tr>\n",
              "      <th>7</th>\n",
              "      <td>Greiner(USA)</td>\n",
              "      <td>13.55</td>\n",
              "      <td>1.80</td>\n",
              "      <td>14.13</td>\n",
              "      <td>24.48</td>\n",
              "      <td>6.47</td>\n",
              "      <td>38.00</td>\n",
              "      <td>133.65</td>\n",
              "    </tr>\n",
              "    <tr>\n",
              "      <th>8</th>\n",
              "      <td>Lajbnerova(CZE)</td>\n",
              "      <td>13.63</td>\n",
              "      <td>1.83</td>\n",
              "      <td>14.28</td>\n",
              "      <td>24.86</td>\n",
              "      <td>6.11</td>\n",
              "      <td>42.20</td>\n",
              "      <td>136.05</td>\n",
              "    </tr>\n",
              "    <tr>\n",
              "      <th>9</th>\n",
              "      <td>Bouraga(URS)</td>\n",
              "      <td>13.25</td>\n",
              "      <td>1.77</td>\n",
              "      <td>12.62</td>\n",
              "      <td>23.59</td>\n",
              "      <td>6.28</td>\n",
              "      <td>39.06</td>\n",
              "      <td>134.74</td>\n",
              "    </tr>\n",
              "    <tr>\n",
              "      <th>10</th>\n",
              "      <td>Wijnsma(HOL)</td>\n",
              "      <td>13.75</td>\n",
              "      <td>1.86</td>\n",
              "      <td>13.01</td>\n",
              "      <td>25.03</td>\n",
              "      <td>6.34</td>\n",
              "      <td>37.86</td>\n",
              "      <td>131.49</td>\n",
              "    </tr>\n",
              "    <tr>\n",
              "      <th>11</th>\n",
              "      <td>Dimitrova(BUL)</td>\n",
              "      <td>13.24</td>\n",
              "      <td>1.80</td>\n",
              "      <td>12.88</td>\n",
              "      <td>23.59</td>\n",
              "      <td>6.37</td>\n",
              "      <td>40.28</td>\n",
              "      <td>132.54</td>\n",
              "    </tr>\n",
              "    <tr>\n",
              "      <th>12</th>\n",
              "      <td>Scheider(SWI)</td>\n",
              "      <td>13.85</td>\n",
              "      <td>1.86</td>\n",
              "      <td>11.58</td>\n",
              "      <td>24.87</td>\n",
              "      <td>6.05</td>\n",
              "      <td>47.50</td>\n",
              "      <td>134.93</td>\n",
              "    </tr>\n",
              "    <tr>\n",
              "      <th>13</th>\n",
              "      <td>Braun(FRG)</td>\n",
              "      <td>13.71</td>\n",
              "      <td>1.83</td>\n",
              "      <td>13.16</td>\n",
              "      <td>24.78</td>\n",
              "      <td>6.12</td>\n",
              "      <td>44.58</td>\n",
              "      <td>142.82</td>\n",
              "    </tr>\n",
              "    <tr>\n",
              "      <th>14</th>\n",
              "      <td>Ruotsalainen(FIN)</td>\n",
              "      <td>13.79</td>\n",
              "      <td>1.80</td>\n",
              "      <td>12.32</td>\n",
              "      <td>24.61</td>\n",
              "      <td>6.08</td>\n",
              "      <td>45.44</td>\n",
              "      <td>137.06</td>\n",
              "    </tr>\n",
              "    <tr>\n",
              "      <th>15</th>\n",
              "      <td>Yuping(CHN)</td>\n",
              "      <td>13.93</td>\n",
              "      <td>1.86</td>\n",
              "      <td>14.21</td>\n",
              "      <td>25.00</td>\n",
              "      <td>6.40</td>\n",
              "      <td>38.60</td>\n",
              "      <td>146.67</td>\n",
              "    </tr>\n",
              "    <tr>\n",
              "      <th>16</th>\n",
              "      <td>Hagger(GB)</td>\n",
              "      <td>13.47</td>\n",
              "      <td>1.80</td>\n",
              "      <td>12.75</td>\n",
              "      <td>25.47</td>\n",
              "      <td>6.34</td>\n",
              "      <td>35.76</td>\n",
              "      <td>138.48</td>\n",
              "    </tr>\n",
              "  </tbody>\n",
              "</table>\n",
              "</div>"
            ],
            "text/plain": [
              "                 name  hurdles  highjump   shot  run200m  longjump  javelin  \\\n",
              "0   JoynerKersee(USA)    12.69      1.86  15.80    22.56      7.27    45.66   \n",
              "1           John(GDR)    12.85      1.80  16.23    23.65      6.71    42.56   \n",
              "2         Behmer(GDR)    13.20      1.83  14.20    23.10      6.68    44.54   \n",
              "3   Sablovskaite(URS)    13.61      1.80  15.23    23.92      6.25    42.78   \n",
              "4    Choubenkova(URS)    13.51      1.74  14.76    23.93      6.32    47.46   \n",
              "5         Schulz(GDR)    13.75      1.83  13.50    24.65      6.33    42.82   \n",
              "6        Fleming(AUS)    13.38      1.80  12.88    23.59      6.37    40.28   \n",
              "7        Greiner(USA)    13.55      1.80  14.13    24.48      6.47    38.00   \n",
              "8     Lajbnerova(CZE)    13.63      1.83  14.28    24.86      6.11    42.20   \n",
              "9        Bouraga(URS)    13.25      1.77  12.62    23.59      6.28    39.06   \n",
              "10       Wijnsma(HOL)    13.75      1.86  13.01    25.03      6.34    37.86   \n",
              "11     Dimitrova(BUL)    13.24      1.80  12.88    23.59      6.37    40.28   \n",
              "12      Scheider(SWI)    13.85      1.86  11.58    24.87      6.05    47.50   \n",
              "13         Braun(FRG)    13.71      1.83  13.16    24.78      6.12    44.58   \n",
              "14  Ruotsalainen(FIN)    13.79      1.80  12.32    24.61      6.08    45.44   \n",
              "15        Yuping(CHN)    13.93      1.86  14.21    25.00      6.40    38.60   \n",
              "16         Hagger(GB)    13.47      1.80  12.75    25.47      6.34    35.76   \n",
              "\n",
              "    run800m  \n",
              "0    128.51  \n",
              "1    126.12  \n",
              "2    124.20  \n",
              "3    132.24  \n",
              "4    127.90  \n",
              "5    125.79  \n",
              "6    132.54  \n",
              "7    133.65  \n",
              "8    136.05  \n",
              "9    134.74  \n",
              "10   131.49  \n",
              "11   132.54  \n",
              "12   134.93  \n",
              "13   142.82  \n",
              "14   137.06  \n",
              "15   146.67  \n",
              "16   138.48  "
            ]
          },
          "execution_count": 2,
          "metadata": {},
          "output_type": "execute_result"
        }
      ],
      "source": [
        "data=pd.read_csv('PCA_OlimpicData.csv')\n",
        "data"
      ]
    },
    {
      "cell_type": "code",
      "execution_count": null,
      "metadata": {
        "id": "3YRQxf187_ku",
        "outputId": "4e6fc234-bb3b-43a6-d905-a74c06ccb33f"
      },
      "outputs": [
        {
          "name": "stderr",
          "output_type": "stream",
          "text": [
            "/var/folders/wy/7w1mlgcx4vjfgbpvhlk2y7m00000gn/T/ipykernel_53160/2057684327.py:1: FutureWarning: The default value of numeric_only in DataFrame.corr is deprecated. In a future version, it will default to False. Select only valid columns or specify the value of numeric_only to silence this warning.\n",
            "  corr=data.corr()\n"
          ]
        }
      ],
      "source": [
        "corr=data.corr()"
      ]
    },
    {
      "cell_type": "code",
      "execution_count": null,
      "metadata": {
        "id": "2xkJX3_V7_ku",
        "outputId": "15ca1b67-8037-4780-b0aa-7fa3dac64d2b"
      },
      "outputs": [
        {
          "data": {
            "text/plain": [
              "<AxesSubplot: >"
            ]
          },
          "execution_count": 10,
          "metadata": {},
          "output_type": "execute_result"
        },
        {
          "data": {
            "image/png": "[encoded data removed]",
            "text/plain": [
              "<Figure size 640x480 with 2 Axes>"
            ]
          },
          "metadata": {},
          "output_type": "display_data"
        }
      ],
      "source": [
        "sb.heatmap(corr,xticklabels=corr.columns,yticklabels=corr.columns,\n",
        "            cmap='RdBu_r',\n",
        "            annot=True,\n",
        "            linewidth=0.5)"
      ]
    },
    {
      "cell_type": "code",
      "execution_count": null,
      "metadata": {
        "id": "XAwrwfsv7_kv",
        "outputId": "3bff2de2-0732-47ad-fb8e-772f1844ab57"
      },
      "outputs": [
        {
          "name": "stderr",
          "output_type": "stream",
          "text": [
            "/var/folders/wy/7w1mlgcx4vjfgbpvhlk2y7m00000gn/T/ipykernel_53160/2744677357.py:1: FutureWarning: The default value of numeric_only in DataFrame.corr is deprecated. In a future version, it will default to False. Select only valid columns or specify the value of numeric_only to silence this warning.\n",
            "  CorrMatrix = np.array(data.corr())\n"
          ]
        },
        {
          "data": {
            "text/plain": [
              "array([[ 1.        ,  0.18388312, -0.54967946,  0.81674793, -0.81134111,\n",
              "        -0.06951007,  0.55639401],\n",
              "       [ 0.18388312,  1.        , -0.06284613,  0.2039109 ,  0.19034412,\n",
              "         0.01057245,  0.20478232],\n",
              "       [-0.54967946, -0.06284613,  1.        , -0.47714875,  0.65955868,\n",
              "         0.15048167, -0.3930256 ],\n",
              "       [ 0.81674793,  0.2039109 , -0.47714875,  1.        , -0.69418257,\n",
              "        -0.336521  ,  0.60745396],\n",
              "       [-0.81134111,  0.19034412,  0.65955868, -0.69418257,  1.        ,\n",
              "         0.02881087, -0.4771387 ],\n",
              "       [-0.06951007,  0.01057245,  0.15048167, -0.336521  ,  0.02881087,\n",
              "         1.        , -0.3192694 ],\n",
              "       [ 0.55639401,  0.20478232, -0.3930256 ,  0.60745396, -0.4771387 ,\n",
              "        -0.3192694 ,  1.        ]])"
            ]
          },
          "execution_count": 11,
          "metadata": {},
          "output_type": "execute_result"
        }
      ],
      "source": [
        "CorrMatrix = np.array(data.corr())\n",
        "CorrMatrix"
      ]
    },
    {
      "cell_type": "code",
      "execution_count": null,
      "metadata": {
        "colab": {
          "base_uri": "https://localhost:8080/",
          "height": 265
        },
        "id": "fDgQ-6iQqrsY",
        "outputId": "f7fb11db-beb7-48b4-ce9b-b6e5f5479cee"
      },
      "outputs": [
        {
          "data": {
            "image/png": "[encoded data removed]",
            "text/plain": [
              "<Figure size 640x480 with 1 Axes>"
            ]
          },
          "metadata": {},
          "output_type": "display_data"
        }
      ],
      "source": [
        "plt.scatter(data.iloc[:,1], data.iloc[:,7])\n",
        "plt.axis('equal');\n",
        "plt.show()"
      ]
    },
    {
      "cell_type": "code",
      "execution_count": null,
      "metadata": {
        "id": "O-MLwt7X7_kx",
        "outputId": "231ff18b-c931-4e91-ab33-1ec7867e91e1"
      },
      "outputs": [
        {
          "data": {
            "image/png": "[encoded data removed]",
            "text/plain": [
              "<Figure size 640x480 with 1 Axes>"
            ]
          },
          "metadata": {},
          "output_type": "display_data"
        }
      ],
      "source": [
        "plt.scatter(data.iloc[:,1], data.iloc[:,4])\n",
        "plt.axis('equal');\n",
        "plt.show()"
      ]
    },
    {
      "cell_type": "code",
      "execution_count": null,
      "metadata": {
        "id": "rIl3vy_N7_ky",
        "outputId": "c19c32d8-2155-462b-cb05-739ee9e81894"
      },
      "outputs": [
        {
          "data": {
            "image/png": "[encoded data removed]",
            "text/plain": [
              "<Figure size 640x480 with 1 Axes>"
            ]
          },
          "metadata": {},
          "output_type": "display_data"
        }
      ],
      "source": [
        "plt.scatter(data.iloc[:,3], data.iloc[:,5])\n",
        "plt.axis('equal');\n",
        "plt.show()"
      ]
    },
    {
      "cell_type": "code",
      "execution_count": null,
      "metadata": {
        "id": "n8rVv2dL7_k0",
        "outputId": "5b857017-2c25-4c91-a1d7-c15ed2ffd01b"
      },
      "outputs": [
        {
          "data": {
            "image/png": "[encoded data removed]",
            "text/plain": [
              "<Figure size 640x480 with 1 Axes>"
            ]
          },
          "metadata": {},
          "output_type": "display_data"
        }
      ],
      "source": [
        "plt.scatter(data.iloc[:,4], data.iloc[:,7])\n",
        "plt.axis('equal');\n",
        "plt.show()"
      ]
    },
    {
      "cell_type": "code",
      "execution_count": null,
      "metadata": {
        "id": "A7xkDcwO7_k0",
        "outputId": "399ae76d-b8e2-419a-bf8b-d62217565a71"
      },
      "outputs": [
        {
          "name": "stdout",
          "output_type": "stream",
          "text": [
            "[3.52472173 1.18767668 1.03460734 0.08791372 0.13649556 0.57663232\n",
            " 0.45195264]\n",
            "[[-0.48130845 -0.07448868  0.21983478 -0.52962087  0.56235013  0.21656792\n",
            "  -0.26613659]\n",
            " [-0.07990832  0.7113087   0.56818366  0.30279504  0.11656062 -0.2146112\n",
            "  -0.11615824]\n",
            " [ 0.38626661  0.17993718 -0.03100608  0.21186781  0.15960862  0.84763563\n",
            "  -0.16914578]\n",
            " [-0.47573064  0.13061435 -0.0250742  -0.06655574 -0.72846937  0.26441386\n",
            "  -0.38856089]\n",
            " [ 0.45637306  0.41654755 -0.02368131 -0.75412328 -0.20548952 -0.05863538\n",
            "   0.05731478]\n",
            " [ 0.15424231 -0.43316332  0.78471893 -0.09218235 -0.26741014  0.17369785\n",
            "   0.25023655]\n",
            " [-0.39289723  0.2791264  -0.10442843 -0.03605205 -0.0173002   0.29159985\n",
            "   0.81864852]]\n"
          ]
        }
      ],
      "source": [
        "w, v = np.linalg.eig(CorrMatrix)\n",
        "print(w)\n",
        "print(v)"
      ]
    },
    {
      "cell_type": "code",
      "execution_count": null,
      "metadata": {
        "id": "Br4BW3JA7_k1",
        "outputId": "c22cbe9e-57e3-455b-81cf-9ca98d46ad6e"
      },
      "outputs": [
        {
          "data": {
            "text/plain": [
              "array([-0.48130845, -0.07990832,  0.38626661, -0.47573064,  0.45637306,\n",
              "        0.15424231, -0.39289723])"
            ]
          },
          "execution_count": 23,
          "metadata": {},
          "output_type": "execute_result"
        }
      ],
      "source": [
        "v[:,0]"
      ]
    },
    {
      "cell_type": "code",
      "execution_count": null,
      "metadata": {
        "id": "x_rVJ_BI7_k1",
        "outputId": "cc60f1c1-51f5-43f6-95ea-e0c6e2c4dd01"
      },
      "outputs": [
        {
          "data": {
            "text/plain": [
              "array([-0.07448868,  0.7113087 ,  0.17993718,  0.13061435,  0.41654755,\n",
              "       -0.43316332,  0.2791264 ])"
            ]
          },
          "execution_count": 24,
          "metadata": {},
          "output_type": "execute_result"
        }
      ],
      "source": [
        "v[:,1]"
      ]
    },
    {
      "cell_type": "code",
      "execution_count": null,
      "metadata": {
        "id": "kICVqxGr7_k2",
        "outputId": "19320f7e-2425-4e5e-c9d3-2d0d4be92329"
      },
      "outputs": [
        {
          "data": {
            "text/plain": [
              "array([ 0.21983478,  0.56818366, -0.03100608, -0.0250742 , -0.02368131,\n",
              "        0.78471893, -0.10442843])"
            ]
          },
          "execution_count": 25,
          "metadata": {},
          "output_type": "execute_result"
        }
      ],
      "source": [
        "v[:,2]"
      ]
    },
    {
      "cell_type": "code",
      "execution_count": null,
      "metadata": {
        "id": "eR5R_VMA7_k2",
        "outputId": "19db29c3-ef6f-44ab-faf7-043196146263"
      },
      "outputs": [
        {
          "data": {
            "text/plain": [
              "array([-0.52962087,  0.30279504,  0.21186781, -0.06655574, -0.75412328,\n",
              "       -0.09218235, -0.03605205])"
            ]
          },
          "execution_count": 26,
          "metadata": {},
          "output_type": "execute_result"
        }
      ],
      "source": [
        "v[:,3]"
      ]
    },
    {
      "cell_type": "code",
      "execution_count": null,
      "metadata": {
        "id": "gfxkGmj57_k2",
        "outputId": "968a09b2-0dd8-48ec-8409-386d041f939a"
      },
      "outputs": [
        {
          "data": {
            "text/plain": [
              "array([ 0.56235013,  0.11656062,  0.15960862, -0.72846937, -0.20548952,\n",
              "       -0.26741014, -0.0173002 ])"
            ]
          },
          "execution_count": 27,
          "metadata": {},
          "output_type": "execute_result"
        }
      ],
      "source": [
        "v[:,4]"
      ]
    },
    {
      "cell_type": "code",
      "execution_count": null,
      "metadata": {
        "id": "5uk2IABW7_k3",
        "outputId": "19a73c2b-3cc6-4033-ad2d-ed4b87ec7294"
      },
      "outputs": [
        {
          "data": {
            "text/plain": [
              "array([ 0.21656792, -0.2146112 ,  0.84763563,  0.26441386, -0.05863538,\n",
              "        0.17369785,  0.29159985])"
            ]
          },
          "execution_count": 28,
          "metadata": {},
          "output_type": "execute_result"
        }
      ],
      "source": [
        "v[:,5]"
      ]
    },
    {
      "cell_type": "code",
      "execution_count": null,
      "metadata": {
        "id": "_2bCIsrO7_k3",
        "outputId": "a741d7f3-bccf-43a8-babe-52971844abe0"
      },
      "outputs": [
        {
          "data": {
            "text/plain": [
              "array([-0.26613659, -0.11615824, -0.16914578, -0.38856089,  0.05731478,\n",
              "        0.25023655,  0.81864852])"
            ]
          },
          "execution_count": 29,
          "metadata": {},
          "output_type": "execute_result"
        }
      ],
      "source": [
        "v[:,6]"
      ]
    },
    {
      "cell_type": "code",
      "execution_count": null,
      "metadata": {
        "id": "1bOPaag17_k3"
      },
      "outputs": [],
      "source": [
        "data2=data.drop(\"name\", axis='columns')"
      ]
    },
    {
      "cell_type": "markdown",
      "metadata": {
        "id": "J5q3s2hH-kPD"
      },
      "source": [
        "## Dwie składowe główne"
      ]
    },
    {
      "cell_type": "markdown",
      "metadata": {
        "id": "s6LKvI1y95Mu"
      },
      "source": [
        "Wyliczamy dwie składowe główne (**n_components=2**) czyli wektory bazowe nowego układu współrzędnych:"
      ]
    },
    {
      "cell_type": "code",
      "execution_count": null,
      "metadata": {
        "id": "UJuO5Z1u7_k4"
      },
      "outputs": [],
      "source": [
        "pca = PCA()\n",
        "pca.fit(data2)\n",
        "cumsum = np.cumsum(pca.explained_variance_ratio_)\n",
        "d = np.argmax(cumsum >= 0.95) + 1"
      ]
    },
    {
      "cell_type": "code",
      "execution_count": null,
      "metadata": {
        "id": "ehDvBPsG7_k4"
      },
      "outputs": [],
      "source": [
        "d"
      ]
    },
    {
      "cell_type": "code",
      "execution_count": null,
      "metadata": {
        "colab": {
          "base_uri": "https://localhost:8080/"
        },
        "id": "ABpuBMhAq-c8",
        "outputId": "becab3b0-dd83-42f9-83aa-18981f7f851a"
      },
      "outputs": [
        {
          "data": {
            "text/html": [
              "<style>#sk-container-id-7 {color: black;background-color: white;}#sk-container-id-7 pre{padding: 0;}#sk-container-id-7 div.sk-toggleable {background-color: white;}#sk-container-id-7 label.sk-toggleable__label {cursor: pointer;display: block;width: 100%;margin-bottom: 0;padding: 0.3em;box-sizing: border-box;text-align: center;}#sk-container-id-7 label.sk-toggleable__label-arrow:before {content: \"▸\";float: left;margin-right: 0.25em;color: #696969;}#sk-container-id-7 label.sk-toggleable__label-arrow:hover:before {color: black;}#sk-container-id-7 div.sk-estimator:hover label.sk-toggleable__label-arrow:before {color: black;}#sk-container-id-7 div.sk-toggleable__content {max-height: 0;max-width: 0;overflow: hidden;text-align: left;background-color: #f0f8ff;}#sk-container-id-7 div.sk-toggleable__content pre {margin: 0.2em;color: black;border-radius: 0.25em;background-color: #f0f8ff;}#sk-container-id-7 input.sk-toggleable__control:checked~div.sk-toggleable__content {max-height: 200px;max-width: 100%;overflow: auto;}#sk-container-id-7 input.sk-toggleable__control:checked~label.sk-toggleable__label-arrow:before {content: \"▾\";}#sk-container-id-7 div.sk-estimator input.sk-toggleable__control:checked~label.sk-toggleable__label {background-color: #d4ebff;}#sk-container-id-7 div.sk-label input.sk-toggleable__control:checked~label.sk-toggleable__label {background-color: #d4ebff;}#sk-container-id-7 input.sk-hidden--visually {border: 0;clip: rect(1px 1px 1px 1px);clip: rect(1px, 1px, 1px, 1px);height: 1px;margin: -1px;overflow: hidden;padding: 0;position: absolute;width: 1px;}#sk-container-id-7 div.sk-estimator {font-family: monospace;background-color: #f0f8ff;border: 1px dotted black;border-radius: 0.25em;box-sizing: border-box;margin-bottom: 0.5em;}#sk-container-id-7 div.sk-estimator:hover {background-color: #d4ebff;}#sk-container-id-7 div.sk-parallel-item::after {content: \"\";width: 100%;border-bottom: 1px solid gray;flex-grow: 1;}#sk-container-id-7 div.sk-label:hover label.sk-toggleable__label {background-color: #d4ebff;}#sk-container-id-7 div.sk-serial::before {content: \"\";position: absolute;border-left: 1px solid gray;box-sizing: border-box;top: 0;bottom: 0;left: 50%;z-index: 0;}#sk-container-id-7 div.sk-serial {display: flex;flex-direction: column;align-items: center;background-color: white;padding-right: 0.2em;padding-left: 0.2em;position: relative;}#sk-container-id-7 div.sk-item {position: relative;z-index: 1;}#sk-container-id-7 div.sk-parallel {display: flex;align-items: stretch;justify-content: center;background-color: white;position: relative;}#sk-container-id-7 div.sk-item::before, #sk-container-id-7 div.sk-parallel-item::before {content: \"\";position: absolute;border-left: 1px solid gray;box-sizing: border-box;top: 0;bottom: 0;left: 50%;z-index: -1;}#sk-container-id-7 div.sk-parallel-item {display: flex;flex-direction: column;z-index: 1;position: relative;background-color: white;}#sk-container-id-7 div.sk-parallel-item:first-child::after {align-self: flex-end;width: 50%;}#sk-container-id-7 div.sk-parallel-item:last-child::after {align-self: flex-start;width: 50%;}#sk-container-id-7 div.sk-parallel-item:only-child::after {width: 0;}#sk-container-id-7 div.sk-dashed-wrapped {border: 1px dashed gray;margin: 0 0.4em 0.5em 0.4em;box-sizing: border-box;padding-bottom: 0.4em;background-color: white;}#sk-container-id-7 div.sk-label label {font-family: monospace;font-weight: bold;display: inline-block;line-height: 1.2em;}#sk-container-id-7 div.sk-label-container {text-align: center;}#sk-container-id-7 div.sk-container {/* jupyter's `normalize.less` sets `[hidden] { display: none; }` but bootstrap.min.css set `[hidden] { display: none !important; }` so we also need the `!important` here to be able to override the default hidden behavior on the sphinx rendered scikit-learn.org. See: https://github.com/scikit-learn/scikit-learn/issues/21755 */display: inline-block !important;position: relative;}#sk-container-id-7 div.sk-text-repr-fallback {display: none;}</style><div id=\"sk-container-id-7\" class=\"sk-top-container\"><div class=\"sk-text-repr-fallback\"><pre>PCA(n_components=2)</pre><b>In a Jupyter environment, please rerun this cell to show the HTML representation or trust the notebook. <br />On GitHub, the HTML representation is unable to render, please try loading this page with nbviewer.org.</b></div><div class=\"sk-container\" hidden><div class=\"sk-item\"><div class=\"sk-estimator sk-toggleable\"><input class=\"sk-toggleable__control sk-hidden--visually\" id=\"sk-estimator-id-7\" type=\"checkbox\" checked><label for=\"sk-estimator-id-7\" class=\"sk-toggleable__label sk-toggleable__label-arrow\">PCA</label><div class=\"sk-toggleable__content\"><pre>PCA(n_components=2)</pre></div></div></div></div></div>"
            ],
            "text/plain": [
              "PCA(n_components=2)"
            ]
          },
          "execution_count": 75,
          "metadata": {},
          "output_type": "execute_result"
        }
      ],
      "source": [
        "\n",
        "pca = PCA(n_components=2)\n",
        "pca.fit(data2)"
      ]
    },
    {
      "cell_type": "markdown",
      "metadata": {
        "id": "uZZ3tCL082-4"
      },
      "source": [
        "Wektory bazowe nowego układu wpółrzędnych: "
      ]
    },
    {
      "cell_type": "code",
      "execution_count": null,
      "metadata": {
        "colab": {
          "base_uri": "https://localhost:8080/"
        },
        "id": "e3EB0m4BrEpW",
        "outputId": "363eccf8-437e-43bf-ff27-ec7e2536b3ce"
      },
      "outputs": [
        {
          "name": "stdout",
          "output_type": "stream",
          "text": [
            "[[ 0.03058142  0.00104986 -0.08478133  0.08158174 -0.02226627 -0.25600056\n",
            "   0.958743  ]\n",
            " [ 0.02043208  0.00111155 -0.01324563 -0.01541173 -0.01792898  0.96582466\n",
            "   0.25696226]]\n"
          ]
        }
      ],
      "source": [
        "print(pca.components_)"
      ]
    },
    {
      "cell_type": "markdown",
      "metadata": {
        "id": "HYRynR0n9Z3E"
      },
      "source": [
        "Wariancje dla nowych współrzędnych:"
      ]
    },
    {
      "cell_type": "code",
      "execution_count": null,
      "metadata": {
        "colab": {
          "base_uri": "https://localhost:8080/"
        },
        "id": "U7SjLoDT81pN",
        "outputId": "6c33eda4-5425-44d9-94b9-a64e00f2d73c"
      },
      "outputs": [
        {
          "name": "stdout",
          "output_type": "stream",
          "text": [
            "[38.056815   10.59993405]\n"
          ]
        }
      ],
      "source": [
        "print(pca.explained_variance_)"
      ]
    },
    {
      "cell_type": "markdown",
      "metadata": {
        "id": "-wt55Jes9iZY"
      },
      "source": [
        "Dodajemy do wykresu wektory wyznaczające nowy układ współrzędnych. Ich długość określona jest przez wariancje: "
      ]
    },
    {
      "cell_type": "code",
      "execution_count": null,
      "metadata": {
        "id": "TwCS_86SrNfC"
      },
      "outputs": [],
      "source": [
        "def draw_vector(v0, v1, ax=None):\n",
        "  ax = ax or plt.gca()\n",
        "  arrowprops=dict(arrowstyle='->',\n",
        "  linewidth=2,\n",
        "  shrinkA=0, shrinkB=0, color='black')\n",
        "  ax.annotate('', v1, v0, arrowprops=arrowprops)"
      ]
    },
    {
      "cell_type": "code",
      "execution_count": null,
      "metadata": {
        "id": "DPNDN9mt7_k7",
        "outputId": "a021af26-6124-4cce-bb6d-010ec34b00d7"
      },
      "outputs": [
        {
          "data": {
            "text/plain": [
              "array([38.056815  , 10.59993405])"
            ]
          },
          "execution_count": 79,
          "metadata": {},
          "output_type": "execute_result"
        }
      ],
      "source": [
        "pca.explained_variance_"
      ]
    },
    {
      "cell_type": "code",
      "execution_count": null,
      "metadata": {
        "colab": {
          "base_uri": "https://localhost:8080/",
          "height": 265
        },
        "id": "4IY7lr5crXhw",
        "outputId": "2e80ce0c-49a8-46ba-8e36-c3e92af3a578"
      },
      "outputs": [
        {
          "ename": "ValueError",
          "evalue": "too many values to unpack (expected 2)",
          "output_type": "error",
          "traceback": [
            "\u001b[0;31m---------------------------------------------------------------------------\u001b[0m",
            "\u001b[0;31mValueError\u001b[0m                                Traceback (most recent call last)",
            "Cell \u001b[0;32mIn [80], line 4\u001b[0m\n\u001b[1;32m      2\u001b[0m \u001b[38;5;28;01mfor\u001b[39;00m length, vector \u001b[38;5;129;01min\u001b[39;00m \u001b[38;5;28mzip\u001b[39m(pca\u001b[38;5;241m.\u001b[39mexplained_variance_, pca\u001b[38;5;241m.\u001b[39mcomponents_):\n\u001b[1;32m      3\u001b[0m   v \u001b[38;5;241m=\u001b[39m vector \u001b[38;5;241m*\u001b[39m \u001b[38;5;241m7\u001b[39m \u001b[38;5;241m*\u001b[39m np\u001b[38;5;241m.\u001b[39msqrt(length)\n\u001b[0;32m----> 4\u001b[0m   \u001b[43mdraw_vector\u001b[49m\u001b[43m(\u001b[49m\u001b[43mpca\u001b[49m\u001b[38;5;241;43m.\u001b[39;49m\u001b[43mmean_\u001b[49m\u001b[43m,\u001b[49m\u001b[43m \u001b[49m\u001b[43mpca\u001b[49m\u001b[38;5;241;43m.\u001b[39;49m\u001b[43mmean_\u001b[49m\u001b[43m \u001b[49m\u001b[38;5;241;43m+\u001b[39;49m\u001b[43m \u001b[49m\u001b[43mv\u001b[49m\u001b[43m)\u001b[49m\n\u001b[1;32m      5\u001b[0m plt\u001b[38;5;241m.\u001b[39maxis(\u001b[38;5;124m'\u001b[39m\u001b[38;5;124mequal\u001b[39m\u001b[38;5;124m'\u001b[39m)\n",
            "Cell \u001b[0;32mIn [78], line 6\u001b[0m, in \u001b[0;36mdraw_vector\u001b[0;34m(v0, v1, ax)\u001b[0m\n\u001b[1;32m      2\u001b[0m ax \u001b[38;5;241m=\u001b[39m ax \u001b[38;5;129;01mor\u001b[39;00m plt\u001b[38;5;241m.\u001b[39mgca()\n\u001b[1;32m      3\u001b[0m arrowprops\u001b[38;5;241m=\u001b[39m\u001b[38;5;28mdict\u001b[39m(arrowstyle\u001b[38;5;241m=\u001b[39m\u001b[38;5;124m'\u001b[39m\u001b[38;5;124m->\u001b[39m\u001b[38;5;124m'\u001b[39m,\n\u001b[1;32m      4\u001b[0m linewidth\u001b[38;5;241m=\u001b[39m\u001b[38;5;241m2\u001b[39m,\n\u001b[1;32m      5\u001b[0m shrinkA\u001b[38;5;241m=\u001b[39m\u001b[38;5;241m0\u001b[39m, shrinkB\u001b[38;5;241m=\u001b[39m\u001b[38;5;241m0\u001b[39m, color\u001b[38;5;241m=\u001b[39m\u001b[38;5;124m'\u001b[39m\u001b[38;5;124mblack\u001b[39m\u001b[38;5;124m'\u001b[39m)\n\u001b[0;32m----> 6\u001b[0m \u001b[43max\u001b[49m\u001b[38;5;241;43m.\u001b[39;49m\u001b[43mannotate\u001b[49m\u001b[43m(\u001b[49m\u001b[38;5;124;43m'\u001b[39;49m\u001b[38;5;124;43m'\u001b[39;49m\u001b[43m,\u001b[49m\u001b[43m \u001b[49m\u001b[43mv1\u001b[49m\u001b[43m,\u001b[49m\u001b[43m \u001b[49m\u001b[43mv0\u001b[49m\u001b[43m,\u001b[49m\u001b[43m \u001b[49m\u001b[43marrowprops\u001b[49m\u001b[38;5;241;43m=\u001b[39;49m\u001b[43marrowprops\u001b[49m\u001b[43m)\u001b[49m\n",
            "File \u001b[0;32m~/my_env/lib/python3.9/site-packages/matplotlib/axes/_axes.py:688\u001b[0m, in \u001b[0;36mAxes.annotate\u001b[0;34m(self, text, xy, xytext, xycoords, textcoords, arrowprops, annotation_clip, **kwargs)\u001b[0m\n\u001b[1;32m    683\u001b[0m \u001b[38;5;129m@_docstring\u001b[39m\u001b[38;5;241m.\u001b[39mdedent_interpd\n\u001b[1;32m    684\u001b[0m \u001b[38;5;28;01mdef\u001b[39;00m \u001b[38;5;21mannotate\u001b[39m(\u001b[38;5;28mself\u001b[39m, text, xy, xytext\u001b[38;5;241m=\u001b[39m\u001b[38;5;28;01mNone\u001b[39;00m, xycoords\u001b[38;5;241m=\u001b[39m\u001b[38;5;124m'\u001b[39m\u001b[38;5;124mdata\u001b[39m\u001b[38;5;124m'\u001b[39m, textcoords\u001b[38;5;241m=\u001b[39m\u001b[38;5;28;01mNone\u001b[39;00m,\n\u001b[1;32m    685\u001b[0m              arrowprops\u001b[38;5;241m=\u001b[39m\u001b[38;5;28;01mNone\u001b[39;00m, annotation_clip\u001b[38;5;241m=\u001b[39m\u001b[38;5;28;01mNone\u001b[39;00m, \u001b[38;5;241m*\u001b[39m\u001b[38;5;241m*\u001b[39mkwargs):\n\u001b[1;32m    686\u001b[0m     \u001b[38;5;66;03m# Signature must match Annotation. This is verified in\u001b[39;00m\n\u001b[1;32m    687\u001b[0m     \u001b[38;5;66;03m# test_annotate_signature().\u001b[39;00m\n\u001b[0;32m--> 688\u001b[0m     a \u001b[38;5;241m=\u001b[39m \u001b[43mmtext\u001b[49m\u001b[38;5;241;43m.\u001b[39;49m\u001b[43mAnnotation\u001b[49m\u001b[43m(\u001b[49m\u001b[43mtext\u001b[49m\u001b[43m,\u001b[49m\u001b[43m \u001b[49m\u001b[43mxy\u001b[49m\u001b[43m,\u001b[49m\u001b[43m \u001b[49m\u001b[43mxytext\u001b[49m\u001b[38;5;241;43m=\u001b[39;49m\u001b[43mxytext\u001b[49m\u001b[43m,\u001b[49m\u001b[43m \u001b[49m\u001b[43mxycoords\u001b[49m\u001b[38;5;241;43m=\u001b[39;49m\u001b[43mxycoords\u001b[49m\u001b[43m,\u001b[49m\n\u001b[1;32m    689\u001b[0m \u001b[43m                         \u001b[49m\u001b[43mtextcoords\u001b[49m\u001b[38;5;241;43m=\u001b[39;49m\u001b[43mtextcoords\u001b[49m\u001b[43m,\u001b[49m\u001b[43m \u001b[49m\u001b[43marrowprops\u001b[49m\u001b[38;5;241;43m=\u001b[39;49m\u001b[43marrowprops\u001b[49m\u001b[43m,\u001b[49m\n\u001b[1;32m    690\u001b[0m \u001b[43m                         \u001b[49m\u001b[43mannotation_clip\u001b[49m\u001b[38;5;241;43m=\u001b[39;49m\u001b[43mannotation_clip\u001b[49m\u001b[43m,\u001b[49m\u001b[43m \u001b[49m\u001b[38;5;241;43m*\u001b[39;49m\u001b[38;5;241;43m*\u001b[39;49m\u001b[43mkwargs\u001b[49m\u001b[43m)\u001b[49m\n\u001b[1;32m    691\u001b[0m     a\u001b[38;5;241m.\u001b[39mset_transform(mtransforms\u001b[38;5;241m.\u001b[39mIdentityTransform())\n\u001b[1;32m    692\u001b[0m     \u001b[38;5;28;01mif\u001b[39;00m \u001b[38;5;124m'\u001b[39m\u001b[38;5;124mclip_on\u001b[39m\u001b[38;5;124m'\u001b[39m \u001b[38;5;129;01min\u001b[39;00m kwargs:\n",
            "File \u001b[0;32m~/my_env/lib/python3.9/site-packages/matplotlib/text.py:1827\u001b[0m, in \u001b[0;36mAnnotation.__init__\u001b[0;34m(self, text, xy, xytext, xycoords, textcoords, arrowprops, annotation_clip, **kwargs)\u001b[0m\n\u001b[1;32m   1825\u001b[0m \u001b[38;5;28;01mif\u001b[39;00m xytext \u001b[38;5;129;01mis\u001b[39;00m \u001b[38;5;28;01mNone\u001b[39;00m:\n\u001b[1;32m   1826\u001b[0m     xytext \u001b[38;5;241m=\u001b[39m \u001b[38;5;28mself\u001b[39m\u001b[38;5;241m.\u001b[39mxy\n\u001b[0;32m-> 1827\u001b[0m x, y \u001b[38;5;241m=\u001b[39m xytext\n\u001b[1;32m   1829\u001b[0m \u001b[38;5;28mself\u001b[39m\u001b[38;5;241m.\u001b[39marrowprops \u001b[38;5;241m=\u001b[39m arrowprops\n\u001b[1;32m   1830\u001b[0m \u001b[38;5;28;01mif\u001b[39;00m arrowprops \u001b[38;5;129;01mis\u001b[39;00m \u001b[38;5;129;01mnot\u001b[39;00m \u001b[38;5;28;01mNone\u001b[39;00m:\n",
            "\u001b[0;31mValueError\u001b[0m: too many values to unpack (expected 2)"
          ]
        },
        {
          "data": {
            "image/png": "[encoded data removed]",
            "text/plain": [
              "<Figure size 640x480 with 1 Axes>"
            ]
          },
          "metadata": {},
          "output_type": "display_data"
        }
      ],
      "source": [
        "#plt.scatter(data2.iloc[:, 0], data2.iloc[:, 4], alpha=0.2)\n",
        "#for length, vector in zip(pca.explained_variance_, pca.components_):\n",
        " # v = vector * 3 * np.sqrt(length)\n",
        " # draw_vector(pca.mean_, pca.mean_ + v)\n",
        "#plt.axis('equal');"
      ]
    },
    {
      "cell_type": "markdown",
      "metadata": {
        "id": "3hEUqaL_-WDC"
      },
      "source": [
        "Współrzędne punktów w **nowym układzie współrzędnych**:"
      ]
    },
    {
      "cell_type": "code",
      "execution_count": null,
      "metadata": {
        "colab": {
          "base_uri": "https://localhost:8080/"
        },
        "id": "gLY-x4Aq-amm",
        "outputId": "500aef0e-e288-4ea5-c502-e3a43593e5cc"
      },
      "outputs": [
        {
          "data": {
            "text/plain": [
              "array([[-5.84157054,  2.19745394],\n",
              "       [-7.2695973 , -1.41999405],\n",
              "       [-9.47862585,  0.04205876],\n",
              "       [-1.31811748,  0.3979566 ],\n",
              "       [-6.64116148,  3.80550619],\n",
              "       [-7.30349189, -1.20769311],\n",
              "       [-0.22788469, -1.91015413],\n",
              "       [ 1.38960463, -3.85559916],\n",
              "       [ 2.64416319,  0.81785289],\n",
              "       [ 2.21371063, -2.52077528],\n",
              "       [-0.49654123, -4.53301057],\n",
              "       [-0.23216609, -1.91301462],\n",
              "       [ 0.45138884,  5.69013908],\n",
              "       [ 8.61622437,  4.87367342],\n",
              "       [ 2.93435729,  4.24024469],\n",
              "       [13.76772074,  0.06955646],\n",
              "       [ 6.79198686, -4.77420111]])"
            ]
          },
          "execution_count": 81,
          "metadata": {},
          "output_type": "execute_result"
        }
      ],
      "source": [
        "data_pca = pca.transform(data2)\n",
        "data_pca"
      ]
    },
    {
      "cell_type": "code",
      "execution_count": null,
      "metadata": {
        "colab": {
          "base_uri": "https://localhost:8080/",
          "height": 265
        },
        "id": "suiXJzYF_D-v",
        "outputId": "63b19fa0-fe85-4ced-85fa-b974c9b622dc"
      },
      "outputs": [
        {
          "data": {
            "image/png": "[encoded data removed]",
            "text/plain": [
              "<Figure size 640x480 with 1 Axes>"
            ]
          },
          "metadata": {},
          "output_type": "display_data"
        }
      ],
      "source": [
        "plt.scatter(data_pca[:,0], data_pca[:,1])\n",
        "plt.axis('equal');"
      ]
    },
    {
      "cell_type": "markdown",
      "metadata": {
        "id": "RPznbY3x_fOO"
      },
      "source": [
        "## Jedna składowa główna"
      ]
    },
    {
      "cell_type": "markdown",
      "metadata": {
        "id": "ZvtJKja7_1Or"
      },
      "source": [
        "Wyliczamy jedną składową główną (**n_components=1**) - chcemy wyeliminować jeden wymiar danych."
      ]
    },
    {
      "cell_type": "code",
      "execution_count": null,
      "metadata": {
        "colab": {
          "base_uri": "https://localhost:8080/"
        },
        "id": "8kX-J0ubrmLI",
        "outputId": "05a2d830-4006-4297-c404-6e21c2d45ccb"
      },
      "outputs": [
        {
          "data": {
            "text/html": [
              "<style>#sk-container-id-8 {color: black;background-color: white;}#sk-container-id-8 pre{padding: 0;}#sk-container-id-8 div.sk-toggleable {background-color: white;}#sk-container-id-8 label.sk-toggleable__label {cursor: pointer;display: block;width: 100%;margin-bottom: 0;padding: 0.3em;box-sizing: border-box;text-align: center;}#sk-container-id-8 label.sk-toggleable__label-arrow:before {content: \"▸\";float: left;margin-right: 0.25em;color: #696969;}#sk-container-id-8 label.sk-toggleable__label-arrow:hover:before {color: black;}#sk-container-id-8 div.sk-estimator:hover label.sk-toggleable__label-arrow:before {color: black;}#sk-container-id-8 div.sk-toggleable__content {max-height: 0;max-width: 0;overflow: hidden;text-align: left;background-color: #f0f8ff;}#sk-container-id-8 div.sk-toggleable__content pre {margin: 0.2em;color: black;border-radius: 0.25em;background-color: #f0f8ff;}#sk-container-id-8 input.sk-toggleable__control:checked~div.sk-toggleable__content {max-height: 200px;max-width: 100%;overflow: auto;}#sk-container-id-8 input.sk-toggleable__control:checked~label.sk-toggleable__label-arrow:before {content: \"▾\";}#sk-container-id-8 div.sk-estimator input.sk-toggleable__control:checked~label.sk-toggleable__label {background-color: #d4ebff;}#sk-container-id-8 div.sk-label input.sk-toggleable__control:checked~label.sk-toggleable__label {background-color: #d4ebff;}#sk-container-id-8 input.sk-hidden--visually {border: 0;clip: rect(1px 1px 1px 1px);clip: rect(1px, 1px, 1px, 1px);height: 1px;margin: -1px;overflow: hidden;padding: 0;position: absolute;width: 1px;}#sk-container-id-8 div.sk-estimator {font-family: monospace;background-color: #f0f8ff;border: 1px dotted black;border-radius: 0.25em;box-sizing: border-box;margin-bottom: 0.5em;}#sk-container-id-8 div.sk-estimator:hover {background-color: #d4ebff;}#sk-container-id-8 div.sk-parallel-item::after {content: \"\";width: 100%;border-bottom: 1px solid gray;flex-grow: 1;}#sk-container-id-8 div.sk-label:hover label.sk-toggleable__label {background-color: #d4ebff;}#sk-container-id-8 div.sk-serial::before {content: \"\";position: absolute;border-left: 1px solid gray;box-sizing: border-box;top: 0;bottom: 0;left: 50%;z-index: 0;}#sk-container-id-8 div.sk-serial {display: flex;flex-direction: column;align-items: center;background-color: white;padding-right: 0.2em;padding-left: 0.2em;position: relative;}#sk-container-id-8 div.sk-item {position: relative;z-index: 1;}#sk-container-id-8 div.sk-parallel {display: flex;align-items: stretch;justify-content: center;background-color: white;position: relative;}#sk-container-id-8 div.sk-item::before, #sk-container-id-8 div.sk-parallel-item::before {content: \"\";position: absolute;border-left: 1px solid gray;box-sizing: border-box;top: 0;bottom: 0;left: 50%;z-index: -1;}#sk-container-id-8 div.sk-parallel-item {display: flex;flex-direction: column;z-index: 1;position: relative;background-color: white;}#sk-container-id-8 div.sk-parallel-item:first-child::after {align-self: flex-end;width: 50%;}#sk-container-id-8 div.sk-parallel-item:last-child::after {align-self: flex-start;width: 50%;}#sk-container-id-8 div.sk-parallel-item:only-child::after {width: 0;}#sk-container-id-8 div.sk-dashed-wrapped {border: 1px dashed gray;margin: 0 0.4em 0.5em 0.4em;box-sizing: border-box;padding-bottom: 0.4em;background-color: white;}#sk-container-id-8 div.sk-label label {font-family: monospace;font-weight: bold;display: inline-block;line-height: 1.2em;}#sk-container-id-8 div.sk-label-container {text-align: center;}#sk-container-id-8 div.sk-container {/* jupyter's `normalize.less` sets `[hidden] { display: none; }` but bootstrap.min.css set `[hidden] { display: none !important; }` so we also need the `!important` here to be able to override the default hidden behavior on the sphinx rendered scikit-learn.org. See: https://github.com/scikit-learn/scikit-learn/issues/21755 */display: inline-block !important;position: relative;}#sk-container-id-8 div.sk-text-repr-fallback {display: none;}</style><div id=\"sk-container-id-8\" class=\"sk-top-container\"><div class=\"sk-text-repr-fallback\"><pre>PCA(n_components=1)</pre><b>In a Jupyter environment, please rerun this cell to show the HTML representation or trust the notebook. <br />On GitHub, the HTML representation is unable to render, please try loading this page with nbviewer.org.</b></div><div class=\"sk-container\" hidden><div class=\"sk-item\"><div class=\"sk-estimator sk-toggleable\"><input class=\"sk-toggleable__control sk-hidden--visually\" id=\"sk-estimator-id-8\" type=\"checkbox\" checked><label for=\"sk-estimator-id-8\" class=\"sk-toggleable__label sk-toggleable__label-arrow\">PCA</label><div class=\"sk-toggleable__content\"><pre>PCA(n_components=1)</pre></div></div></div></div></div>"
            ],
            "text/plain": [
              "PCA(n_components=1)"
            ]
          },
          "execution_count": 83,
          "metadata": {},
          "output_type": "execute_result"
        }
      ],
      "source": [
        "pca = PCA(n_components=1)\n",
        "pca.fit(data2)"
      ]
    },
    {
      "cell_type": "markdown",
      "metadata": {
        "id": "66YeeEROAMqH"
      },
      "source": [
        "Współrzędne punktów w **nowym układzie współrzędnych**:"
      ]
    },
    {
      "cell_type": "code",
      "execution_count": null,
      "metadata": {
        "id": "3gXv_6oOAHiS"
      },
      "outputs": [],
      "source": [
        "data_pca = pca.transform(data2)  "
      ]
    },
    {
      "cell_type": "markdown",
      "metadata": {
        "id": "8cNjTKRTAPBT"
      },
      "source": [
        "Porówanie kształtów danych początkowych i po redukcji jednego wymiaru:"
      ]
    },
    {
      "cell_type": "code",
      "execution_count": null,
      "metadata": {
        "colab": {
          "base_uri": "https://localhost:8080/"
        },
        "id": "4GaOTlHnAZJz",
        "outputId": "f438a878-041c-4202-96fd-645da7adb8ab"
      },
      "outputs": [
        {
          "name": "stdout",
          "output_type": "stream",
          "text": [
            "Początkowy shape:  (17, 7)\n",
            "Po transformacji shape: (17, 1)\n"
          ]
        }
      ],
      "source": [
        "print(\"Początkowy shape: \", data2.shape)\n",
        "print(\"Po transformacji shape:\", data_pca.shape)"
      ]
    },
    {
      "cell_type": "markdown",
      "metadata": {
        "id": "96W9RrHnAkHJ"
      },
      "source": [
        "Dane początkowe i po redukcji wymiaru:"
      ]
    },
    {
      "cell_type": "code",
      "execution_count": null,
      "metadata": {
        "colab": {
          "base_uri": "https://localhost:8080/",
          "height": 265
        },
        "id": "KGXURmbaruEA",
        "outputId": "475406ff-0783-47a0-e1d4-b89947ff7d6f"
      },
      "outputs": [
        {
          "data": {
            "image/png": "[encoded data removed]",
            "text/plain": [
              "<Figure size 640x480 with 1 Axes>"
            ]
          },
          "metadata": {},
          "output_type": "display_data"
        }
      ],
      "source": [
        "data_new = pca.inverse_transform(data_pca)\n",
        "plt.scatter(data2.iloc[:, 0], data2.iloc[:, 1]),\n",
        "plt.scatter(data_new[:, 0], data_new[:, 1]),\n",
        "plt.axis('equal');"
      ]
    },
    {
      "cell_type": "code",
      "execution_count": null,
      "metadata": {
        "id": "rZjeKqwP7_k-"
      },
      "outputs": [],
      "source": []
    }
  ],
  "metadata": {
    "colab": {
      "provenance": []
    },
    "kernelspec": {
      "display_name": "Python 3 (ipykernel)",
      "language": "python",
      "name": "python3"
    },
    "language_info": {
      "codemirror_mode": {
        "name": "ipython",
        "version": 3
      },
      "file_extension": ".py",
      "mimetype": "text/x-python",
      "name": "python",
      "nbconvert_exporter": "python",
      "pygments_lexer": "ipython3",
      "version": "3.9.6"
    }
  },
  "nbformat": 4,
  "nbformat_minor": 0
}