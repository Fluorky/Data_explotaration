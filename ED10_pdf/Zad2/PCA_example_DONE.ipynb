{
  "cells": [
    {
      "cell_type": "markdown",
      "metadata": {
        "id": "r_0JmE5H70Fm"
      },
      "source": [
        "# **ANALIZA SKŁADOWYCH GŁÓWNYCH**"
      ]
    },
    {
      "cell_type": "code",
      "execution_count": null,
      "metadata": {
        "id": "bVMDENLR4egG"
      },
      "outputs": [],
      "source": [
        "import pandas as pd\n",
        "import numpy as np\n",
        "import matplotlib.pyplot as plt"
      ]
    },
    {
      "cell_type": "markdown",
      "metadata": {
        "id": "S5ZxNOQICDyu"
      },
      "source": [
        "Pobranie danych:"
      ]
    },
    {
      "cell_type": "code",
      "execution_count": null,
      "metadata": {
        "colab": {
          "base_uri": "https://localhost:8080/",
          "height": 363
        },
        "id": "4igJzr6M7n_A",
        "outputId": "e19f033e-f8b9-4611-cc7a-39fb4b2bf969"
      },
      "outputs": [
        {
          "data": {
            "text/html": [
              "<div>\n",
              "<style scoped>\n",
              "    .dataframe tbody tr th:only-of-type {\n",
              "        vertical-align: middle;\n",
              "    }\n",
              "\n",
              "    .dataframe tbody tr th {\n",
              "        vertical-align: top;\n",
              "    }\n",
              "\n",
              "    .dataframe thead th {\n",
              "        text-align: right;\n",
              "    }\n",
              "</style>\n",
              "<table border=\"1\" class=\"dataframe\">\n",
              "  <thead>\n",
              "    <tr style=\"text-align: right;\">\n",
              "      <th></th>\n",
              "      <th>X</th>\n",
              "      <th>Y</th>\n",
              "    </tr>\n",
              "  </thead>\n",
              "  <tbody>\n",
              "    <tr>\n",
              "      <th>0</th>\n",
              "      <td>2.5</td>\n",
              "      <td>2.4</td>\n",
              "    </tr>\n",
              "    <tr>\n",
              "      <th>1</th>\n",
              "      <td>0.5</td>\n",
              "      <td>0.7</td>\n",
              "    </tr>\n",
              "    <tr>\n",
              "      <th>2</th>\n",
              "      <td>2.2</td>\n",
              "      <td>2.9</td>\n",
              "    </tr>\n",
              "    <tr>\n",
              "      <th>3</th>\n",
              "      <td>1.9</td>\n",
              "      <td>2.2</td>\n",
              "    </tr>\n",
              "    <tr>\n",
              "      <th>4</th>\n",
              "      <td>3.1</td>\n",
              "      <td>3.0</td>\n",
              "    </tr>\n",
              "    <tr>\n",
              "      <th>5</th>\n",
              "      <td>2.3</td>\n",
              "      <td>2.7</td>\n",
              "    </tr>\n",
              "    <tr>\n",
              "      <th>6</th>\n",
              "      <td>2.0</td>\n",
              "      <td>1.6</td>\n",
              "    </tr>\n",
              "    <tr>\n",
              "      <th>7</th>\n",
              "      <td>1.0</td>\n",
              "      <td>1.1</td>\n",
              "    </tr>\n",
              "    <tr>\n",
              "      <th>8</th>\n",
              "      <td>1.5</td>\n",
              "      <td>1.6</td>\n",
              "    </tr>\n",
              "    <tr>\n",
              "      <th>9</th>\n",
              "      <td>1.1</td>\n",
              "      <td>0.9</td>\n",
              "    </tr>\n",
              "  </tbody>\n",
              "</table>\n",
              "</div>"
            ],
            "text/plain": [
              "     X    Y\n",
              "0  2.5  2.4\n",
              "1  0.5  0.7\n",
              "2  2.2  2.9\n",
              "3  1.9  2.2\n",
              "4  3.1  3.0\n",
              "5  2.3  2.7\n",
              "6  2.0  1.6\n",
              "7  1.0  1.1\n",
              "8  1.5  1.6\n",
              "9  1.1  0.9"
            ]
          },
          "execution_count": 2,
          "metadata": {},
          "output_type": "execute_result"
        }
      ],
      "source": [
        "data=pd.read_csv('PCA_simpledata.csv')\n",
        "data"
      ]
    },
    {
      "cell_type": "markdown",
      "metadata": {
        "id": "T75RPmPX-dQw"
      },
      "source": [
        "Wykres rozrzutu:"
      ]
    },
    {
      "cell_type": "code",
      "execution_count": null,
      "metadata": {
        "colab": {
          "base_uri": "https://localhost:8080/",
          "height": 283
        },
        "id": "kfkLag1P84kt",
        "outputId": "ac77fa83-94d6-4145-bdd8-502a3a27bce7"
      },
      "outputs": [
        {
          "data": {
            "text/plain": [
              "<matplotlib.collections.PathCollection at 0x11612f5b0>"
            ]
          },
          "execution_count": 3,
          "metadata": {},
          "output_type": "execute_result"
        },
        {
          "data": {
            "image/png": "[encoded data removed]",
            "text/plain": [
              "<Figure size 640x480 with 1 Axes>"
            ]
          },
          "metadata": {},
          "output_type": "display_data"
        }
      ],
      "source": [
        "plt.scatter(data.iloc[:,0],data.iloc[:,1])"
      ]
    },
    {
      "cell_type": "markdown",
      "metadata": {
        "id": "hCfnMfYc-mWT"
      },
      "source": [
        "Macierz korelacji:"
      ]
    },
    {
      "cell_type": "code",
      "execution_count": null,
      "metadata": {
        "colab": {
          "base_uri": "https://localhost:8080/"
        },
        "id": "ceYKoofm8Qcx",
        "outputId": "52295b53-9a98-4a2a-d714-385e45fabe6d"
      },
      "outputs": [
        {
          "data": {
            "text/plain": [
              "array([[1.        , 0.92592927],\n",
              "       [0.92592927, 1.        ]])"
            ]
          },
          "execution_count": 4,
          "metadata": {},
          "output_type": "execute_result"
        }
      ],
      "source": [
        "CorrMatrix = np.array(data.corr())\n",
        "CorrMatrix"
      ]
    },
    {
      "cell_type": "markdown",
      "metadata": {
        "id": "WzAhCqsd-7sN"
      },
      "source": [
        "Wartości i wektory własne macierzy korelacji:"
      ]
    },
    {
      "cell_type": "code",
      "execution_count": null,
      "metadata": {
        "colab": {
          "base_uri": "https://localhost:8080/"
        },
        "id": "4fIAxcle_b6i",
        "outputId": "5f79a9fc-8868-486f-84ac-1dceb1d9c3df"
      },
      "outputs": [
        {
          "name": "stdout",
          "output_type": "stream",
          "text": [
            "[1.92592927 0.07407073]\n",
            "[[ 0.70710678 -0.70710678]\n",
            " [ 0.70710678  0.70710678]]\n"
          ]
        }
      ],
      "source": [
        "#TODO\n",
        "w, v = np.linalg.eig(CorrMatrix)\n",
        "print(w)\n",
        "print(v)"
      ]
    },
    {
      "cell_type": "code",
      "execution_count": null,
      "metadata": {
        "colab": {
          "base_uri": "https://localhost:8080/"
        },
        "id": "djYv4R2eE9wm",
        "outputId": "3e929ce6-967f-4baf-e048-a0a7977300a2"
      },
      "outputs": [
        {
          "data": {
            "text/plain": [
              "array([0.70710678, 0.70710678])"
            ]
          },
          "execution_count": 6,
          "metadata": {},
          "output_type": "execute_result"
        }
      ],
      "source": [
        "v[:,0]"
      ]
    },
    {
      "cell_type": "code",
      "execution_count": null,
      "metadata": {
        "colab": {
          "base_uri": "https://localhost:8080/"
        },
        "id": "LlFIoMreE_sY",
        "outputId": "1bc437a4-8fcf-4bfb-9bec-faf5bd614bd9"
      },
      "outputs": [
        {
          "data": {
            "text/plain": [
              "array([-0.70710678,  0.70710678])"
            ]
          },
          "execution_count": 7,
          "metadata": {},
          "output_type": "execute_result"
        }
      ],
      "source": [
        "v[:,1]"
      ]
    },
    {
      "cell_type": "markdown",
      "metadata": {
        "id": "U-oTXpHlEq0B"
      },
      "source": [
        "Sprawdź poprawność wyliczeń wektorów i wartości własnych. Wykorzystaj równanie na wartości własne."
      ]
    },
    {
      "cell_type": "code",
      "execution_count": null,
      "metadata": {
        "id": "WPIakGRpEx68",
        "outputId": "d66fbea4-8493-4bc2-dc23-31ec4b165e18"
      },
      "outputs": [
        {
          "name": "stdout",
          "output_type": "stream",
          "text": [
            "[-0.70710678  0.70710678]\n"
          ]
        }
      ],
      "source": [
        "#TODO\n",
        "u=v[:,1]\n",
        "print(u)"
      ]
    },
    {
      "cell_type": "code",
      "execution_count": null,
      "metadata": {
        "id": "RcPrFfcftrel",
        "outputId": "43217549-a983-49bf-decd-42654af04b78"
      },
      "outputs": [
        {
          "name": "stdout",
          "output_type": "stream",
          "text": [
            "0.07407072730775455\n"
          ]
        }
      ],
      "source": [
        "lam = w[1]\n",
        "print(lam)"
      ]
    },
    {
      "cell_type": "code",
      "execution_count": null,
      "metadata": {
        "id": "hDlsCaxitrel",
        "outputId": "18769e65-971f-4e1b-aac0-0aedb97a9601"
      },
      "outputs": [
        {
          "name": "stdout",
          "output_type": "stream",
          "text": [
            "[-0.05237591  0.05237591]\n"
          ]
        }
      ],
      "source": [
        " print(np.dot(CorrMatrix,u))"
      ]
    },
    {
      "cell_type": "code",
      "execution_count": null,
      "metadata": {
        "id": "yU09VbBRtrem",
        "outputId": "8e7e7393-75bd-4c50-ac3d-5bfad4ed6f48"
      },
      "outputs": [
        {
          "name": "stdout",
          "output_type": "stream",
          "text": [
            "[-0.05237591  0.05237591]\n"
          ]
        }
      ],
      "source": [
        "print(lam*u)"
      ]
    },
    {
      "cell_type": "markdown",
      "metadata": {
        "id": "1fEIcSJm_iKs"
      },
      "source": [
        "Dane w nowym układzie współrzędnych wyznaczonym przez wektory własne macierzy korelacji (**zobacz slajdy 30 i 31 z ED_teoria_4.pdf**):\n"
      ]
    },
    {
      "cell_type": "code",
      "execution_count": null,
      "metadata": {
        "colab": {
          "base_uri": "https://localhost:8080/",
          "height": 133
        },
        "id": "UFoHD7G9_5BW",
        "outputId": "d3eb6d36-180f-4a66-b795-f8c3fd307edf"
      },
      "outputs": [
        {
          "name": "stdout",
          "output_type": "stream",
          "text": [
            "3.4648232278140827 -0.07071067811865461\n",
            "0.8485281374238569 0.14142135623730956\n",
            "3.6062445840513924 0.4949747468305832\n",
            "2.899137802864845 0.21213203435596473\n",
            "4.31335136523794 -0.07071067811865417\n",
            "3.5355339059327378 0.28284271247461956\n",
            "2.5455844122715714 -0.2828427124746187\n",
            "1.48492424049175 0.07071067811865495\n",
            "2.1920310216782974 0.07071067811865506\n",
            "1.4142135623730951 -0.14142135623730945\n"
          ]
        }
      ],
      "source": [
        "#TODO\n",
        "#print(data.iloc[0,0]*v[0,0]+data.iloc[0,1]*v[1,0],data.iloc[0,0]*v[0,1]+data.iloc[0,1]*v[1,1])\n",
        "T=np.array([])\n",
        "for i in range (10):\n",
        " x=data.iloc[i,0]*v[0,0]+data.iloc[i,1]*v[1,0]\n",
        " y=data.iloc[i,0]*v[0,1]+data.iloc[i,1]*v[1,1]\n",
        " T=np.append(T,[x,y],axis=0)\n",
        " print(x,y)\n",
        " #print(data.iloc[i,0]*v[0,0]+data.iloc[i,1]*v[1,0],data.iloc[i,0]*v[0,1]+data.iloc[i,1]*v[1,1])"
      ]
    },
    {
      "cell_type": "code",
      "execution_count": null,
      "metadata": {
        "id": "Y_QrBbdg1xcI"
      },
      "outputs": [],
      "source": [
        "T=np.reshape(T,(10,2))"
      ]
    },
    {
      "cell_type": "code",
      "execution_count": null,
      "metadata": {
        "id": "XDwCctJatren"
      },
      "outputs": [],
      "source": []
    },
    {
      "cell_type": "markdown",
      "metadata": {
        "id": "FCPkvErkDnD7"
      },
      "source": [
        "Wykres rozrzutu danych w nowym układzie:"
      ]
    },
    {
      "cell_type": "code",
      "execution_count": null,
      "metadata": {
        "id": "L4iO2uYftren",
        "outputId": "1f179fbb-e2bf-4fba-e6c7-2ffda9038fec"
      },
      "outputs": [
        {
          "name": "stdout",
          "output_type": "stream",
          "text": [
            "class:  ndarray\n",
            "shape:  (10, 2)\n",
            "strides:  (16, 8)\n",
            "itemsize:  8\n",
            "aligned:  True\n",
            "contiguous:  True\n",
            "fortran:  False\n",
            "data pointer: 0x600002a2c3c0\n",
            "byteorder:  little\n",
            "byteswap:  False\n",
            "type: float64\n"
          ]
        }
      ],
      "source": [
        "np.info(T)"
      ]
    },
    {
      "cell_type": "code",
      "execution_count": null,
      "metadata": {
        "id": "8VtI3H4dDuet",
        "outputId": "5ec4253a-7119-4cc6-a2fb-e9e54ce940d2"
      },
      "outputs": [
        {
          "data": {
            "image/png": "[encoded data removed]",
            "text/plain": [
              "<Figure size 640x480 with 1 Axes>"
            ]
          },
          "metadata": {},
          "output_type": "display_data"
        }
      ],
      "source": [
        "#TODO\n",
        "plt.scatter(T[:,0],T[:,1])\n",
        "plt.show()"
      ]
    },
    {
      "cell_type": "code",
      "execution_count": null,
      "metadata": {
        "id": "iNfFM3bStren"
      },
      "outputs": [],
      "source": []
    }
  ],
  "metadata": {
    "colab": {
      "provenance": []
    },
    "kernelspec": {
      "display_name": "Python 3 (ipykernel)",
      "language": "python",
      "name": "python3"
    },
    "language_info": {
      "codemirror_mode": {
        "name": "ipython",
        "version": 3
      },
      "file_extension": ".py",
      "mimetype": "text/x-python",
      "name": "python",
      "nbconvert_exporter": "python",
      "pygments_lexer": "ipython3",
      "version": "3.9.6"
    }
  },
  "nbformat": 4,
  "nbformat_minor": 0
}