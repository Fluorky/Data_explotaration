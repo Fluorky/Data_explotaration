{
  "nbformat": 4,
  "nbformat_minor": 0,
  "metadata": {
    "colab": {
      "provenance": []
    },
    "kernelspec": {
      "name": "python3",
      "display_name": "Python 3"
    }
  },
  "cells": [
    {
      "cell_type": "markdown",
      "metadata": {
        "id": "r_0JmE5H70Fm"
      },
      "source": [
        "# **ANALIZA SKŁADOWYCH GŁÓWNYCH**"
      ]
    },
    {
      "cell_type": "code",
      "metadata": {
        "id": "M6GurYaAqeqA"
      },
      "source": [
        "import numpy as np\n",
        "import matplotlib.pyplot as plt\n",
        "import pandas as pd"
      ],
      "execution_count": 1,
      "outputs": []
    },
    {
      "cell_type": "markdown",
      "metadata": {
        "id": "CEoGIVds7w8K"
      },
      "source": [
        "Załadowanie zbioru danych:"
      ]
    },
    {
      "cell_type": "code",
      "metadata": {
        "colab": {
          "base_uri": "https://localhost:8080/",
          "height": 424
        },
        "id": "Faks-Nb0vIW4",
        "outputId": "29d58a2d-8794-476c-f59d-4ae1050b1241"
      },
      "source": [
        "data=pd.read_csv('PCA_dataset.csv')\n",
        "data"
      ],
      "execution_count": 2,
      "outputs": [
        {
          "output_type": "execute_result",
          "data": {
            "text/plain": [
              "            X         Y\n",
              "0   -0.625302 -0.170064\n",
              "1    0.960695  0.590901\n",
              "2   -0.598543 -0.402593\n",
              "3   -2.228059 -0.532577\n",
              "4   -0.461430 -0.498867\n",
              "..        ...       ...\n",
              "195  0.838409  0.278380\n",
              "196  0.312708 -0.010600\n",
              "197  1.955876  0.638224\n",
              "198 -1.108304 -0.395054\n",
              "199  0.398647  0.023187\n",
              "\n",
              "[200 rows x 2 columns]"
            ],
            "text/html": [
              "\n",
              "  <div id=\"df-3142abf2-82f3-4467-bf48-344dfc93baaf\">\n",
              "    <div class=\"colab-df-container\">\n",
              "      <div>\n",
              "<style scoped>\n",
              "    .dataframe tbody tr th:only-of-type {\n",
              "        vertical-align: middle;\n",
              "    }\n",
              "\n",
              "    .dataframe tbody tr th {\n",
              "        vertical-align: top;\n",
              "    }\n",
              "\n",
              "    .dataframe thead th {\n",
              "        text-align: right;\n",
              "    }\n",
              "</style>\n",
              "<table border=\"1\" class=\"dataframe\">\n",
              "  <thead>\n",
              "    <tr style=\"text-align: right;\">\n",
              "      <th></th>\n",
              "      <th>X</th>\n",
              "      <th>Y</th>\n",
              "    </tr>\n",
              "  </thead>\n",
              "  <tbody>\n",
              "    <tr>\n",
              "      <th>0</th>\n",
              "      <td>-0.625302</td>\n",
              "      <td>-0.170064</td>\n",
              "    </tr>\n",
              "    <tr>\n",
              "      <th>1</th>\n",
              "      <td>0.960695</td>\n",
              "      <td>0.590901</td>\n",
              "    </tr>\n",
              "    <tr>\n",
              "      <th>2</th>\n",
              "      <td>-0.598543</td>\n",
              "      <td>-0.402593</td>\n",
              "    </tr>\n",
              "    <tr>\n",
              "      <th>3</th>\n",
              "      <td>-2.228059</td>\n",
              "      <td>-0.532577</td>\n",
              "    </tr>\n",
              "    <tr>\n",
              "      <th>4</th>\n",
              "      <td>-0.461430</td>\n",
              "      <td>-0.498867</td>\n",
              "    </tr>\n",
              "    <tr>\n",
              "      <th>...</th>\n",
              "      <td>...</td>\n",
              "      <td>...</td>\n",
              "    </tr>\n",
              "    <tr>\n",
              "      <th>195</th>\n",
              "      <td>0.838409</td>\n",
              "      <td>0.278380</td>\n",
              "    </tr>\n",
              "    <tr>\n",
              "      <th>196</th>\n",
              "      <td>0.312708</td>\n",
              "      <td>-0.010600</td>\n",
              "    </tr>\n",
              "    <tr>\n",
              "      <th>197</th>\n",
              "      <td>1.955876</td>\n",
              "      <td>0.638224</td>\n",
              "    </tr>\n",
              "    <tr>\n",
              "      <th>198</th>\n",
              "      <td>-1.108304</td>\n",
              "      <td>-0.395054</td>\n",
              "    </tr>\n",
              "    <tr>\n",
              "      <th>199</th>\n",
              "      <td>0.398647</td>\n",
              "      <td>0.023187</td>\n",
              "    </tr>\n",
              "  </tbody>\n",
              "</table>\n",
              "<p>200 rows × 2 columns</p>\n",
              "</div>\n",
              "      <button class=\"colab-df-convert\" onclick=\"convertToInteractive('df-3142abf2-82f3-4467-bf48-344dfc93baaf')\"\n",
              "              title=\"Convert this dataframe to an interactive table.\"\n",
              "              style=\"display:none;\">\n",
              "        \n",
              "  <svg xmlns=\"http://www.w3.org/2000/svg\" height=\"24px\"viewBox=\"0 0 24 24\"\n",
              "       width=\"24px\">\n",
              "    <path d=\"M0 0h24v24H0V0z\" fill=\"none\"/>\n",
              "    <path d=\"M18.56 5.44l.94 2.06.94-2.06 2.06-.94-2.06-.94-.94-2.06-.94 2.06-2.06.94zm-11 1L8.5 8.5l.94-2.06 2.06-.94-2.06-.94L8.5 2.5l-.94 2.06-2.06.94zm10 10l.94 2.06.94-2.06 2.06-.94-2.06-.94-.94-2.06-.94 2.06-2.06.94z\"/><path d=\"M17.41 7.96l-1.37-1.37c-.4-.4-.92-.59-1.43-.59-.52 0-1.04.2-1.43.59L10.3 9.45l-7.72 7.72c-.78.78-.78 2.05 0 2.83L4 21.41c.39.39.9.59 1.41.59.51 0 1.02-.2 1.41-.59l7.78-7.78 2.81-2.81c.8-.78.8-2.07 0-2.86zM5.41 20L4 18.59l7.72-7.72 1.47 1.35L5.41 20z\"/>\n",
              "  </svg>\n",
              "      </button>\n",
              "      \n",
              "  <style>\n",
              "    .colab-df-container {\n",
              "      display:flex;\n",
              "      flex-wrap:wrap;\n",
              "      gap: 12px;\n",
              "    }\n",
              "\n",
              "    .colab-df-convert {\n",
              "      background-color: #E8F0FE;\n",
              "      border: none;\n",
              "      border-radius: 50%;\n",
              "      cursor: pointer;\n",
              "      display: none;\n",
              "      fill: #1967D2;\n",
              "      height: 32px;\n",
              "      padding: 0 0 0 0;\n",
              "      width: 32px;\n",
              "    }\n",
              "\n",
              "    .colab-df-convert:hover {\n",
              "      background-color: #E2EBFA;\n",
              "      box-shadow: 0px 1px 2px rgba(60, 64, 67, 0.3), 0px 1px 3px 1px rgba(60, 64, 67, 0.15);\n",
              "      fill: #174EA6;\n",
              "    }\n",
              "\n",
              "    [theme=dark] .colab-df-convert {\n",
              "      background-color: #3B4455;\n",
              "      fill: #D2E3FC;\n",
              "    }\n",
              "\n",
              "    [theme=dark] .colab-df-convert:hover {\n",
              "      background-color: #434B5C;\n",
              "      box-shadow: 0px 1px 3px 1px rgba(0, 0, 0, 0.15);\n",
              "      filter: drop-shadow(0px 1px 2px rgba(0, 0, 0, 0.3));\n",
              "      fill: #FFFFFF;\n",
              "    }\n",
              "  </style>\n",
              "\n",
              "      <script>\n",
              "        const buttonEl =\n",
              "          document.querySelector('#df-3142abf2-82f3-4467-bf48-344dfc93baaf button.colab-df-convert');\n",
              "        buttonEl.style.display =\n",
              "          google.colab.kernel.accessAllowed ? 'block' : 'none';\n",
              "\n",
              "        async function convertToInteractive(key) {\n",
              "          const element = document.querySelector('#df-3142abf2-82f3-4467-bf48-344dfc93baaf');\n",
              "          const dataTable =\n",
              "            await google.colab.kernel.invokeFunction('convertToInteractive',\n",
              "                                                     [key], {});\n",
              "          if (!dataTable) return;\n",
              "\n",
              "          const docLinkHtml = 'Like what you see? Visit the ' +\n",
              "            '<a target=\"_blank\" href=https://colab.research.google.com/notebooks/data_table.ipynb>data table notebook</a>'\n",
              "            + ' to learn more about interactive tables.';\n",
              "          element.innerHTML = '';\n",
              "          dataTable['output_type'] = 'display_data';\n",
              "          await google.colab.output.renderOutput(dataTable, element);\n",
              "          const docLink = document.createElement('div');\n",
              "          docLink.innerHTML = docLinkHtml;\n",
              "          element.appendChild(docLink);\n",
              "        }\n",
              "      </script>\n",
              "    </div>\n",
              "  </div>\n",
              "  "
            ]
          },
          "metadata": {},
          "execution_count": 2
        }
      ]
    },
    {
      "cell_type": "code",
      "metadata": {
        "colab": {
          "base_uri": "https://localhost:8080/",
          "height": 265
        },
        "id": "fDgQ-6iQqrsY",
        "outputId": "96f04af9-892b-4956-9ea7-f1239f37b5d2"
      },
      "source": [
        "plt.scatter(data.iloc[:,0], data.iloc[:,1])\n",
        "plt.axis('equal');"
      ],
      "execution_count": 3,
      "outputs": [
        {
          "output_type": "display_data",
          "data": {
            "text/plain": [
              "<Figure size 432x288 with 1 Axes>"
            ],
            "image/png": "[encoded data removed]"
          },
          "metadata": {
            "needs_background": "light"
          }
        }
      ]
    },
    {
      "cell_type": "markdown",
      "metadata": {
        "id": "J5q3s2hH-kPD"
      },
      "source": [
        "## Dwie składowe główne"
      ]
    },
    {
      "cell_type": "markdown",
      "metadata": {
        "id": "s6LKvI1y95Mu"
      },
      "source": [
        "Wyliczamy dwie składowe główne (**n_components=2**) czyli wektory bazowe nowego układu współrzędnych:"
      ]
    },
    {
      "cell_type": "code",
      "metadata": {
        "colab": {
          "base_uri": "https://localhost:8080/"
        },
        "id": "ABpuBMhAq-c8",
        "outputId": "eae41ac9-5f07-4c5c-b714-b485294c2533"
      },
      "source": [
        "from sklearn.decomposition import PCA\n",
        "pca = PCA(n_components=2)\n",
        "pca.fit(data)"
      ],
      "execution_count": 4,
      "outputs": [
        {
          "output_type": "execute_result",
          "data": {
            "text/plain": [
              "PCA(n_components=2)"
            ]
          },
          "metadata": {},
          "execution_count": 4
        }
      ]
    },
    {
      "cell_type": "markdown",
      "metadata": {
        "id": "uZZ3tCL082-4"
      },
      "source": [
        "Wektory bazowe nowego układu wpółrzędnych: "
      ]
    },
    {
      "cell_type": "code",
      "metadata": {
        "colab": {
          "base_uri": "https://localhost:8080/"
        },
        "id": "e3EB0m4BrEpW",
        "outputId": "760648c7-a50a-440a-e79d-c956ad7db260"
      },
      "source": [
        "print(pca.components_)"
      ],
      "execution_count": 5,
      "outputs": [
        {
          "output_type": "stream",
          "name": "stdout",
          "text": [
            "[[-0.94446029 -0.32862557]\n",
            " [-0.32862557  0.94446029]]\n"
          ]
        }
      ]
    },
    {
      "cell_type": "markdown",
      "metadata": {
        "id": "HYRynR0n9Z3E"
      },
      "source": [
        "Wariancje dla nowych współrzędnych:"
      ]
    },
    {
      "cell_type": "code",
      "metadata": {
        "colab": {
          "base_uri": "https://localhost:8080/"
        },
        "id": "U7SjLoDT81pN",
        "outputId": "8ee62ec6-4291-4d59-b8ca-8163b57bf5e4"
      },
      "source": [
        "print(pca.explained_variance_)"
      ],
      "execution_count": 6,
      "outputs": [
        {
          "output_type": "stream",
          "name": "stdout",
          "text": [
            "[0.7625315 0.0184779]\n"
          ]
        }
      ]
    },
    {
      "cell_type": "markdown",
      "metadata": {
        "id": "-wt55Jes9iZY"
      },
      "source": [
        "Dodajemy do wykresu wektory wyznaczające nowy układ współrzędnych. Ich długość określona jest przez wariancje: "
      ]
    },
    {
      "cell_type": "code",
      "metadata": {
        "id": "TwCS_86SrNfC"
      },
      "source": [
        "def draw_vector(v0, v1, ax=None):\n",
        "  ax = ax or plt.gca()\n",
        "  arrowprops=dict(arrowstyle='->',\n",
        "  linewidth=2,\n",
        "  shrinkA=0, shrinkB=0, color='black')\n",
        "  ax.annotate('', v1, v0, arrowprops=arrowprops)"
      ],
      "execution_count": 7,
      "outputs": []
    },
    {
      "cell_type": "code",
      "metadata": {
        "colab": {
          "base_uri": "https://localhost:8080/",
          "height": 265
        },
        "id": "4IY7lr5crXhw",
        "outputId": "82b069e9-61db-4282-ccff-5067a4c7a75d"
      },
      "source": [
        "plt.scatter(data.iloc[:, 0], data.iloc[:, 1], alpha=0.2)\n",
        "for length, vector in zip(pca.explained_variance_, pca.components_):\n",
        "  v = vector * 3 * np.sqrt(length)\n",
        "  draw_vector(pca.mean_, pca.mean_ + v)\n",
        "plt.axis('equal');"
      ],
      "execution_count": 8,
      "outputs": [
        {
          "output_type": "display_data",
          "data": {
            "text/plain": [
              "<Figure size 432x288 with 1 Axes>"
            ],
            "image/png": "[encoded data removed]"
          },
          "metadata": {
            "needs_background": "light"
          }
        }
      ]
    },
    {
      "cell_type": "markdown",
      "metadata": {
        "id": "3hEUqaL_-WDC"
      },
      "source": [
        "Współrzędne punktów w **nowym układzie współrzędnych**:"
      ]
    },
    {
      "cell_type": "code",
      "metadata": {
        "colab": {
          "base_uri": "https://localhost:8080/"
        },
        "id": "gLY-x4Aq-amm",
        "outputId": "f9a3712e-61c4-4b0e-8797-d1c1941f3e2e"
      },
      "source": [
        "data_pca = pca.transform(data)\n",
        "data_pca"
      ],
      "execution_count": 9,
      "outputs": [
        {
          "output_type": "execute_result",
          "data": {
            "text/plain": [
              "array([[ 6.76769235e-01,  5.97386015e-02],\n",
              "       [-1.07121393e+00,  2.57240064e-01],\n",
              "       [ 7.27912364e-01, -1.68669939e-01],\n",
              "       [ 2.30964136e+00,  2.44066575e-01],\n",
              "       [ 6.30052323e-01, -3.04655713e-01],\n",
              "       [ 1.02448887e+00,  7.56230140e-02],\n",
              "       [ 7.77183507e-01, -8.34608477e-02],\n",
              "       [-1.39656414e+00,  1.44518385e-01],\n",
              "       [-2.91049874e-01, -2.01289478e-01],\n",
              "       [ 1.88864221e+00,  2.31419563e-01],\n",
              "       [-7.11544293e-01,  1.13426118e-01],\n",
              "       [ 6.38884130e-01,  3.88212853e-02],\n",
              "       [ 5.48059617e-01, -2.00775267e-01],\n",
              "       [-2.19312436e-01,  2.08243673e-01],\n",
              "       [-3.87789490e-01,  6.89135848e-02],\n",
              "       [ 7.15219956e-01,  1.13841003e-01],\n",
              "       [-1.08373816e+00,  7.78081042e-02],\n",
              "       [-2.99917403e-01, -5.86382919e-02],\n",
              "       [-7.96849021e-01,  2.44527383e-01],\n",
              "       [-8.12568346e-01, -1.17341246e-01],\n",
              "       [-1.54018281e+00, -3.24862050e-02],\n",
              "       [-2.52920476e-01, -4.86012463e-02],\n",
              "       [ 6.26464454e-01, -1.68045678e-01],\n",
              "       [-1.61007571e+00,  2.28082001e-01],\n",
              "       [ 5.04240563e-01,  5.04806457e-03],\n",
              "       [ 5.53935753e-01,  1.33299389e-01],\n",
              "       [ 6.81911252e-01,  1.73541132e-02],\n",
              "       [-2.00157228e-02, -6.76884664e-02],\n",
              "       [ 1.13550833e-01,  1.21428285e-01],\n",
              "       [ 2.92286085e-02,  7.90509091e-02],\n",
              "       [-2.14393483e-01,  1.41239296e-01],\n",
              "       [-1.03406124e+00,  2.18106452e-01],\n",
              "       [ 3.88635004e-01,  1.00903110e-01],\n",
              "       [ 9.96727811e-01, -4.36048501e-02],\n",
              "       [ 1.39223653e+00,  1.10141389e-01],\n",
              "       [ 4.57043694e-01, -4.97379329e-02],\n",
              "       [ 6.81839901e-01, -2.94160957e-01],\n",
              "       [-9.05233246e-01, -4.64644357e-02],\n",
              "       [ 4.94316334e-01,  1.68112686e-02],\n",
              "       [ 6.22411280e-01,  1.21231745e-01],\n",
              "       [ 3.26088548e-01,  1.17087443e-01],\n",
              "       [ 4.52560386e-01, -2.85079894e-01],\n",
              "       [ 6.81840663e-01, -3.41435056e-02],\n",
              "       [-2.44832816e-01,  1.35036709e-01],\n",
              "       [-5.27149562e-01,  1.89232462e-02],\n",
              "       [-4.51448737e-01, -2.94371271e-01],\n",
              "       [-1.42864453e+00,  8.68104419e-02],\n",
              "       [ 8.05233004e-01, -1.33401389e-01],\n",
              "       [ 1.81049742e-01, -4.30809501e-02],\n",
              "       [ 3.49039347e-01,  5.18320475e-02],\n",
              "       [ 2.65803583e+00,  3.49490740e-02],\n",
              "       [-1.34272221e+00,  1.57302515e-01],\n",
              "       [-1.73026340e-01,  6.13578430e-02],\n",
              "       [ 6.13676729e-01, -1.16464100e-01],\n",
              "       [-1.89940741e+00,  1.26393840e-04],\n",
              "       [-7.93074429e-01, -8.40401939e-02],\n",
              "       [-4.17072486e-01, -3.26912551e-03],\n",
              "       [ 1.54913526e-01, -1.35977010e-01],\n",
              "       [ 2.44646603e-01,  1.23357386e-01],\n",
              "       [ 7.26337140e-01, -2.31185881e-01],\n",
              "       [-7.91592424e-01, -1.65553219e-02],\n",
              "       [ 4.39666794e-01,  3.74049336e-02],\n",
              "       [-2.66630687e-01, -4.54841080e-02],\n",
              "       [-8.77131636e-01,  8.39045636e-02],\n",
              "       [-6.37447634e-01, -1.26191453e-01],\n",
              "       [-7.72982393e-01, -1.80436148e-01],\n",
              "       [-1.04616382e+00, -2.70917422e-01],\n",
              "       [ 1.15209837e+00,  1.70296296e-01],\n",
              "       [-5.26661400e-02,  2.53435288e-01],\n",
              "       [-9.74296354e-01,  1.59299503e-01],\n",
              "       [-6.24348505e-01,  2.99999965e-02],\n",
              "       [-1.00475074e+00, -6.19074182e-02],\n",
              "       [ 5.89973268e-01, -7.11873850e-02],\n",
              "       [ 1.50344054e+00,  2.49410266e-01],\n",
              "       [ 1.27433349e+00, -1.35521726e-02],\n",
              "       [-1.25658172e+00, -3.83491260e-02],\n",
              "       [ 1.37852445e-01, -2.90514917e-02],\n",
              "       [-1.36126475e+00, -2.11338817e-02],\n",
              "       [ 7.27518820e-01,  7.13551004e-03],\n",
              "       [ 4.50501231e-01,  2.09969271e-02],\n",
              "       [-1.17577071e-01, -6.02107305e-03],\n",
              "       [-8.49638130e-01,  3.70494278e-03],\n",
              "       [-9.51657336e-02, -9.32144273e-03],\n",
              "       [-1.81175961e-01,  8.87826210e-03],\n",
              "       [ 2.81596080e-01,  1.07511673e-01],\n",
              "       [-2.56560634e-01, -2.81842071e-02],\n",
              "       [ 8.52804745e-01, -5.63254552e-02],\n",
              "       [-4.77688980e-01, -1.35849029e-01],\n",
              "       [-2.96471868e-01, -1.58417778e-01],\n",
              "       [ 1.68108524e-03, -1.32621236e-02],\n",
              "       [-2.05727542e-01,  9.02947875e-02],\n",
              "       [ 8.12610001e-01,  6.90986331e-02],\n",
              "       [-7.06157363e-02, -4.72508076e-02],\n",
              "       [ 2.31690062e-01, -1.02421889e-02],\n",
              "       [-1.59605923e-01,  8.23272207e-02],\n",
              "       [-5.98727081e-01,  4.72125782e-02],\n",
              "       [ 1.01944512e+00,  5.31196102e-02],\n",
              "       [-7.01462226e-01, -5.21123677e-02],\n",
              "       [-1.40420099e+00,  1.76954830e-01],\n",
              "       [ 6.94997907e-01, -2.24640259e-01],\n",
              "       [ 5.18636606e-01, -8.09180525e-02],\n",
              "       [ 4.83061626e-01, -1.09408815e-01],\n",
              "       [ 6.79198052e-01,  1.51173114e-01],\n",
              "       [-1.30170017e+00,  7.09063876e-02],\n",
              "       [-2.71805220e-01, -8.58900888e-02],\n",
              "       [ 9.47603686e-01,  1.11545123e-01],\n",
              "       [-3.49630397e-01,  8.16807591e-02],\n",
              "       [ 4.85113462e-01, -1.88841298e-02],\n",
              "       [-3.04715098e-01,  2.57745706e-01],\n",
              "       [-3.31839520e-01, -1.33854420e-02],\n",
              "       [-1.38578436e+00, -3.31971953e-02],\n",
              "       [ 8.84502948e-01,  1.00276096e-01],\n",
              "       [-2.47084475e+00,  1.14843232e-01],\n",
              "       [-9.56899804e-02,  2.34825376e-01],\n",
              "       [-4.64806358e-01,  5.21249428e-02],\n",
              "       [ 7.06669625e-01,  2.33625162e-01],\n",
              "       [ 1.54312708e-01, -1.74122263e-01],\n",
              "       [ 5.45819213e-01, -8.34943531e-02],\n",
              "       [ 1.46023727e-01,  1.15988548e-02],\n",
              "       [ 9.57253276e-01,  8.20885098e-02],\n",
              "       [-6.91815248e-01, -1.45754887e-01],\n",
              "       [-1.00443516e-01, -2.94833747e-01],\n",
              "       [ 2.77924488e-01,  2.99615388e-01],\n",
              "       [-1.20207491e+00, -1.07726832e-01],\n",
              "       [-6.04953108e-02, -2.42479229e-01],\n",
              "       [-1.03273685e+00,  2.68126535e-02],\n",
              "       [ 6.88215760e-01,  1.67472633e-01],\n",
              "       [-1.21050656e+00, -4.69504001e-02],\n",
              "       [-2.40052449e-01,  6.10344465e-02],\n",
              "       [-6.06855334e-01,  1.52362015e-01],\n",
              "       [ 1.29217575e+00,  1.34627645e-01],\n",
              "       [-1.03282074e-01, -6.57356874e-02],\n",
              "       [-1.41361475e+00, -2.28323173e-02],\n",
              "       [ 7.57783205e-01,  7.00756512e-02],\n",
              "       [ 1.41360423e+00, -1.55883244e-01],\n",
              "       [ 1.99564613e+00,  7.67233940e-02],\n",
              "       [ 1.66865955e+00, -2.17311439e-01],\n",
              "       [ 1.66032125e+00, -9.47319393e-02],\n",
              "       [ 4.24742508e-01,  2.03171071e-02],\n",
              "       [-9.26445715e-01,  9.12224833e-02],\n",
              "       [ 3.28504629e-02, -1.25706416e-01],\n",
              "       [-5.17521702e-01, -7.20956324e-02],\n",
              "       [-9.24887775e-02, -6.30062621e-02],\n",
              "       [-3.05962249e-02, -3.57199779e-03],\n",
              "       [ 1.30795754e-01, -4.00179911e-03],\n",
              "       [-7.74659629e-02, -7.83158849e-02],\n",
              "       [-4.20826569e-01,  5.54588300e-03],\n",
              "       [ 6.78334448e-01, -1.36015287e-01],\n",
              "       [-6.35104074e-01,  1.06651554e-01],\n",
              "       [ 2.72075594e-01,  3.93203001e-01],\n",
              "       [-2.26801066e-01, -1.36909181e-01],\n",
              "       [-1.45908094e+00, -2.45286954e-01],\n",
              "       [ 4.03275391e-01, -7.98143251e-02],\n",
              "       [ 4.88618199e-01,  2.35232561e-03],\n",
              "       [-3.77797862e-02,  4.11805137e-02],\n",
              "       [ 2.25514691e-01,  2.18823208e-02],\n",
              "       [ 3.73320407e-01, -9.42631804e-03],\n",
              "       [ 9.96559672e-01,  1.35680064e-01],\n",
              "       [ 6.68655132e-01,  5.84565987e-02],\n",
              "       [-3.09207055e-01,  1.97249840e-01],\n",
              "       [ 1.44746288e+00, -1.14083649e-01],\n",
              "       [-1.27674147e-01,  7.26979511e-02],\n",
              "       [ 1.95898129e-02, -6.44892347e-02],\n",
              "       [-4.68331172e-01,  7.43248455e-02],\n",
              "       [-7.59794861e-01, -9.50500102e-02],\n",
              "       [ 2.11566325e+00, -1.50228254e-01],\n",
              "       [-1.28843614e+00, -2.56574123e-01],\n",
              "       [ 5.24455206e-01,  2.90379472e-01],\n",
              "       [ 2.68082969e-01,  1.04520533e-01],\n",
              "       [ 4.06271559e-02, -1.31461762e-01],\n",
              "       [-1.63087335e+00, -2.89691466e-01],\n",
              "       [ 4.50273668e-01,  2.87481726e-02],\n",
              "       [-1.41736985e+00,  9.84653747e-02],\n",
              "       [-3.20579341e-01,  7.34129168e-02],\n",
              "       [-2.16095416e+00, -6.30801894e-02],\n",
              "       [ 7.55938440e-01,  1.58567217e-02],\n",
              "       [ 1.13147728e+00, -1.63990641e-01],\n",
              "       [-4.01022769e-01,  9.35581760e-02],\n",
              "       [-1.33261395e-01,  2.30758543e-01],\n",
              "       [-1.20765775e-01, -2.63426989e-02],\n",
              "       [ 1.03185993e+00, -1.29167415e-01],\n",
              "       [-1.29878689e-01, -1.84090463e-01],\n",
              "       [-4.08011754e-01,  6.01636158e-02],\n",
              "       [ 4.17084437e-01,  9.04137707e-02],\n",
              "       [-1.00930809e-01, -6.78582909e-02],\n",
              "       [ 7.22839507e-02, -2.66653403e-02],\n",
              "       [ 6.47903117e-01, -6.91638080e-02],\n",
              "       [ 4.74689466e-01, -1.14557938e-03],\n",
              "       [ 6.85499472e-01, -2.13675563e-01],\n",
              "       [-1.49366216e+00,  5.05889730e-02],\n",
              "       [-3.49297457e-01, -2.69159245e-01],\n",
              "       [-7.79713261e-01, -1.13958001e-01],\n",
              "       [ 5.67446775e-01, -1.25273441e-01],\n",
              "       [ 5.18831382e-02,  2.76513979e-01],\n",
              "       [ 1.25350822e+00, -1.59067690e-01],\n",
              "       [-8.53016941e-01,  2.26324489e-03],\n",
              "       [-2.61547685e-01, -9.79084715e-02],\n",
              "       [-2.02667441e+00, -2.51066183e-02],\n",
              "       [ 1.20688282e+00,  5.97125713e-03],\n",
              "       [-3.53816725e-01, -9.42400167e-02]])"
            ]
          },
          "metadata": {},
          "execution_count": 9
        }
      ]
    },
    {
      "cell_type": "code",
      "metadata": {
        "colab": {
          "base_uri": "https://localhost:8080/",
          "height": 265
        },
        "id": "suiXJzYF_D-v",
        "outputId": "8b9b4b8e-af71-455d-d0da-c8de6b1a4582"
      },
      "source": [
        "plt.scatter(data_pca[:,0], data_pca[:,1])\n",
        "plt.axis('equal');"
      ],
      "execution_count": 10,
      "outputs": [
        {
          "output_type": "display_data",
          "data": {
            "text/plain": [
              "<Figure size 432x288 with 1 Axes>"
            ],
            "image/png": "[encoded data removed]"
          },
          "metadata": {
            "needs_background": "light"
          }
        }
      ]
    },
    {
      "cell_type": "markdown",
      "metadata": {
        "id": "RPznbY3x_fOO"
      },
      "source": [
        "## Jedna składowa główna"
      ]
    },
    {
      "cell_type": "markdown",
      "metadata": {
        "id": "ZvtJKja7_1Or"
      },
      "source": [
        "Wyliczamy jedną składową główną (**n_components=1**) - chcemy wyeliminować jeden wymiar danych."
      ]
    },
    {
      "cell_type": "code",
      "metadata": {
        "colab": {
          "base_uri": "https://localhost:8080/"
        },
        "id": "8kX-J0ubrmLI",
        "outputId": "8da596fe-9be8-4674-8b19-954191cb13e9"
      },
      "source": [
        "pca = PCA(n_components=1)\n",
        "pca.fit(data)"
      ],
      "execution_count": 11,
      "outputs": [
        {
          "output_type": "execute_result",
          "data": {
            "text/plain": [
              "PCA(n_components=1)"
            ]
          },
          "metadata": {},
          "execution_count": 11
        }
      ]
    },
    {
      "cell_type": "markdown",
      "metadata": {
        "id": "66YeeEROAMqH"
      },
      "source": [
        "Współrzędne punktów w **nowym układzie współrzędnych**:"
      ]
    },
    {
      "cell_type": "code",
      "metadata": {
        "id": "3gXv_6oOAHiS"
      },
      "source": [
        "data_pca = pca.transform(data)  "
      ],
      "execution_count": 12,
      "outputs": []
    },
    {
      "cell_type": "markdown",
      "metadata": {
        "id": "8cNjTKRTAPBT"
      },
      "source": [
        "Porówanie kształtów danych początkowych i po redukcji jednego wymiaru:"
      ]
    },
    {
      "cell_type": "code",
      "metadata": {
        "colab": {
          "base_uri": "https://localhost:8080/"
        },
        "id": "4GaOTlHnAZJz",
        "outputId": "1d49ef31-1417-4836-84a7-82c2a5a63464"
      },
      "source": [
        "print(\"Początkowy shape: \", data.shape)\n",
        "print(\"Po transformacji shape:\", data_pca.shape)"
      ],
      "execution_count": 13,
      "outputs": [
        {
          "output_type": "stream",
          "name": "stdout",
          "text": [
            "Początkowy shape:  (200, 2)\n",
            "Po transformacji shape: (200, 1)\n"
          ]
        }
      ]
    },
    {
      "cell_type": "markdown",
      "metadata": {
        "id": "96W9RrHnAkHJ"
      },
      "source": [
        "Dane początkowe i po redukcji wymiaru:"
      ]
    },
    {
      "cell_type": "code",
      "metadata": {
        "colab": {
          "base_uri": "https://localhost:8080/",
          "height": 265
        },
        "id": "KGXURmbaruEA",
        "outputId": "c49ceb42-402f-433a-f8e6-59a52a4a41e7"
      },
      "source": [
        "data_new = pca.inverse_transform(data_pca)\n",
        "plt.scatter(data.iloc[:, 0], data.iloc[:, 1]),\n",
        "plt.scatter(data_new[:, 0], data_new[:, 1]),\n",
        "plt.axis('equal');"
      ],
      "execution_count": 14,
      "outputs": [
        {
          "output_type": "display_data",
          "data": {
            "text/plain": [
              "<Figure size 432x288 with 1 Axes>"
            ],
            "image/png": "[encoded data removed]"
          },
          "metadata": {
            "needs_background": "light"
          }
        }
      ]
    }
  ]
}