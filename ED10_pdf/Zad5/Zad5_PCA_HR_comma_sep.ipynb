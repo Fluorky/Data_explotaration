{
  "cells": [
    {
      "cell_type": "markdown",
      "metadata": {
        "id": "r_0JmE5H70Fm"
      },
      "source": [
        "# **ANALIZA SKŁADOWYCH GŁÓWNYCH**"
      ]
    },
    {
      "cell_type": "code",
      "execution_count": null,
      "metadata": {
        "id": "M6GurYaAqeqA"
      },
      "outputs": [],
      "source": [
        "import numpy as np\n",
        "import matplotlib.pyplot as plt\n",
        "import pandas as pd\n",
        "import seaborn as sb\n",
        "from sklearn.decomposition import PCA"
      ]
    },
    {
      "cell_type": "markdown",
      "metadata": {
        "id": "CEoGIVds7w8K"
      },
      "source": [
        "Załadowanie zbioru danych:"
      ]
    },
    {
      "cell_type": "code",
      "execution_count": null,
      "metadata": {
        "colab": {
          "base_uri": "https://localhost:8080/",
          "height": 415
        },
        "id": "Faks-Nb0vIW4",
        "outputId": "8d492fe1-a2f6-4a3e-d3a0-9bfd6e20d8d2"
      },
      "outputs": [
        {
          "data": {
            "text/html": [
              "<div>\n",
              "<style scoped>\n",
              "    .dataframe tbody tr th:only-of-type {\n",
              "        vertical-align: middle;\n",
              "    }\n",
              "\n",
              "    .dataframe tbody tr th {\n",
              "        vertical-align: top;\n",
              "    }\n",
              "\n",
              "    .dataframe thead th {\n",
              "        text-align: right;\n",
              "    }\n",
              "</style>\n",
              "<table border=\"1\" class=\"dataframe\">\n",
              "  <thead>\n",
              "    <tr style=\"text-align: right;\">\n",
              "      <th></th>\n",
              "      <th>satisfaction_level</th>\n",
              "      <th>last_evaluation</th>\n",
              "      <th>number_project</th>\n",
              "      <th>average_montly_hours</th>\n",
              "      <th>time_spend_company</th>\n",
              "      <th>Work_accident</th>\n",
              "      <th>left</th>\n",
              "      <th>promotion_last_5years</th>\n",
              "      <th>sales</th>\n",
              "      <th>salary</th>\n",
              "    </tr>\n",
              "  </thead>\n",
              "  <tbody>\n",
              "    <tr>\n",
              "      <th>0</th>\n",
              "      <td>0.38</td>\n",
              "      <td>0.53</td>\n",
              "      <td>2</td>\n",
              "      <td>157</td>\n",
              "      <td>3</td>\n",
              "      <td>0</td>\n",
              "      <td>1</td>\n",
              "      <td>0</td>\n",
              "      <td>sales</td>\n",
              "      <td>low</td>\n",
              "    </tr>\n",
              "    <tr>\n",
              "      <th>1</th>\n",
              "      <td>0.80</td>\n",
              "      <td>0.86</td>\n",
              "      <td>5</td>\n",
              "      <td>262</td>\n",
              "      <td>6</td>\n",
              "      <td>0</td>\n",
              "      <td>1</td>\n",
              "      <td>0</td>\n",
              "      <td>sales</td>\n",
              "      <td>medium</td>\n",
              "    </tr>\n",
              "    <tr>\n",
              "      <th>2</th>\n",
              "      <td>0.11</td>\n",
              "      <td>0.88</td>\n",
              "      <td>7</td>\n",
              "      <td>272</td>\n",
              "      <td>4</td>\n",
              "      <td>0</td>\n",
              "      <td>1</td>\n",
              "      <td>0</td>\n",
              "      <td>sales</td>\n",
              "      <td>medium</td>\n",
              "    </tr>\n",
              "    <tr>\n",
              "      <th>3</th>\n",
              "      <td>0.72</td>\n",
              "      <td>0.87</td>\n",
              "      <td>5</td>\n",
              "      <td>223</td>\n",
              "      <td>5</td>\n",
              "      <td>0</td>\n",
              "      <td>1</td>\n",
              "      <td>0</td>\n",
              "      <td>sales</td>\n",
              "      <td>low</td>\n",
              "    </tr>\n",
              "    <tr>\n",
              "      <th>4</th>\n",
              "      <td>0.37</td>\n",
              "      <td>0.52</td>\n",
              "      <td>2</td>\n",
              "      <td>159</td>\n",
              "      <td>3</td>\n",
              "      <td>0</td>\n",
              "      <td>1</td>\n",
              "      <td>0</td>\n",
              "      <td>sales</td>\n",
              "      <td>low</td>\n",
              "    </tr>\n",
              "    <tr>\n",
              "      <th>...</th>\n",
              "      <td>...</td>\n",
              "      <td>...</td>\n",
              "      <td>...</td>\n",
              "      <td>...</td>\n",
              "      <td>...</td>\n",
              "      <td>...</td>\n",
              "      <td>...</td>\n",
              "      <td>...</td>\n",
              "      <td>...</td>\n",
              "      <td>...</td>\n",
              "    </tr>\n",
              "    <tr>\n",
              "      <th>14994</th>\n",
              "      <td>0.40</td>\n",
              "      <td>0.57</td>\n",
              "      <td>2</td>\n",
              "      <td>151</td>\n",
              "      <td>3</td>\n",
              "      <td>0</td>\n",
              "      <td>1</td>\n",
              "      <td>0</td>\n",
              "      <td>support</td>\n",
              "      <td>low</td>\n",
              "    </tr>\n",
              "    <tr>\n",
              "      <th>14995</th>\n",
              "      <td>0.37</td>\n",
              "      <td>0.48</td>\n",
              "      <td>2</td>\n",
              "      <td>160</td>\n",
              "      <td>3</td>\n",
              "      <td>0</td>\n",
              "      <td>1</td>\n",
              "      <td>0</td>\n",
              "      <td>support</td>\n",
              "      <td>low</td>\n",
              "    </tr>\n",
              "    <tr>\n",
              "      <th>14996</th>\n",
              "      <td>0.37</td>\n",
              "      <td>0.53</td>\n",
              "      <td>2</td>\n",
              "      <td>143</td>\n",
              "      <td>3</td>\n",
              "      <td>0</td>\n",
              "      <td>1</td>\n",
              "      <td>0</td>\n",
              "      <td>support</td>\n",
              "      <td>low</td>\n",
              "    </tr>\n",
              "    <tr>\n",
              "      <th>14997</th>\n",
              "      <td>0.11</td>\n",
              "      <td>0.96</td>\n",
              "      <td>6</td>\n",
              "      <td>280</td>\n",
              "      <td>4</td>\n",
              "      <td>0</td>\n",
              "      <td>1</td>\n",
              "      <td>0</td>\n",
              "      <td>support</td>\n",
              "      <td>low</td>\n",
              "    </tr>\n",
              "    <tr>\n",
              "      <th>14998</th>\n",
              "      <td>0.37</td>\n",
              "      <td>0.52</td>\n",
              "      <td>2</td>\n",
              "      <td>158</td>\n",
              "      <td>3</td>\n",
              "      <td>0</td>\n",
              "      <td>1</td>\n",
              "      <td>0</td>\n",
              "      <td>support</td>\n",
              "      <td>low</td>\n",
              "    </tr>\n",
              "  </tbody>\n",
              "</table>\n",
              "<p>14999 rows × 10 columns</p>\n",
              "</div>"
            ],
            "text/plain": [
              "       satisfaction_level  last_evaluation  number_project  \\\n",
              "0                    0.38             0.53               2   \n",
              "1                    0.80             0.86               5   \n",
              "2                    0.11             0.88               7   \n",
              "3                    0.72             0.87               5   \n",
              "4                    0.37             0.52               2   \n",
              "...                   ...              ...             ...   \n",
              "14994                0.40             0.57               2   \n",
              "14995                0.37             0.48               2   \n",
              "14996                0.37             0.53               2   \n",
              "14997                0.11             0.96               6   \n",
              "14998                0.37             0.52               2   \n",
              "\n",
              "       average_montly_hours  time_spend_company  Work_accident  left  \\\n",
              "0                       157                   3              0     1   \n",
              "1                       262                   6              0     1   \n",
              "2                       272                   4              0     1   \n",
              "3                       223                   5              0     1   \n",
              "4                       159                   3              0     1   \n",
              "...                     ...                 ...            ...   ...   \n",
              "14994                   151                   3              0     1   \n",
              "14995                   160                   3              0     1   \n",
              "14996                   143                   3              0     1   \n",
              "14997                   280                   4              0     1   \n",
              "14998                   158                   3              0     1   \n",
              "\n",
              "       promotion_last_5years    sales  salary  \n",
              "0                          0    sales     low  \n",
              "1                          0    sales  medium  \n",
              "2                          0    sales  medium  \n",
              "3                          0    sales     low  \n",
              "4                          0    sales     low  \n",
              "...                      ...      ...     ...  \n",
              "14994                      0  support     low  \n",
              "14995                      0  support     low  \n",
              "14996                      0  support     low  \n",
              "14997                      0  support     low  \n",
              "14998                      0  support     low  \n",
              "\n",
              "[14999 rows x 10 columns]"
            ]
          },
          "execution_count": 3,
          "metadata": {},
          "output_type": "execute_result"
        }
      ],
      "source": [
        "data=pd.read_csv('HR_comma_sep.csv')\n",
        "data"
      ]
    },
    {
      "cell_type": "code",
      "execution_count": null,
      "metadata": {
        "id": "rLBMr3DfAH--",
        "outputId": "d7eac74c-7b28-4af5-8bbf-a3d32a2772e0"
      },
      "outputs": [
        {
          "name": "stderr",
          "output_type": "stream",
          "text": [
            "/var/folders/wy/7w1mlgcx4vjfgbpvhlk2y7m00000gn/T/ipykernel_54143/2057684327.py:1: FutureWarning: The default value of numeric_only in DataFrame.corr is deprecated. In a future version, it will default to False. Select only valid columns or specify the value of numeric_only to silence this warning.\n",
            "  corr=data.corr()\n"
          ]
        }
      ],
      "source": [
        "corr=data.corr()"
      ]
    },
    {
      "cell_type": "code",
      "execution_count": null,
      "metadata": {
        "id": "Hedv6MAVAH_B",
        "outputId": "ae587b72-bc6b-44cf-be61-ccc894f7b406"
      },
      "outputs": [
        {
          "data": {
            "text/plain": [
              "<AxesSubplot: >"
            ]
          },
          "execution_count": 6,
          "metadata": {},
          "output_type": "execute_result"
        },
        {
          "data": {
            "image/png": "[encoded data removed]",
            "text/plain": [
              "<Figure size 640x480 with 2 Axes>"
            ]
          },
          "metadata": {},
          "output_type": "display_data"
        }
      ],
      "source": [
        "sb.heatmap(corr,xticklabels=corr.columns,yticklabels=corr.columns,\n",
        "            cmap='RdBu_r',\n",
        "            annot=True,\n",
        "            linewidth=0.5)"
      ]
    },
    {
      "cell_type": "code",
      "execution_count": null,
      "metadata": {
        "id": "kieArrP_AH_B",
        "outputId": "848a1d83-c91d-476a-d390-7fc80aa53dce"
      },
      "outputs": [
        {
          "name": "stderr",
          "output_type": "stream",
          "text": [
            "/var/folders/wy/7w1mlgcx4vjfgbpvhlk2y7m00000gn/T/ipykernel_54143/2744677357.py:1: FutureWarning: The default value of numeric_only in DataFrame.corr is deprecated. In a future version, it will default to False. Select only valid columns or specify the value of numeric_only to silence this warning.\n",
            "  CorrMatrix = np.array(data.corr())\n"
          ]
        },
        {
          "data": {
            "text/plain": [
              "array([[ 1.        ,  0.10502121, -0.14296959, -0.02004811, -0.10086607,\n",
              "         0.05869724, -0.38837498,  0.02560519],\n",
              "       [ 0.10502121,  1.        ,  0.34933259,  0.3397418 ,  0.13159072,\n",
              "        -0.00710429,  0.00656712, -0.00868377],\n",
              "       [-0.14296959,  0.34933259,  1.        ,  0.41721063,  0.19678589,\n",
              "        -0.00474055,  0.02378719, -0.00606396],\n",
              "       [-0.02004811,  0.3397418 ,  0.41721063,  1.        ,  0.12775491,\n",
              "        -0.01014289,  0.07128718, -0.00354441],\n",
              "       [-0.10086607,  0.13159072,  0.19678589,  0.12775491,  1.        ,\n",
              "         0.00212042,  0.14482217,  0.06743293],\n",
              "       [ 0.05869724, -0.00710429, -0.00474055, -0.01014289,  0.00212042,\n",
              "         1.        , -0.15462163,  0.03924543],\n",
              "       [-0.38837498,  0.00656712,  0.02378719,  0.07128718,  0.14482217,\n",
              "        -0.15462163,  1.        , -0.06178811],\n",
              "       [ 0.02560519, -0.00868377, -0.00606396, -0.00354441,  0.06743293,\n",
              "         0.03924543, -0.06178811,  1.        ]])"
            ]
          },
          "execution_count": 11,
          "metadata": {},
          "output_type": "execute_result"
        }
      ],
      "source": [
        "CorrMatrix = np.array(data.corr())\n",
        "CorrMatrix"
      ]
    },
    {
      "cell_type": "code",
      "execution_count": null,
      "metadata": {
        "colab": {
          "base_uri": "https://localhost:8080/",
          "height": 265
        },
        "id": "fDgQ-6iQqrsY",
        "outputId": "f7fb11db-beb7-48b4-ce9b-b6e5f5479cee"
      },
      "outputs": [
        {
          "data": {
            "image/png": "[encoded data removed]",
            "text/plain": [
              "<Figure size 640x480 with 1 Axes>"
            ]
          },
          "metadata": {},
          "output_type": "display_data"
        }
      ],
      "source": [
        "plt.scatter(data.iloc[:,1], data.iloc[:,2])\n",
        "plt.axis('equal');\n",
        "plt.show()"
      ]
    },
    {
      "cell_type": "code",
      "execution_count": null,
      "metadata": {
        "id": "fG_zw5E3AH_D",
        "outputId": "dc72e195-ea17-48b3-e8d3-da6637a523ba"
      },
      "outputs": [
        {
          "data": {
            "image/png": "[encoded data removed]",
            "text/plain": [
              "<Figure size 640x480 with 1 Axes>"
            ]
          },
          "metadata": {},
          "output_type": "display_data"
        }
      ],
      "source": [
        "plt.scatter(data.iloc[:,1], data.iloc[:,3])\n",
        "plt.axis('equal');\n",
        "plt.show()"
      ]
    },
    {
      "cell_type": "code",
      "execution_count": null,
      "metadata": {
        "id": "NyJaW42EAH_F",
        "outputId": "f6e8fa84-732c-4a9d-d22f-a096211553f6"
      },
      "outputs": [
        {
          "data": {
            "image/png": "[encoded data removed]",
            "text/plain": [
              "<Figure size 640x480 with 1 Axes>"
            ]
          },
          "metadata": {},
          "output_type": "display_data"
        }
      ],
      "source": [
        "plt.scatter(data.iloc[:,2], data.iloc[:,3])\n",
        "plt.axis('equal');\n",
        "plt.show()"
      ]
    },
    {
      "cell_type": "code",
      "execution_count": null,
      "metadata": {
        "id": "FlI8giCUAH_G",
        "outputId": "611bd4dc-cd2e-4ef1-838b-5623cc5747f9"
      },
      "outputs": [
        {
          "name": "stdout",
          "output_type": "stream",
          "text": [
            "[1.86091589 1.46409354 0.47745185 1.06058666 0.95598374 0.8454993\n",
            " 0.62648811 0.7089809 ]\n",
            "[[-0.18956186 -0.60825815  0.51043559  0.14578963 -0.2534991  -0.32268329\n",
            "  -0.2910217   0.2433296 ]\n",
            " [ 0.46363715 -0.31222881 -0.27367838  0.15715943 -0.10307248 -0.06471173\n",
            "   0.54777287  0.52257837]\n",
            " [ 0.55704703 -0.12254292  0.58883958  0.0129521   0.09858338  0.1887942\n",
            "   0.24157676 -0.47335058]\n",
            " [ 0.52559587 -0.17853674 -0.30588994  0.11339814  0.0120681   0.25349244\n",
            "  -0.72147388  0.02274205]\n",
            " [ 0.33395132  0.11709262 -0.11038416 -0.44415687 -0.04569912 -0.79303045\n",
            "  -0.09314767 -0.16013636]\n",
            " [-0.06443923 -0.28140442  0.07016424 -0.42577604  0.81315664  0.06549289\n",
            "  -0.02938544  0.25312908]\n",
            " [ 0.2163394   0.61631274  0.45356155  0.01069646  0.00816191  0.01364792\n",
            "  -0.16219105  0.58392171]\n",
            " [-0.00870881 -0.11358933  0.03780465 -0.74989628 -0.50186771  0.39801173\n",
            "   0.02283486  0.11154387]]\n"
          ]
        }
      ],
      "source": [
        "w, v = np.linalg.eig(CorrMatrix)\n",
        "print(w)\n",
        "print(v)"
      ]
    },
    {
      "cell_type": "code",
      "execution_count": null,
      "metadata": {
        "id": "Zwh51UtsAH_G",
        "outputId": "0979e389-31cf-4f33-b82c-a9bd8cbd941f"
      },
      "outputs": [
        {
          "data": {
            "text/plain": [
              "array([-0.18956186,  0.46363715,  0.55704703,  0.52559587,  0.33395132,\n",
              "       -0.06443923,  0.2163394 , -0.00870881])"
            ]
          },
          "execution_count": 13,
          "metadata": {},
          "output_type": "execute_result"
        }
      ],
      "source": [
        "v[:,0]"
      ]
    },
    {
      "cell_type": "code",
      "execution_count": null,
      "metadata": {
        "id": "PiLFmFsuAH_J",
        "outputId": "f0f790cc-cb1b-4f51-dbc2-21f01022977e"
      },
      "outputs": [
        {
          "data": {
            "text/plain": [
              "array([-0.60825815, -0.31222881, -0.12254292, -0.17853674,  0.11709262,\n",
              "       -0.28140442,  0.61631274, -0.11358933])"
            ]
          },
          "execution_count": 14,
          "metadata": {},
          "output_type": "execute_result"
        }
      ],
      "source": [
        "v[:,1]"
      ]
    },
    {
      "cell_type": "code",
      "execution_count": null,
      "metadata": {
        "id": "WIETxPXfAH_J",
        "outputId": "0414dcd7-29df-48e4-b211-17ef6407c114"
      },
      "outputs": [
        {
          "data": {
            "text/plain": [
              "array([ 0.51043559, -0.27367838,  0.58883958, -0.30588994, -0.11038416,\n",
              "        0.07016424,  0.45356155,  0.03780465])"
            ]
          },
          "execution_count": 15,
          "metadata": {},
          "output_type": "execute_result"
        }
      ],
      "source": [
        "v[:,2]"
      ]
    },
    {
      "cell_type": "code",
      "execution_count": null,
      "metadata": {
        "id": "I0FKZggYAH_K",
        "outputId": "9a31ef28-9d58-4299-cc15-5da9650dcd00"
      },
      "outputs": [
        {
          "data": {
            "text/plain": [
              "array([ 0.14578963,  0.15715943,  0.0129521 ,  0.11339814, -0.44415687,\n",
              "       -0.42577604,  0.01069646, -0.74989628])"
            ]
          },
          "execution_count": 16,
          "metadata": {},
          "output_type": "execute_result"
        }
      ],
      "source": [
        "v[:,3]"
      ]
    },
    {
      "cell_type": "code",
      "execution_count": null,
      "metadata": {
        "id": "vlzgtm3pAH_K",
        "outputId": "bafd862f-64b4-4b82-ee05-573567e83bc2"
      },
      "outputs": [
        {
          "data": {
            "text/plain": [
              "array([-0.2534991 , -0.10307248,  0.09858338,  0.0120681 , -0.04569912,\n",
              "        0.81315664,  0.00816191, -0.50186771])"
            ]
          },
          "execution_count": 17,
          "metadata": {},
          "output_type": "execute_result"
        }
      ],
      "source": [
        "v[:,4]"
      ]
    },
    {
      "cell_type": "code",
      "execution_count": null,
      "metadata": {
        "id": "QSwCovYpAH_N",
        "outputId": "2b3cdfd6-63e1-4328-8d98-6b05f18ed0fc"
      },
      "outputs": [
        {
          "data": {
            "text/plain": [
              "array([-0.32268329, -0.06471173,  0.1887942 ,  0.25349244, -0.79303045,\n",
              "        0.06549289,  0.01364792,  0.39801173])"
            ]
          },
          "execution_count": 18,
          "metadata": {},
          "output_type": "execute_result"
        }
      ],
      "source": [
        "v[:,5]"
      ]
    },
    {
      "cell_type": "code",
      "execution_count": null,
      "metadata": {
        "id": "tm77TS5FAH_N",
        "outputId": "a69523da-23ed-4240-b5fe-eda259af70a7"
      },
      "outputs": [
        {
          "data": {
            "text/plain": [
              "array([-0.2910217 ,  0.54777287,  0.24157676, -0.72147388, -0.09314767,\n",
              "       -0.02938544, -0.16219105,  0.02283486])"
            ]
          },
          "execution_count": 19,
          "metadata": {},
          "output_type": "execute_result"
        }
      ],
      "source": [
        "v[:,6]"
      ]
    },
    {
      "cell_type": "code",
      "execution_count": null,
      "metadata": {
        "id": "bRSWviBtAH_O",
        "outputId": "cb93a9d1-e478-488c-b8e3-464b677e666c"
      },
      "outputs": [
        {
          "data": {
            "text/plain": [
              "array([ 0.2433296 ,  0.52257837, -0.47335058,  0.02274205, -0.16013636,\n",
              "        0.25312908,  0.58392171,  0.11154387])"
            ]
          },
          "execution_count": 20,
          "metadata": {},
          "output_type": "execute_result"
        }
      ],
      "source": [
        "v[:,7]"
      ]
    },
    {
      "cell_type": "code",
      "execution_count": null,
      "metadata": {
        "id": "p2Y2XHXAAH_P"
      },
      "outputs": [],
      "source": [
        "data2=data.drop(\"sales\", axis='columns')"
      ]
    },
    {
      "cell_type": "code",
      "execution_count": null,
      "metadata": {
        "id": "7T5ClDoRAH_a"
      },
      "outputs": [],
      "source": [
        "data2=data2.drop(\"salary\", axis='columns')"
      ]
    },
    {
      "cell_type": "markdown",
      "metadata": {
        "id": "J5q3s2hH-kPD"
      },
      "source": [
        "## Dwie składowe główne"
      ]
    },
    {
      "cell_type": "markdown",
      "metadata": {
        "id": "s6LKvI1y95Mu"
      },
      "source": [
        "Wyliczamy dwie składowe główne (**n_components=2**) czyli wektory bazowe nowego układu współrzędnych:"
      ]
    },
    {
      "cell_type": "code",
      "execution_count": null,
      "metadata": {
        "id": "5DNvUMwlAH_b"
      },
      "outputs": [],
      "source": [
        "pca = PCA()\n",
        "pca.fit(data2)\n",
        "cumsum = np.cumsum(pca.explained_variance_ratio_)\n",
        "d = np.argmax(cumsum >= 0.95) + 1"
      ]
    },
    {
      "cell_type": "code",
      "execution_count": null,
      "metadata": {
        "id": "MV9r204TAH_c",
        "outputId": "e50fe420-b625-4321-899b-7e4d342efb9a"
      },
      "outputs": [
        {
          "data": {
            "text/plain": [
              "1"
            ]
          },
          "execution_count": 27,
          "metadata": {},
          "output_type": "execute_result"
        }
      ],
      "source": [
        "d"
      ]
    },
    {
      "cell_type": "code",
      "execution_count": null,
      "metadata": {
        "colab": {
          "base_uri": "https://localhost:8080/"
        },
        "id": "ABpuBMhAq-c8",
        "outputId": "becab3b0-dd83-42f9-83aa-18981f7f851a"
      },
      "outputs": [
        {
          "data": {
            "text/html": [
              "<style>#sk-container-id-1 {color: black;background-color: white;}#sk-container-id-1 pre{padding: 0;}#sk-container-id-1 div.sk-toggleable {background-color: white;}#sk-container-id-1 label.sk-toggleable__label {cursor: pointer;display: block;width: 100%;margin-bottom: 0;padding: 0.3em;box-sizing: border-box;text-align: center;}#sk-container-id-1 label.sk-toggleable__label-arrow:before {content: \"▸\";float: left;margin-right: 0.25em;color: #696969;}#sk-container-id-1 label.sk-toggleable__label-arrow:hover:before {color: black;}#sk-container-id-1 div.sk-estimator:hover label.sk-toggleable__label-arrow:before {color: black;}#sk-container-id-1 div.sk-toggleable__content {max-height: 0;max-width: 0;overflow: hidden;text-align: left;background-color: #f0f8ff;}#sk-container-id-1 div.sk-toggleable__content pre {margin: 0.2em;color: black;border-radius: 0.25em;background-color: #f0f8ff;}#sk-container-id-1 input.sk-toggleable__control:checked~div.sk-toggleable__content {max-height: 200px;max-width: 100%;overflow: auto;}#sk-container-id-1 input.sk-toggleable__control:checked~label.sk-toggleable__label-arrow:before {content: \"▾\";}#sk-container-id-1 div.sk-estimator input.sk-toggleable__control:checked~label.sk-toggleable__label {background-color: #d4ebff;}#sk-container-id-1 div.sk-label input.sk-toggleable__control:checked~label.sk-toggleable__label {background-color: #d4ebff;}#sk-container-id-1 input.sk-hidden--visually {border: 0;clip: rect(1px 1px 1px 1px);clip: rect(1px, 1px, 1px, 1px);height: 1px;margin: -1px;overflow: hidden;padding: 0;position: absolute;width: 1px;}#sk-container-id-1 div.sk-estimator {font-family: monospace;background-color: #f0f8ff;border: 1px dotted black;border-radius: 0.25em;box-sizing: border-box;margin-bottom: 0.5em;}#sk-container-id-1 div.sk-estimator:hover {background-color: #d4ebff;}#sk-container-id-1 div.sk-parallel-item::after {content: \"\";width: 100%;border-bottom: 1px solid gray;flex-grow: 1;}#sk-container-id-1 div.sk-label:hover label.sk-toggleable__label {background-color: #d4ebff;}#sk-container-id-1 div.sk-serial::before {content: \"\";position: absolute;border-left: 1px solid gray;box-sizing: border-box;top: 0;bottom: 0;left: 50%;z-index: 0;}#sk-container-id-1 div.sk-serial {display: flex;flex-direction: column;align-items: center;background-color: white;padding-right: 0.2em;padding-left: 0.2em;position: relative;}#sk-container-id-1 div.sk-item {position: relative;z-index: 1;}#sk-container-id-1 div.sk-parallel {display: flex;align-items: stretch;justify-content: center;background-color: white;position: relative;}#sk-container-id-1 div.sk-item::before, #sk-container-id-1 div.sk-parallel-item::before {content: \"\";position: absolute;border-left: 1px solid gray;box-sizing: border-box;top: 0;bottom: 0;left: 50%;z-index: -1;}#sk-container-id-1 div.sk-parallel-item {display: flex;flex-direction: column;z-index: 1;position: relative;background-color: white;}#sk-container-id-1 div.sk-parallel-item:first-child::after {align-self: flex-end;width: 50%;}#sk-container-id-1 div.sk-parallel-item:last-child::after {align-self: flex-start;width: 50%;}#sk-container-id-1 div.sk-parallel-item:only-child::after {width: 0;}#sk-container-id-1 div.sk-dashed-wrapped {border: 1px dashed gray;margin: 0 0.4em 0.5em 0.4em;box-sizing: border-box;padding-bottom: 0.4em;background-color: white;}#sk-container-id-1 div.sk-label label {font-family: monospace;font-weight: bold;display: inline-block;line-height: 1.2em;}#sk-container-id-1 div.sk-label-container {text-align: center;}#sk-container-id-1 div.sk-container {/* jupyter's `normalize.less` sets `[hidden] { display: none; }` but bootstrap.min.css set `[hidden] { display: none !important; }` so we also need the `!important` here to be able to override the default hidden behavior on the sphinx rendered scikit-learn.org. See: https://github.com/scikit-learn/scikit-learn/issues/21755 */display: inline-block !important;position: relative;}#sk-container-id-1 div.sk-text-repr-fallback {display: none;}</style><div id=\"sk-container-id-1\" class=\"sk-top-container\"><div class=\"sk-text-repr-fallback\"><pre>PCA(n_components=2)</pre><b>In a Jupyter environment, please rerun this cell to show the HTML representation or trust the notebook. <br />On GitHub, the HTML representation is unable to render, please try loading this page with nbviewer.org.</b></div><div class=\"sk-container\" hidden><div class=\"sk-item\"><div class=\"sk-estimator sk-toggleable\"><input class=\"sk-toggleable__control sk-hidden--visually\" id=\"sk-estimator-id-1\" type=\"checkbox\" checked><label for=\"sk-estimator-id-1\" class=\"sk-toggleable__label sk-toggleable__label-arrow\">PCA</label><div class=\"sk-toggleable__content\"><pre>PCA(n_components=2)</pre></div></div></div></div></div>"
            ],
            "text/plain": [
              "PCA(n_components=2)"
            ]
          },
          "execution_count": 28,
          "metadata": {},
          "output_type": "execute_result"
        }
      ],
      "source": [
        "\n",
        "pca = PCA(n_components=2)\n",
        "pca.fit(data2)"
      ]
    },
    {
      "cell_type": "markdown",
      "metadata": {
        "id": "uZZ3tCL082-4"
      },
      "source": [
        "Wektory bazowe nowego układu wpółrzędnych: "
      ]
    },
    {
      "cell_type": "code",
      "execution_count": null,
      "metadata": {
        "colab": {
          "base_uri": "https://localhost:8080/"
        },
        "id": "e3EB0m4BrEpW",
        "outputId": "363eccf8-437e-43bf-ff27-ec7e2536b3ce"
      },
      "outputs": [
        {
          "name": "stdout",
          "output_type": "stream",
          "text": [
            "[[-1.00033243e-04  1.16454569e-03  1.03016936e-02  9.99939075e-01\n",
            "   3.73905642e-03 -7.14335346e-05  6.08072674e-04 -1.02220131e-05]\n",
            " [-2.22798744e-02  1.53049805e-02  2.71231022e-01 -6.43334035e-03\n",
            "   9.61232600e-01  2.85025356e-04  4.06830170e-02  6.19745208e-03]]\n"
          ]
        }
      ],
      "source": [
        "print(pca.components_)"
      ]
    },
    {
      "cell_type": "markdown",
      "metadata": {
        "id": "HYRynR0n9Z3E"
      },
      "source": [
        "Wariancje dla nowych współrzędnych:"
      ]
    },
    {
      "cell_type": "code",
      "execution_count": null,
      "metadata": {
        "colab": {
          "base_uri": "https://localhost:8080/"
        },
        "id": "U7SjLoDT81pN",
        "outputId": "6c33eda4-5425-44d9-94b9-a64e00f2d73c"
      },
      "outputs": [
        {
          "name": "stdout",
          "output_type": "stream",
          "text": [
            "[2.49461695e+03 2.17485649e+00]\n"
          ]
        }
      ],
      "source": [
        "print(pca.explained_variance_)"
      ]
    },
    {
      "cell_type": "markdown",
      "metadata": {
        "id": "-wt55Jes9iZY"
      },
      "source": [
        "Dodajemy do wykresu wektory wyznaczające nowy układ współrzędnych. Ich długość określona jest przez wariancje: "
      ]
    },
    {
      "cell_type": "code",
      "execution_count": null,
      "metadata": {
        "id": "TwCS_86SrNfC"
      },
      "outputs": [],
      "source": [
        "def draw_vector(v0, v1, ax=None):\n",
        "  ax = ax or plt.gca()\n",
        "  arrowprops=dict(arrowstyle='->',\n",
        "  linewidth=2,\n",
        "  shrinkA=0, shrinkB=0, color='black')\n",
        "  ax.annotate('', v1, v0, arrowprops=arrowprops)"
      ]
    },
    {
      "cell_type": "code",
      "execution_count": null,
      "metadata": {
        "id": "ZnEj6jG5AH_f",
        "outputId": "b8701b3d-71e4-41f4-9248-7ecdca271152"
      },
      "outputs": [
        {
          "data": {
            "text/plain": [
              "array([2.49461695e+03, 2.17485649e+00])"
            ]
          },
          "execution_count": 32,
          "metadata": {},
          "output_type": "execute_result"
        }
      ],
      "source": [
        "pca.explained_variance_"
      ]
    },
    {
      "cell_type": "code",
      "execution_count": null,
      "metadata": {
        "id": "4IY7lr5crXhw"
      },
      "outputs": [],
      "source": [
        "#plt.scatter(data2.iloc[:, 0], data2.iloc[:, 4], alpha=0.2)\n",
        "#for length, vector in zip(pca.explained_variance_, pca.components_):\n",
        " # v = vector * 3 * np.sqrt(length)\n",
        " # draw_vector(pca.mean_, pca.mean_ + v)\n",
        "#plt.axis('equal');"
      ]
    },
    {
      "cell_type": "markdown",
      "metadata": {
        "id": "3hEUqaL_-WDC"
      },
      "source": [
        "Współrzędne punktów w **nowym układzie współrzędnych**:"
      ]
    },
    {
      "cell_type": "code",
      "execution_count": null,
      "metadata": {
        "colab": {
          "base_uri": "https://localhost:8080/"
        },
        "id": "gLY-x4Aq-amm",
        "outputId": "500aef0e-e288-4ea5-c502-e3a43593e5cc"
      },
      "outputs": [
        {
          "data": {
            "text/plain": [
              "array([[-44.06780993,  -0.65140796],\n",
              "       [ 60.96825747,   2.36617527],\n",
              "       [ 70.98086581,   0.93751792],\n",
              "       ...,\n",
              "       [-58.06695598,  -0.5611184 ],\n",
              "       [ 78.97016987,   0.61604457],\n",
              "       [-43.0678815 ,  -0.65777155]])"
            ]
          },
          "execution_count": 34,
          "metadata": {},
          "output_type": "execute_result"
        }
      ],
      "source": [
        "data_pca = pca.transform(data2)\n",
        "data_pca"
      ]
    },
    {
      "cell_type": "code",
      "execution_count": null,
      "metadata": {
        "colab": {
          "base_uri": "https://localhost:8080/",
          "height": 265
        },
        "id": "suiXJzYF_D-v",
        "outputId": "63b19fa0-fe85-4ced-85fa-b974c9b622dc"
      },
      "outputs": [
        {
          "data": {
            "image/png": "[encoded data removed]",
            "text/plain": [
              "<Figure size 640x480 with 1 Axes>"
            ]
          },
          "metadata": {},
          "output_type": "display_data"
        }
      ],
      "source": [
        "plt.scatter(data_pca[:,0], data_pca[:,1])\n",
        "plt.axis('equal');"
      ]
    },
    {
      "cell_type": "markdown",
      "metadata": {
        "id": "RPznbY3x_fOO"
      },
      "source": [
        "## Jedna składowa główna"
      ]
    },
    {
      "cell_type": "markdown",
      "metadata": {
        "id": "ZvtJKja7_1Or"
      },
      "source": [
        "Wyliczamy jedną składową główną (**n_components=1**) - chcemy wyeliminować jeden wymiar danych."
      ]
    },
    {
      "cell_type": "code",
      "execution_count": null,
      "metadata": {
        "colab": {
          "base_uri": "https://localhost:8080/"
        },
        "id": "8kX-J0ubrmLI",
        "outputId": "05a2d830-4006-4297-c404-6e21c2d45ccb"
      },
      "outputs": [
        {
          "data": {
            "text/html": [
              "<style>#sk-container-id-2 {color: black;background-color: white;}#sk-container-id-2 pre{padding: 0;}#sk-container-id-2 div.sk-toggleable {background-color: white;}#sk-container-id-2 label.sk-toggleable__label {cursor: pointer;display: block;width: 100%;margin-bottom: 0;padding: 0.3em;box-sizing: border-box;text-align: center;}#sk-container-id-2 label.sk-toggleable__label-arrow:before {content: \"▸\";float: left;margin-right: 0.25em;color: #696969;}#sk-container-id-2 label.sk-toggleable__label-arrow:hover:before {color: black;}#sk-container-id-2 div.sk-estimator:hover label.sk-toggleable__label-arrow:before {color: black;}#sk-container-id-2 div.sk-toggleable__content {max-height: 0;max-width: 0;overflow: hidden;text-align: left;background-color: #f0f8ff;}#sk-container-id-2 div.sk-toggleable__content pre {margin: 0.2em;color: black;border-radius: 0.25em;background-color: #f0f8ff;}#sk-container-id-2 input.sk-toggleable__control:checked~div.sk-toggleable__content {max-height: 200px;max-width: 100%;overflow: auto;}#sk-container-id-2 input.sk-toggleable__control:checked~label.sk-toggleable__label-arrow:before {content: \"▾\";}#sk-container-id-2 div.sk-estimator input.sk-toggleable__control:checked~label.sk-toggleable__label {background-color: #d4ebff;}#sk-container-id-2 div.sk-label input.sk-toggleable__control:checked~label.sk-toggleable__label {background-color: #d4ebff;}#sk-container-id-2 input.sk-hidden--visually {border: 0;clip: rect(1px 1px 1px 1px);clip: rect(1px, 1px, 1px, 1px);height: 1px;margin: -1px;overflow: hidden;padding: 0;position: absolute;width: 1px;}#sk-container-id-2 div.sk-estimator {font-family: monospace;background-color: #f0f8ff;border: 1px dotted black;border-radius: 0.25em;box-sizing: border-box;margin-bottom: 0.5em;}#sk-container-id-2 div.sk-estimator:hover {background-color: #d4ebff;}#sk-container-id-2 div.sk-parallel-item::after {content: \"\";width: 100%;border-bottom: 1px solid gray;flex-grow: 1;}#sk-container-id-2 div.sk-label:hover label.sk-toggleable__label {background-color: #d4ebff;}#sk-container-id-2 div.sk-serial::before {content: \"\";position: absolute;border-left: 1px solid gray;box-sizing: border-box;top: 0;bottom: 0;left: 50%;z-index: 0;}#sk-container-id-2 div.sk-serial {display: flex;flex-direction: column;align-items: center;background-color: white;padding-right: 0.2em;padding-left: 0.2em;position: relative;}#sk-container-id-2 div.sk-item {position: relative;z-index: 1;}#sk-container-id-2 div.sk-parallel {display: flex;align-items: stretch;justify-content: center;background-color: white;position: relative;}#sk-container-id-2 div.sk-item::before, #sk-container-id-2 div.sk-parallel-item::before {content: \"\";position: absolute;border-left: 1px solid gray;box-sizing: border-box;top: 0;bottom: 0;left: 50%;z-index: -1;}#sk-container-id-2 div.sk-parallel-item {display: flex;flex-direction: column;z-index: 1;position: relative;background-color: white;}#sk-container-id-2 div.sk-parallel-item:first-child::after {align-self: flex-end;width: 50%;}#sk-container-id-2 div.sk-parallel-item:last-child::after {align-self: flex-start;width: 50%;}#sk-container-id-2 div.sk-parallel-item:only-child::after {width: 0;}#sk-container-id-2 div.sk-dashed-wrapped {border: 1px dashed gray;margin: 0 0.4em 0.5em 0.4em;box-sizing: border-box;padding-bottom: 0.4em;background-color: white;}#sk-container-id-2 div.sk-label label {font-family: monospace;font-weight: bold;display: inline-block;line-height: 1.2em;}#sk-container-id-2 div.sk-label-container {text-align: center;}#sk-container-id-2 div.sk-container {/* jupyter's `normalize.less` sets `[hidden] { display: none; }` but bootstrap.min.css set `[hidden] { display: none !important; }` so we also need the `!important` here to be able to override the default hidden behavior on the sphinx rendered scikit-learn.org. See: https://github.com/scikit-learn/scikit-learn/issues/21755 */display: inline-block !important;position: relative;}#sk-container-id-2 div.sk-text-repr-fallback {display: none;}</style><div id=\"sk-container-id-2\" class=\"sk-top-container\"><div class=\"sk-text-repr-fallback\"><pre>PCA(n_components=1)</pre><b>In a Jupyter environment, please rerun this cell to show the HTML representation or trust the notebook. <br />On GitHub, the HTML representation is unable to render, please try loading this page with nbviewer.org.</b></div><div class=\"sk-container\" hidden><div class=\"sk-item\"><div class=\"sk-estimator sk-toggleable\"><input class=\"sk-toggleable__control sk-hidden--visually\" id=\"sk-estimator-id-2\" type=\"checkbox\" checked><label for=\"sk-estimator-id-2\" class=\"sk-toggleable__label sk-toggleable__label-arrow\">PCA</label><div class=\"sk-toggleable__content\"><pre>PCA(n_components=1)</pre></div></div></div></div></div>"
            ],
            "text/plain": [
              "PCA(n_components=1)"
            ]
          },
          "execution_count": 36,
          "metadata": {},
          "output_type": "execute_result"
        }
      ],
      "source": [
        "pca = PCA(n_components=1)\n",
        "pca.fit(data2)"
      ]
    },
    {
      "cell_type": "markdown",
      "metadata": {
        "id": "66YeeEROAMqH"
      },
      "source": [
        "Współrzędne punktów w **nowym układzie współrzędnych**:"
      ]
    },
    {
      "cell_type": "code",
      "execution_count": null,
      "metadata": {
        "id": "3gXv_6oOAHiS"
      },
      "outputs": [],
      "source": [
        "data_pca = pca.transform(data2)  "
      ]
    },
    {
      "cell_type": "markdown",
      "metadata": {
        "id": "8cNjTKRTAPBT"
      },
      "source": [
        "Porówanie kształtów danych początkowych i po redukcji jednego wymiaru:"
      ]
    },
    {
      "cell_type": "code",
      "execution_count": null,
      "metadata": {
        "colab": {
          "base_uri": "https://localhost:8080/"
        },
        "id": "4GaOTlHnAZJz",
        "outputId": "f438a878-041c-4202-96fd-645da7adb8ab"
      },
      "outputs": [
        {
          "name": "stdout",
          "output_type": "stream",
          "text": [
            "Początkowy shape:  (14999, 8)\n",
            "Po transformacji shape: (14999, 1)\n"
          ]
        }
      ],
      "source": [
        "print(\"Początkowy shape: \", data2.shape)\n",
        "print(\"Po transformacji shape:\", data_pca.shape)"
      ]
    },
    {
      "cell_type": "markdown",
      "metadata": {
        "id": "96W9RrHnAkHJ"
      },
      "source": [
        "Dane początkowe i po redukcji wymiaru:"
      ]
    },
    {
      "cell_type": "code",
      "execution_count": null,
      "metadata": {
        "colab": {
          "base_uri": "https://localhost:8080/",
          "height": 265
        },
        "id": "KGXURmbaruEA",
        "outputId": "475406ff-0783-47a0-e1d4-b89947ff7d6f"
      },
      "outputs": [
        {
          "data": {
            "image/png": "[encoded data removed]",
            "text/plain": [
              "<Figure size 640x480 with 1 Axes>"
            ]
          },
          "metadata": {},
          "output_type": "display_data"
        }
      ],
      "source": [
        "data_new = pca.inverse_transform(data_pca)\n",
        "plt.scatter(data2.iloc[:, 1], data2.iloc[:, 2]),\n",
        "plt.scatter(data_new[:, 0], data_new[:, 1]),\n",
        "plt.axis('equal');"
      ]
    },
    {
      "cell_type": "code",
      "execution_count": null,
      "metadata": {
        "id": "T_RTTJ9sAH_r"
      },
      "outputs": [],
      "source": []
    }
  ],
  "metadata": {
    "colab": {
      "provenance": []
    },
    "kernelspec": {
      "display_name": "Python 3 (ipykernel)",
      "language": "python",
      "name": "python3"
    },
    "language_info": {
      "codemirror_mode": {
        "name": "ipython",
        "version": 3
      },
      "file_extension": ".py",
      "mimetype": "text/x-python",
      "name": "python",
      "nbconvert_exporter": "python",
      "pygments_lexer": "ipython3",
      "version": "3.9.6"
    }
  },
  "nbformat": 4,
  "nbformat_minor": 0
}