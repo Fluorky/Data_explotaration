{
  "cells": [
    {
      "cell_type": "code",
      "execution_count": 61,
      "metadata": {
        "_cell_guid": "b1076dfc-b9ad-4769-8c92-a6c4dae69d19",
        "_uuid": "8f2839f25d086af736a60e9eeb907d3b93b6e0e5",
        "execution": {
          "iopub.execute_input": "2021-05-19T12:24:22.757429Z",
          "iopub.status.busy": "2021-05-19T12:24:22.756796Z",
          "iopub.status.idle": "2021-05-19T12:24:28.468491Z",
          "shell.execute_reply": "2021-05-19T12:24:28.468933Z"
        },
        "papermill": {
          "duration": 5.726385,
          "end_time": "2021-05-19T12:24:28.469218",
          "exception": false,
          "start_time": "2021-05-19T12:24:22.742833",
          "status": "completed"
        },
        "tags": [],
        "id": "Y0-MZqUh3Ccj"
      },
      "outputs": [],
      "source": [
        "import numpy as np\n",
        "import matplotlib.pyplot as plt\n",
        "import tensorflow as tf\n",
        "from tensorflow import keras\n",
        "import pandas as pd\n",
        "%matplotlib inline\n",
        "from sklearn.model_selection import *\n",
        "from sklearn.preprocessing import *"
      ]
    },
    {
      "cell_type": "code",
      "execution_count": 62,
      "metadata": {
        "execution": {
          "iopub.execute_input": "2021-05-19T12:24:28.489144Z",
          "iopub.status.busy": "2021-05-19T12:24:28.488287Z",
          "iopub.status.idle": "2021-05-19T12:24:28.546193Z",
          "shell.execute_reply": "2021-05-19T12:24:28.545245Z"
        },
        "papermill": {
          "duration": 0.068666,
          "end_time": "2021-05-19T12:24:28.546328",
          "exception": false,
          "start_time": "2021-05-19T12:24:28.477662",
          "status": "completed"
        },
        "tags": [],
        "id": "XOpd4oya3Ccp"
      },
      "outputs": [],
      "source": [
        "data_frame = pd.read_csv('winequality-red.csv', parse_dates=True)"
      ]
    },
    {
      "cell_type": "code",
      "execution_count": 63,
      "metadata": {
        "colab": {
          "base_uri": "https://localhost:8080/",
          "height": 268
        },
        "id": "Wc1d1zHH3Ccr",
        "outputId": "9f674ab1-ffe3-4344-a563-29cb3cf9f70f"
      },
      "outputs": [
        {
          "output_type": "execute_result",
          "data": {
            "text/plain": [
              "   fixed acidity  volatile acidity  citric acid  residual sugar  chlorides  \\\n",
              "0            7.4              0.70         0.00             1.9      0.076   \n",
              "1            7.8              0.88         0.00             2.6      0.098   \n",
              "2            7.8              0.76         0.04             2.3      0.092   \n",
              "3           11.2              0.28         0.56             1.9      0.075   \n",
              "4            7.4              0.70         0.00             1.9      0.076   \n",
              "\n",
              "   free sulfur dioxide  total sulfur dioxide  density    pH  sulphates  \\\n",
              "0                 11.0                  34.0   0.9978  3.51       0.56   \n",
              "1                 25.0                  67.0   0.9968  3.20       0.68   \n",
              "2                 15.0                  54.0   0.9970  3.26       0.65   \n",
              "3                 17.0                  60.0   0.9980  3.16       0.58   \n",
              "4                 11.0                  34.0   0.9978  3.51       0.56   \n",
              "\n",
              "   alcohol  quality  \n",
              "0      9.4        5  \n",
              "1      9.8        5  \n",
              "2      9.8        5  \n",
              "3      9.8        6  \n",
              "4      9.4        5  "
            ],
            "text/html": [
              "\n",
              "  <div id=\"df-b42d4280-9385-4b69-a08a-3f1a230393ea\">\n",
              "    <div class=\"colab-df-container\">\n",
              "      <div>\n",
              "<style scoped>\n",
              "    .dataframe tbody tr th:only-of-type {\n",
              "        vertical-align: middle;\n",
              "    }\n",
              "\n",
              "    .dataframe tbody tr th {\n",
              "        vertical-align: top;\n",
              "    }\n",
              "\n",
              "    .dataframe thead th {\n",
              "        text-align: right;\n",
              "    }\n",
              "</style>\n",
              "<table border=\"1\" class=\"dataframe\">\n",
              "  <thead>\n",
              "    <tr style=\"text-align: right;\">\n",
              "      <th></th>\n",
              "      <th>fixed acidity</th>\n",
              "      <th>volatile acidity</th>\n",
              "      <th>citric acid</th>\n",
              "      <th>residual sugar</th>\n",
              "      <th>chlorides</th>\n",
              "      <th>free sulfur dioxide</th>\n",
              "      <th>total sulfur dioxide</th>\n",
              "      <th>density</th>\n",
              "      <th>pH</th>\n",
              "      <th>sulphates</th>\n",
              "      <th>alcohol</th>\n",
              "      <th>quality</th>\n",
              "    </tr>\n",
              "  </thead>\n",
              "  <tbody>\n",
              "    <tr>\n",
              "      <th>0</th>\n",
              "      <td>7.4</td>\n",
              "      <td>0.70</td>\n",
              "      <td>0.00</td>\n",
              "      <td>1.9</td>\n",
              "      <td>0.076</td>\n",
              "      <td>11.0</td>\n",
              "      <td>34.0</td>\n",
              "      <td>0.9978</td>\n",
              "      <td>3.51</td>\n",
              "      <td>0.56</td>\n",
              "      <td>9.4</td>\n",
              "      <td>5</td>\n",
              "    </tr>\n",
              "    <tr>\n",
              "      <th>1</th>\n",
              "      <td>7.8</td>\n",
              "      <td>0.88</td>\n",
              "      <td>0.00</td>\n",
              "      <td>2.6</td>\n",
              "      <td>0.098</td>\n",
              "      <td>25.0</td>\n",
              "      <td>67.0</td>\n",
              "      <td>0.9968</td>\n",
              "      <td>3.20</td>\n",
              "      <td>0.68</td>\n",
              "      <td>9.8</td>\n",
              "      <td>5</td>\n",
              "    </tr>\n",
              "    <tr>\n",
              "      <th>2</th>\n",
              "      <td>7.8</td>\n",
              "      <td>0.76</td>\n",
              "      <td>0.04</td>\n",
              "      <td>2.3</td>\n",
              "      <td>0.092</td>\n",
              "      <td>15.0</td>\n",
              "      <td>54.0</td>\n",
              "      <td>0.9970</td>\n",
              "      <td>3.26</td>\n",
              "      <td>0.65</td>\n",
              "      <td>9.8</td>\n",
              "      <td>5</td>\n",
              "    </tr>\n",
              "    <tr>\n",
              "      <th>3</th>\n",
              "      <td>11.2</td>\n",
              "      <td>0.28</td>\n",
              "      <td>0.56</td>\n",
              "      <td>1.9</td>\n",
              "      <td>0.075</td>\n",
              "      <td>17.0</td>\n",
              "      <td>60.0</td>\n",
              "      <td>0.9980</td>\n",
              "      <td>3.16</td>\n",
              "      <td>0.58</td>\n",
              "      <td>9.8</td>\n",
              "      <td>6</td>\n",
              "    </tr>\n",
              "    <tr>\n",
              "      <th>4</th>\n",
              "      <td>7.4</td>\n",
              "      <td>0.70</td>\n",
              "      <td>0.00</td>\n",
              "      <td>1.9</td>\n",
              "      <td>0.076</td>\n",
              "      <td>11.0</td>\n",
              "      <td>34.0</td>\n",
              "      <td>0.9978</td>\n",
              "      <td>3.51</td>\n",
              "      <td>0.56</td>\n",
              "      <td>9.4</td>\n",
              "      <td>5</td>\n",
              "    </tr>\n",
              "  </tbody>\n",
              "</table>\n",
              "</div>\n",
              "      <button class=\"colab-df-convert\" onclick=\"convertToInteractive('df-b42d4280-9385-4b69-a08a-3f1a230393ea')\"\n",
              "              title=\"Convert this dataframe to an interactive table.\"\n",
              "              style=\"display:none;\">\n",
              "        \n",
              "  <svg xmlns=\"http://www.w3.org/2000/svg\" height=\"24px\"viewBox=\"0 0 24 24\"\n",
              "       width=\"24px\">\n",
              "    <path d=\"M0 0h24v24H0V0z\" fill=\"none\"/>\n",
              "    <path d=\"M18.56 5.44l.94 2.06.94-2.06 2.06-.94-2.06-.94-.94-2.06-.94 2.06-2.06.94zm-11 1L8.5 8.5l.94-2.06 2.06-.94-2.06-.94L8.5 2.5l-.94 2.06-2.06.94zm10 10l.94 2.06.94-2.06 2.06-.94-2.06-.94-.94-2.06-.94 2.06-2.06.94z\"/><path d=\"M17.41 7.96l-1.37-1.37c-.4-.4-.92-.59-1.43-.59-.52 0-1.04.2-1.43.59L10.3 9.45l-7.72 7.72c-.78.78-.78 2.05 0 2.83L4 21.41c.39.39.9.59 1.41.59.51 0 1.02-.2 1.41-.59l7.78-7.78 2.81-2.81c.8-.78.8-2.07 0-2.86zM5.41 20L4 18.59l7.72-7.72 1.47 1.35L5.41 20z\"/>\n",
              "  </svg>\n",
              "      </button>\n",
              "      \n",
              "  <style>\n",
              "    .colab-df-container {\n",
              "      display:flex;\n",
              "      flex-wrap:wrap;\n",
              "      gap: 12px;\n",
              "    }\n",
              "\n",
              "    .colab-df-convert {\n",
              "      background-color: #E8F0FE;\n",
              "      border: none;\n",
              "      border-radius: 50%;\n",
              "      cursor: pointer;\n",
              "      display: none;\n",
              "      fill: #1967D2;\n",
              "      height: 32px;\n",
              "      padding: 0 0 0 0;\n",
              "      width: 32px;\n",
              "    }\n",
              "\n",
              "    .colab-df-convert:hover {\n",
              "      background-color: #E2EBFA;\n",
              "      box-shadow: 0px 1px 2px rgba(60, 64, 67, 0.3), 0px 1px 3px 1px rgba(60, 64, 67, 0.15);\n",
              "      fill: #174EA6;\n",
              "    }\n",
              "\n",
              "    [theme=dark] .colab-df-convert {\n",
              "      background-color: #3B4455;\n",
              "      fill: #D2E3FC;\n",
              "    }\n",
              "\n",
              "    [theme=dark] .colab-df-convert:hover {\n",
              "      background-color: #434B5C;\n",
              "      box-shadow: 0px 1px 3px 1px rgba(0, 0, 0, 0.15);\n",
              "      filter: drop-shadow(0px 1px 2px rgba(0, 0, 0, 0.3));\n",
              "      fill: #FFFFFF;\n",
              "    }\n",
              "  </style>\n",
              "\n",
              "      <script>\n",
              "        const buttonEl =\n",
              "          document.querySelector('#df-b42d4280-9385-4b69-a08a-3f1a230393ea button.colab-df-convert');\n",
              "        buttonEl.style.display =\n",
              "          google.colab.kernel.accessAllowed ? 'block' : 'none';\n",
              "\n",
              "        async function convertToInteractive(key) {\n",
              "          const element = document.querySelector('#df-b42d4280-9385-4b69-a08a-3f1a230393ea');\n",
              "          const dataTable =\n",
              "            await google.colab.kernel.invokeFunction('convertToInteractive',\n",
              "                                                     [key], {});\n",
              "          if (!dataTable) return;\n",
              "\n",
              "          const docLinkHtml = 'Like what you see? Visit the ' +\n",
              "            '<a target=\"_blank\" href=https://colab.research.google.com/notebooks/data_table.ipynb>data table notebook</a>'\n",
              "            + ' to learn more about interactive tables.';\n",
              "          element.innerHTML = '';\n",
              "          dataTable['output_type'] = 'display_data';\n",
              "          await google.colab.output.renderOutput(dataTable, element);\n",
              "          const docLink = document.createElement('div');\n",
              "          docLink.innerHTML = docLinkHtml;\n",
              "          element.appendChild(docLink);\n",
              "        }\n",
              "      </script>\n",
              "    </div>\n",
              "  </div>\n",
              "  "
            ]
          },
          "metadata": {},
          "execution_count": 63
        }
      ],
      "source": [
        "data_frame.head()"
      ]
    },
    {
      "cell_type": "code",
      "execution_count": 64,
      "metadata": {
        "execution": {
          "iopub.execute_input": "2021-05-19T12:24:28.569671Z",
          "iopub.status.busy": "2021-05-19T12:24:28.569137Z",
          "iopub.status.idle": "2021-05-19T12:24:28.580485Z",
          "shell.execute_reply": "2021-05-19T12:24:28.580034Z"
        },
        "papermill": {
          "duration": 0.026204,
          "end_time": "2021-05-19T12:24:28.580609",
          "exception": false,
          "start_time": "2021-05-19T12:24:28.554405",
          "status": "completed"
        },
        "tags": [],
        "colab": {
          "base_uri": "https://localhost:8080/",
          "height": 299
        },
        "id": "9443Gkfb3Cc3",
        "outputId": "a0d06397-b95f-45ac-e1ea-86f69c4c1e76"
      },
      "outputs": [
        {
          "output_type": "execute_result",
          "data": {
            "text/plain": [
              "   quality  fixed acidity  volatile acidity  citric acid  residual sugar  \\\n",
              "0        3             10                10           10              10   \n",
              "1        4             53                53           53              53   \n",
              "2        5            681               681          681             681   \n",
              "3        6            638               638          638             638   \n",
              "4        7            199               199          199             199   \n",
              "5        8             18                18           18              18   \n",
              "\n",
              "   chlorides  free sulfur dioxide  total sulfur dioxide  density   pH  \\\n",
              "0         10                   10                    10       10   10   \n",
              "1         53                   53                    53       53   53   \n",
              "2        681                  681                   681      681  681   \n",
              "3        638                  638                   638      638  638   \n",
              "4        199                  199                   199      199  199   \n",
              "5         18                   18                    18       18   18   \n",
              "\n",
              "   sulphates  alcohol  \n",
              "0         10       10  \n",
              "1         53       53  \n",
              "2        681      681  \n",
              "3        638      638  \n",
              "4        199      199  \n",
              "5         18       18  "
            ],
            "text/html": [
              "\n",
              "  <div id=\"df-959b69e8-ce5d-47b7-b6b1-99291232129c\">\n",
              "    <div class=\"colab-df-container\">\n",
              "      <div>\n",
              "<style scoped>\n",
              "    .dataframe tbody tr th:only-of-type {\n",
              "        vertical-align: middle;\n",
              "    }\n",
              "\n",
              "    .dataframe tbody tr th {\n",
              "        vertical-align: top;\n",
              "    }\n",
              "\n",
              "    .dataframe thead th {\n",
              "        text-align: right;\n",
              "    }\n",
              "</style>\n",
              "<table border=\"1\" class=\"dataframe\">\n",
              "  <thead>\n",
              "    <tr style=\"text-align: right;\">\n",
              "      <th></th>\n",
              "      <th>quality</th>\n",
              "      <th>fixed acidity</th>\n",
              "      <th>volatile acidity</th>\n",
              "      <th>citric acid</th>\n",
              "      <th>residual sugar</th>\n",
              "      <th>chlorides</th>\n",
              "      <th>free sulfur dioxide</th>\n",
              "      <th>total sulfur dioxide</th>\n",
              "      <th>density</th>\n",
              "      <th>pH</th>\n",
              "      <th>sulphates</th>\n",
              "      <th>alcohol</th>\n",
              "    </tr>\n",
              "  </thead>\n",
              "  <tbody>\n",
              "    <tr>\n",
              "      <th>0</th>\n",
              "      <td>3</td>\n",
              "      <td>10</td>\n",
              "      <td>10</td>\n",
              "      <td>10</td>\n",
              "      <td>10</td>\n",
              "      <td>10</td>\n",
              "      <td>10</td>\n",
              "      <td>10</td>\n",
              "      <td>10</td>\n",
              "      <td>10</td>\n",
              "      <td>10</td>\n",
              "      <td>10</td>\n",
              "    </tr>\n",
              "    <tr>\n",
              "      <th>1</th>\n",
              "      <td>4</td>\n",
              "      <td>53</td>\n",
              "      <td>53</td>\n",
              "      <td>53</td>\n",
              "      <td>53</td>\n",
              "      <td>53</td>\n",
              "      <td>53</td>\n",
              "      <td>53</td>\n",
              "      <td>53</td>\n",
              "      <td>53</td>\n",
              "      <td>53</td>\n",
              "      <td>53</td>\n",
              "    </tr>\n",
              "    <tr>\n",
              "      <th>2</th>\n",
              "      <td>5</td>\n",
              "      <td>681</td>\n",
              "      <td>681</td>\n",
              "      <td>681</td>\n",
              "      <td>681</td>\n",
              "      <td>681</td>\n",
              "      <td>681</td>\n",
              "      <td>681</td>\n",
              "      <td>681</td>\n",
              "      <td>681</td>\n",
              "      <td>681</td>\n",
              "      <td>681</td>\n",
              "    </tr>\n",
              "    <tr>\n",
              "      <th>3</th>\n",
              "      <td>6</td>\n",
              "      <td>638</td>\n",
              "      <td>638</td>\n",
              "      <td>638</td>\n",
              "      <td>638</td>\n",
              "      <td>638</td>\n",
              "      <td>638</td>\n",
              "      <td>638</td>\n",
              "      <td>638</td>\n",
              "      <td>638</td>\n",
              "      <td>638</td>\n",
              "      <td>638</td>\n",
              "    </tr>\n",
              "    <tr>\n",
              "      <th>4</th>\n",
              "      <td>7</td>\n",
              "      <td>199</td>\n",
              "      <td>199</td>\n",
              "      <td>199</td>\n",
              "      <td>199</td>\n",
              "      <td>199</td>\n",
              "      <td>199</td>\n",
              "      <td>199</td>\n",
              "      <td>199</td>\n",
              "      <td>199</td>\n",
              "      <td>199</td>\n",
              "      <td>199</td>\n",
              "    </tr>\n",
              "    <tr>\n",
              "      <th>5</th>\n",
              "      <td>8</td>\n",
              "      <td>18</td>\n",
              "      <td>18</td>\n",
              "      <td>18</td>\n",
              "      <td>18</td>\n",
              "      <td>18</td>\n",
              "      <td>18</td>\n",
              "      <td>18</td>\n",
              "      <td>18</td>\n",
              "      <td>18</td>\n",
              "      <td>18</td>\n",
              "      <td>18</td>\n",
              "    </tr>\n",
              "  </tbody>\n",
              "</table>\n",
              "</div>\n",
              "      <button class=\"colab-df-convert\" onclick=\"convertToInteractive('df-959b69e8-ce5d-47b7-b6b1-99291232129c')\"\n",
              "              title=\"Convert this dataframe to an interactive table.\"\n",
              "              style=\"display:none;\">\n",
              "        \n",
              "  <svg xmlns=\"http://www.w3.org/2000/svg\" height=\"24px\"viewBox=\"0 0 24 24\"\n",
              "       width=\"24px\">\n",
              "    <path d=\"M0 0h24v24H0V0z\" fill=\"none\"/>\n",
              "    <path d=\"M18.56 5.44l.94 2.06.94-2.06 2.06-.94-2.06-.94-.94-2.06-.94 2.06-2.06.94zm-11 1L8.5 8.5l.94-2.06 2.06-.94-2.06-.94L8.5 2.5l-.94 2.06-2.06.94zm10 10l.94 2.06.94-2.06 2.06-.94-2.06-.94-.94-2.06-.94 2.06-2.06.94z\"/><path d=\"M17.41 7.96l-1.37-1.37c-.4-.4-.92-.59-1.43-.59-.52 0-1.04.2-1.43.59L10.3 9.45l-7.72 7.72c-.78.78-.78 2.05 0 2.83L4 21.41c.39.39.9.59 1.41.59.51 0 1.02-.2 1.41-.59l7.78-7.78 2.81-2.81c.8-.78.8-2.07 0-2.86zM5.41 20L4 18.59l7.72-7.72 1.47 1.35L5.41 20z\"/>\n",
              "  </svg>\n",
              "      </button>\n",
              "      \n",
              "  <style>\n",
              "    .colab-df-container {\n",
              "      display:flex;\n",
              "      flex-wrap:wrap;\n",
              "      gap: 12px;\n",
              "    }\n",
              "\n",
              "    .colab-df-convert {\n",
              "      background-color: #E8F0FE;\n",
              "      border: none;\n",
              "      border-radius: 50%;\n",
              "      cursor: pointer;\n",
              "      display: none;\n",
              "      fill: #1967D2;\n",
              "      height: 32px;\n",
              "      padding: 0 0 0 0;\n",
              "      width: 32px;\n",
              "    }\n",
              "\n",
              "    .colab-df-convert:hover {\n",
              "      background-color: #E2EBFA;\n",
              "      box-shadow: 0px 1px 2px rgba(60, 64, 67, 0.3), 0px 1px 3px 1px rgba(60, 64, 67, 0.15);\n",
              "      fill: #174EA6;\n",
              "    }\n",
              "\n",
              "    [theme=dark] .colab-df-convert {\n",
              "      background-color: #3B4455;\n",
              "      fill: #D2E3FC;\n",
              "    }\n",
              "\n",
              "    [theme=dark] .colab-df-convert:hover {\n",
              "      background-color: #434B5C;\n",
              "      box-shadow: 0px 1px 3px 1px rgba(0, 0, 0, 0.15);\n",
              "      filter: drop-shadow(0px 1px 2px rgba(0, 0, 0, 0.3));\n",
              "      fill: #FFFFFF;\n",
              "    }\n",
              "  </style>\n",
              "\n",
              "      <script>\n",
              "        const buttonEl =\n",
              "          document.querySelector('#df-959b69e8-ce5d-47b7-b6b1-99291232129c button.colab-df-convert');\n",
              "        buttonEl.style.display =\n",
              "          google.colab.kernel.accessAllowed ? 'block' : 'none';\n",
              "\n",
              "        async function convertToInteractive(key) {\n",
              "          const element = document.querySelector('#df-959b69e8-ce5d-47b7-b6b1-99291232129c');\n",
              "          const dataTable =\n",
              "            await google.colab.kernel.invokeFunction('convertToInteractive',\n",
              "                                                     [key], {});\n",
              "          if (!dataTable) return;\n",
              "\n",
              "          const docLinkHtml = 'Like what you see? Visit the ' +\n",
              "            '<a target=\"_blank\" href=https://colab.research.google.com/notebooks/data_table.ipynb>data table notebook</a>'\n",
              "            + ' to learn more about interactive tables.';\n",
              "          element.innerHTML = '';\n",
              "          dataTable['output_type'] = 'display_data';\n",
              "          await google.colab.output.renderOutput(dataTable, element);\n",
              "          const docLink = document.createElement('div');\n",
              "          docLink.innerHTML = docLinkHtml;\n",
              "          element.appendChild(docLink);\n",
              "        }\n",
              "      </script>\n",
              "    </div>\n",
              "  </div>\n",
              "  "
            ]
          },
          "metadata": {},
          "execution_count": 64
        }
      ],
      "source": [
        "data_frame.groupby('quality').count().reset_index()"
      ]
    },
    {
      "cell_type": "code",
      "execution_count": 65,
      "metadata": {
        "execution": {
          "iopub.execute_input": "2021-05-19T12:24:28.602621Z",
          "iopub.status.busy": "2021-05-19T12:24:28.602117Z",
          "iopub.status.idle": "2021-05-19T12:24:28.605036Z",
          "shell.execute_reply": "2021-05-19T12:24:28.605469Z"
        },
        "papermill": {
          "duration": 0.016157,
          "end_time": "2021-05-19T12:24:28.605616",
          "exception": false,
          "start_time": "2021-05-19T12:24:28.589459",
          "status": "completed"
        },
        "tags": [],
        "id": "vg5dAb5h3Cc4"
      },
      "outputs": [],
      "source": [
        "data_frame['quality'].replace(to_replace={3: 0, 4: 1, 5: 2, 6: 3, 7: 4, 8: 5}, inplace=True)"
      ]
    },
    {
      "cell_type": "code",
      "execution_count": 66,
      "metadata": {
        "execution": {
          "iopub.execute_input": "2021-05-19T12:24:28.625812Z",
          "iopub.status.busy": "2021-05-19T12:24:28.625295Z",
          "iopub.status.idle": "2021-05-19T12:24:28.629846Z",
          "shell.execute_reply": "2021-05-19T12:24:28.630290Z"
        },
        "papermill": {
          "duration": 0.016044,
          "end_time": "2021-05-19T12:24:28.630432",
          "exception": false,
          "start_time": "2021-05-19T12:24:28.614388",
          "status": "completed"
        },
        "tags": [],
        "id": "KpryAn-S3Cc5"
      },
      "outputs": [],
      "source": [
        "X = data_frame[['fixed acidity','volatile acidity','citric acid','residual sugar','chlorides',\n",
        "'free sulfur dioxide','total sulfur dioxide','density','pH','sulphates','alcohol']]\n",
        "Y = data_frame['quality']"
      ]
    },
    {
      "cell_type": "code",
      "execution_count": 67,
      "metadata": {
        "execution": {
          "iopub.execute_input": "2021-05-19T12:24:29.696491Z",
          "iopub.status.busy": "2021-05-19T12:24:29.695890Z",
          "iopub.status.idle": "2021-05-19T12:24:29.884061Z",
          "shell.execute_reply": "2021-05-19T12:24:29.884502Z"
        },
        "papermill": {
          "duration": 0.204377,
          "end_time": "2021-05-19T12:24:29.884676",
          "exception": false,
          "start_time": "2021-05-19T12:24:29.680299",
          "status": "completed"
        },
        "tags": [],
        "id": "Myk-qsgg3Cc5"
      },
      "outputs": [],
      "source": [
        "X_train, X_test, y_train, y_test = train_test_split(X, Y, test_size=0.2, random_state=24)"
      ]
    },
    {
      "cell_type": "code",
      "execution_count": 68,
      "metadata": {
        "execution": {
          "iopub.execute_input": "2021-05-19T12:24:29.911606Z",
          "iopub.status.busy": "2021-05-19T12:24:29.910761Z",
          "iopub.status.idle": "2021-05-19T12:24:29.920743Z",
          "shell.execute_reply": "2021-05-19T12:24:29.921213Z"
        },
        "papermill": {
          "duration": 0.024917,
          "end_time": "2021-05-19T12:24:29.921391",
          "exception": false,
          "start_time": "2021-05-19T12:24:29.896474",
          "status": "completed"
        },
        "tags": [],
        "id": "sxysBr_b3Cc6"
      },
      "outputs": [],
      "source": [
        "s = StandardScaler()\n",
        "X_train = s.fit_transform(X_train)\n",
        "X_test = s.transform(X_test)"
      ]
    },
    {
      "cell_type": "code",
      "execution_count": 69,
      "metadata": {
        "execution": {
          "iopub.execute_input": "2021-05-19T12:24:29.948681Z",
          "iopub.status.busy": "2021-05-19T12:24:29.947810Z",
          "iopub.status.idle": "2021-05-19T12:24:30.095630Z",
          "shell.execute_reply": "2021-05-19T12:24:30.096297Z"
        },
        "papermill": {
          "duration": 0.163214,
          "end_time": "2021-05-19T12:24:30.096508",
          "exception": false,
          "start_time": "2021-05-19T12:24:29.933294",
          "status": "completed"
        },
        "tags": [],
        "colab": {
          "base_uri": "https://localhost:8080/"
        },
        "id": "yrbqET403Cc7",
        "outputId": "b5f6cad8-5390-4ba3-e665-843aac816897"
      },
      "outputs": [
        {
          "output_type": "stream",
          "name": "stdout",
          "text": [
            "Model: \"sequential_5\"\n",
            "_________________________________________________________________\n",
            " Layer (type)                Output Shape              Param #   \n",
            "=================================================================\n",
            " dense_23 (Dense)            (None, 128)               1536      \n",
            "                                                                 \n",
            " dense_24 (Dense)            (None, 64)                8256      \n",
            "                                                                 \n",
            " dense_25 (Dense)            (None, 32)                2080      \n",
            "                                                                 \n",
            " dense_26 (Dense)            (None, 6)                 198       \n",
            "                                                                 \n",
            "=================================================================\n",
            "Total params: 12,070\n",
            "Trainable params: 12,070\n",
            "Non-trainable params: 0\n",
            "_________________________________________________________________\n"
          ]
        }
      ],
      "source": [
        "model = tf.keras.models.Sequential([\n",
        "  keras.layers.Dense(units=128, input_shape=(X_train.shape[1],), activation='relu'),\n",
        "  keras.layers.Dense(units=64, activation='relu'),\n",
        "  keras.layers.Dense(units=32, activation='relu'),\n",
        "  keras.layers.Dense(units=6, activation='softmax')\n",
        "])\n",
        "model.compile(loss='sparse_categorical_crossentropy', optimizer='sgd',  metrics=['accuracy'])\n",
        "model.summary()"
      ]
    },
    {
      "cell_type": "code",
      "execution_count": 70,
      "metadata": {
        "execution": {
          "iopub.execute_input": "2021-05-19T12:24:30.126578Z",
          "iopub.status.busy": "2021-05-19T12:24:30.125892Z",
          "iopub.status.idle": "2021-05-19T12:24:37.360973Z",
          "shell.execute_reply": "2021-05-19T12:24:37.360393Z"
        },
        "papermill": {
          "duration": 7.251947,
          "end_time": "2021-05-19T12:24:37.361105",
          "exception": false,
          "start_time": "2021-05-19T12:24:30.109158",
          "status": "completed"
        },
        "tags": [],
        "colab": {
          "base_uri": "https://localhost:8080/"
        },
        "id": "VYhQc7zB3Cc8",
        "outputId": "e2810b29-88f6-46ac-9c13-34ca4ed6d2d2"
      },
      "outputs": [
        {
          "output_type": "stream",
          "name": "stdout",
          "text": [
            "Epoch 1/40\n",
            "20/20 [==============================] - 1s 10ms/step - loss: 1.8342 - accuracy: 0.1572 - val_loss: 1.7578 - val_accuracy: 0.3156\n",
            "Epoch 2/40\n",
            "20/20 [==============================] - 0s 3ms/step - loss: 1.7050 - accuracy: 0.3776 - val_loss: 1.6494 - val_accuracy: 0.4062\n",
            "Epoch 3/40\n",
            "20/20 [==============================] - 0s 4ms/step - loss: 1.6084 - accuracy: 0.4175 - val_loss: 1.5620 - val_accuracy: 0.4250\n",
            "Epoch 4/40\n",
            "20/20 [==============================] - 0s 3ms/step - loss: 1.5269 - accuracy: 0.4371 - val_loss: 1.4851 - val_accuracy: 0.4406\n",
            "Epoch 5/40\n",
            "20/20 [==============================] - 0s 3ms/step - loss: 1.4544 - accuracy: 0.4535 - val_loss: 1.4171 - val_accuracy: 0.4594\n",
            "Epoch 6/40\n",
            "20/20 [==============================] - 0s 3ms/step - loss: 1.3910 - accuracy: 0.4793 - val_loss: 1.3585 - val_accuracy: 0.4906\n",
            "Epoch 7/40\n",
            "20/20 [==============================] - 0s 3ms/step - loss: 1.3369 - accuracy: 0.4957 - val_loss: 1.3104 - val_accuracy: 0.4875\n",
            "Epoch 8/40\n",
            "20/20 [==============================] - 0s 3ms/step - loss: 1.2923 - accuracy: 0.5043 - val_loss: 1.2719 - val_accuracy: 0.4938\n",
            "Epoch 9/40\n",
            "20/20 [==============================] - 0s 4ms/step - loss: 1.2559 - accuracy: 0.5129 - val_loss: 1.2415 - val_accuracy: 0.5031\n",
            "Epoch 10/40\n",
            "20/20 [==============================] - 0s 3ms/step - loss: 1.2258 - accuracy: 0.5293 - val_loss: 1.2166 - val_accuracy: 0.5125\n",
            "Epoch 11/40\n",
            "20/20 [==============================] - 0s 4ms/step - loss: 1.2001 - accuracy: 0.5434 - val_loss: 1.1947 - val_accuracy: 0.5219\n",
            "Epoch 12/40\n",
            "20/20 [==============================] - 0s 4ms/step - loss: 1.1770 - accuracy: 0.5512 - val_loss: 1.1755 - val_accuracy: 0.5344\n",
            "Epoch 13/40\n",
            "20/20 [==============================] - 0s 3ms/step - loss: 1.1560 - accuracy: 0.5575 - val_loss: 1.1588 - val_accuracy: 0.5188\n",
            "Epoch 14/40\n",
            "20/20 [==============================] - 0s 4ms/step - loss: 1.1368 - accuracy: 0.5590 - val_loss: 1.1434 - val_accuracy: 0.5375\n",
            "Epoch 15/40\n",
            "20/20 [==============================] - 0s 3ms/step - loss: 1.1188 - accuracy: 0.5575 - val_loss: 1.1292 - val_accuracy: 0.5344\n",
            "Epoch 16/40\n",
            "20/20 [==============================] - 0s 3ms/step - loss: 1.1017 - accuracy: 0.5598 - val_loss: 1.1165 - val_accuracy: 0.5375\n",
            "Epoch 17/40\n",
            "20/20 [==============================] - 0s 4ms/step - loss: 1.0857 - accuracy: 0.5661 - val_loss: 1.1052 - val_accuracy: 0.5281\n",
            "Epoch 18/40\n",
            "20/20 [==============================] - 0s 3ms/step - loss: 1.0707 - accuracy: 0.5661 - val_loss: 1.0951 - val_accuracy: 0.5312\n",
            "Epoch 19/40\n",
            "20/20 [==============================] - 0s 4ms/step - loss: 1.0565 - accuracy: 0.5700 - val_loss: 1.0862 - val_accuracy: 0.5375\n",
            "Epoch 20/40\n",
            "20/20 [==============================] - 0s 3ms/step - loss: 1.0433 - accuracy: 0.5723 - val_loss: 1.0788 - val_accuracy: 0.5437\n",
            "Epoch 21/40\n",
            "20/20 [==============================] - 0s 3ms/step - loss: 1.0313 - accuracy: 0.5731 - val_loss: 1.0731 - val_accuracy: 0.5469\n",
            "Epoch 22/40\n",
            "20/20 [==============================] - 0s 3ms/step - loss: 1.0205 - accuracy: 0.5833 - val_loss: 1.0676 - val_accuracy: 0.5531\n",
            "Epoch 23/40\n",
            "20/20 [==============================] - 0s 3ms/step - loss: 1.0107 - accuracy: 0.5825 - val_loss: 1.0638 - val_accuracy: 0.5500\n",
            "Epoch 24/40\n",
            "20/20 [==============================] - 0s 3ms/step - loss: 1.0022 - accuracy: 0.5880 - val_loss: 1.0603 - val_accuracy: 0.5656\n",
            "Epoch 25/40\n",
            "20/20 [==============================] - 0s 3ms/step - loss: 0.9941 - accuracy: 0.5911 - val_loss: 1.0578 - val_accuracy: 0.5688\n",
            "Epoch 26/40\n",
            "20/20 [==============================] - 0s 5ms/step - loss: 0.9871 - accuracy: 0.6005 - val_loss: 1.0552 - val_accuracy: 0.5656\n",
            "Epoch 27/40\n",
            "20/20 [==============================] - 0s 3ms/step - loss: 0.9806 - accuracy: 0.6028 - val_loss: 1.0530 - val_accuracy: 0.5625\n",
            "Epoch 28/40\n",
            "20/20 [==============================] - 0s 4ms/step - loss: 0.9744 - accuracy: 0.6020 - val_loss: 1.0517 - val_accuracy: 0.5625\n",
            "Epoch 29/40\n",
            "20/20 [==============================] - 0s 3ms/step - loss: 0.9693 - accuracy: 0.6036 - val_loss: 1.0505 - val_accuracy: 0.5625\n",
            "Epoch 30/40\n",
            "20/20 [==============================] - 0s 3ms/step - loss: 0.9640 - accuracy: 0.6020 - val_loss: 1.0492 - val_accuracy: 0.5625\n",
            "Epoch 31/40\n",
            "20/20 [==============================] - 0s 4ms/step - loss: 0.9592 - accuracy: 0.6013 - val_loss: 1.0480 - val_accuracy: 0.5656\n",
            "Epoch 32/40\n",
            "20/20 [==============================] - 0s 4ms/step - loss: 0.9544 - accuracy: 0.6059 - val_loss: 1.0468 - val_accuracy: 0.5688\n",
            "Epoch 33/40\n",
            "20/20 [==============================] - 0s 4ms/step - loss: 0.9501 - accuracy: 0.6052 - val_loss: 1.0461 - val_accuracy: 0.5688\n",
            "Epoch 34/40\n",
            "20/20 [==============================] - 0s 3ms/step - loss: 0.9460 - accuracy: 0.6067 - val_loss: 1.0455 - val_accuracy: 0.5656\n",
            "Epoch 35/40\n",
            "20/20 [==============================] - 0s 3ms/step - loss: 0.9425 - accuracy: 0.6122 - val_loss: 1.0454 - val_accuracy: 0.5750\n",
            "Epoch 36/40\n",
            "20/20 [==============================] - 0s 4ms/step - loss: 0.9391 - accuracy: 0.6114 - val_loss: 1.0439 - val_accuracy: 0.5656\n",
            "Epoch 37/40\n",
            "20/20 [==============================] - 0s 3ms/step - loss: 0.9353 - accuracy: 0.6145 - val_loss: 1.0434 - val_accuracy: 0.5781\n",
            "Epoch 38/40\n",
            "20/20 [==============================] - 0s 3ms/step - loss: 0.9326 - accuracy: 0.6200 - val_loss: 1.0426 - val_accuracy: 0.5750\n",
            "Epoch 39/40\n",
            "20/20 [==============================] - 0s 3ms/step - loss: 0.9293 - accuracy: 0.6169 - val_loss: 1.0418 - val_accuracy: 0.5781\n",
            "Epoch 40/40\n",
            "20/20 [==============================] - 0s 3ms/step - loss: 0.9259 - accuracy: 0.6185 - val_loss: 1.0418 - val_accuracy: 0.5781\n"
          ]
        }
      ],
      "source": [
        "h = model.fit(X_train, y_train, validation_data=(X_test,y_test), epochs=40, batch_size=64)"
      ]
    },
    {
      "cell_type": "code",
      "execution_count": 71,
      "metadata": {
        "execution": {
          "iopub.execute_input": "2021-05-19T12:24:37.464951Z",
          "iopub.status.busy": "2021-05-19T12:24:37.460368Z",
          "iopub.status.idle": "2021-05-19T12:24:37.645667Z",
          "shell.execute_reply": "2021-05-19T12:24:37.645144Z"
        },
        "papermill": {
          "duration": 0.24005,
          "end_time": "2021-05-19T12:24:37.645793",
          "exception": false,
          "start_time": "2021-05-19T12:24:37.405743",
          "status": "completed"
        },
        "tags": [],
        "colab": {
          "base_uri": "https://localhost:8080/",
          "height": 265
        },
        "id": "yIEFPBSt3Cc9",
        "outputId": "d2500f2d-2253-4dbd-e848-799142f4748b"
      },
      "outputs": [
        {
          "output_type": "display_data",
          "data": {
            "text/plain": [
              "<Figure size 432x288 with 1 Axes>"
            ],
            "image/png": "[encoded data removed]"
          },
          "metadata": {
            "needs_background": "light"
          }
        }
      ],
      "source": [
        "plt.plot(h.history['loss'], label='loss')\n",
        "plt.plot(h.history['val_loss'], label='val_loss')\n",
        "plt.legend()\n",
        "plt.show()"
      ]
    },
    {
      "cell_type": "code",
      "execution_count": 72,
      "metadata": {
        "execution": {
          "iopub.execute_input": "2021-05-19T12:24:37.738504Z",
          "iopub.status.busy": "2021-05-19T12:24:37.737199Z",
          "iopub.status.idle": "2021-05-19T12:24:37.786329Z",
          "shell.execute_reply": "2021-05-19T12:24:37.786785Z"
        },
        "papermill": {
          "duration": 0.097039,
          "end_time": "2021-05-19T12:24:37.786976",
          "exception": false,
          "start_time": "2021-05-19T12:24:37.689937",
          "status": "completed"
        },
        "tags": [],
        "colab": {
          "base_uri": "https://localhost:8080/"
        },
        "id": "WHRE0lTs3Cc9",
        "outputId": "1d62246e-61e2-4f28-b6b6-c1f76f3f6ce8"
      },
      "outputs": [
        {
          "output_type": "stream",
          "name": "stdout",
          "text": [
            "10/10 [==============================] - 0s 2ms/step - loss: 1.0418 - accuracy: 0.5781\n",
            "Loss\n",
            "1.04180109500885\n",
            "Accuracy\n",
            "0.578125\n"
          ]
        }
      ],
      "source": [
        "ModelLoss, ModelAccuracy = model.evaluate(X_test, y_test)\n",
        "\n",
        "print(\"Loss\")\n",
        "print(ModelLoss)\n",
        "print(\"Accuracy\")\n",
        "print(ModelAccuracy)"
      ]
    },
    {
      "cell_type": "code",
      "execution_count": 72,
      "metadata": {
        "id": "hXp6uMCn3Cc-"
      },
      "outputs": [],
      "source": []
    }
  ],
  "metadata": {
    "kernelspec": {
      "display_name": "Python 3 (ipykernel)",
      "language": "python",
      "name": "python3"
    },
    "language_info": {
      "codemirror_mode": {
        "name": "ipython",
        "version": 3
      },
      "file_extension": ".py",
      "mimetype": "text/x-python",
      "name": "python",
      "nbconvert_exporter": "python",
      "pygments_lexer": "ipython3",
      "version": "3.9.6"
    },
    "papermill": {
      "default_parameters": {},
      "duration": 22.075363,
      "end_time": "2021-05-19T12:24:39.999427",
      "environment_variables": {},
      "exception": null,
      "input_path": "__notebook__.ipynb",
      "output_path": "__notebook__.ipynb",
      "parameters": {},
      "start_time": "2021-05-19T12:24:17.924064",
      "version": "2.2.2"
    },
    "colab": {
      "provenance": []
    }
  },
  "nbformat": 4,
  "nbformat_minor": 0
}