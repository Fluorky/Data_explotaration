{
  "cells": [
    {
      "cell_type": "code",
      "execution_count": 1,
      "metadata": {
        "_cell_guid": "b1076dfc-b9ad-4769-8c92-a6c4dae69d19",
        "_uuid": "8f2839f25d086af736a60e9eeb907d3b93b6e0e5",
        "execution": {
          "iopub.execute_input": "2021-05-19T12:24:22.757429Z",
          "iopub.status.busy": "2021-05-19T12:24:22.756796Z",
          "iopub.status.idle": "2021-05-19T12:24:28.468491Z",
          "shell.execute_reply": "2021-05-19T12:24:28.468933Z"
        },
        "papermill": {
          "duration": 5.726385,
          "end_time": "2021-05-19T12:24:28.469218",
          "exception": false,
          "start_time": "2021-05-19T12:24:22.742833",
          "status": "completed"
        },
        "tags": [],
        "id": "Y0-MZqUh3Ccj"
      },
      "outputs": [],
      "source": [
        "import numpy as np\n",
        "import matplotlib.pyplot as plt\n",
        "import tensorflow as tf\n",
        "from tensorflow import keras\n",
        "import pandas as pd\n",
        "%matplotlib inline\n",
        "from sklearn.model_selection import *\n",
        "from sklearn.preprocessing import *"
      ]
    },
    {
      "cell_type": "code",
      "execution_count": 2,
      "metadata": {
        "execution": {
          "iopub.execute_input": "2021-05-19T12:24:28.489144Z",
          "iopub.status.busy": "2021-05-19T12:24:28.488287Z",
          "iopub.status.idle": "2021-05-19T12:24:28.546193Z",
          "shell.execute_reply": "2021-05-19T12:24:28.545245Z"
        },
        "papermill": {
          "duration": 0.068666,
          "end_time": "2021-05-19T12:24:28.546328",
          "exception": false,
          "start_time": "2021-05-19T12:24:28.477662",
          "status": "completed"
        },
        "tags": [],
        "id": "XOpd4oya3Ccp"
      },
      "outputs": [],
      "source": [
        "data_frame = pd.read_csv('winequality-red.csv', parse_dates=True)"
      ]
    },
    {
      "cell_type": "code",
      "execution_count": 3,
      "metadata": {
        "colab": {
          "base_uri": "https://localhost:8080/",
          "height": 268
        },
        "id": "Wc1d1zHH3Ccr",
        "outputId": "ba55330b-2b24-42d6-d577-164de85821fc"
      },
      "outputs": [
        {
          "output_type": "execute_result",
          "data": {
            "text/plain": [
              "   fixed acidity  volatile acidity  citric acid  residual sugar  chlorides  \\\n",
              "0            7.4              0.70         0.00             1.9      0.076   \n",
              "1            7.8              0.88         0.00             2.6      0.098   \n",
              "2            7.8              0.76         0.04             2.3      0.092   \n",
              "3           11.2              0.28         0.56             1.9      0.075   \n",
              "4            7.4              0.70         0.00             1.9      0.076   \n",
              "\n",
              "   free sulfur dioxide  total sulfur dioxide  density    pH  sulphates  \\\n",
              "0                 11.0                  34.0   0.9978  3.51       0.56   \n",
              "1                 25.0                  67.0   0.9968  3.20       0.68   \n",
              "2                 15.0                  54.0   0.9970  3.26       0.65   \n",
              "3                 17.0                  60.0   0.9980  3.16       0.58   \n",
              "4                 11.0                  34.0   0.9978  3.51       0.56   \n",
              "\n",
              "   alcohol  quality  \n",
              "0      9.4        5  \n",
              "1      9.8        5  \n",
              "2      9.8        5  \n",
              "3      9.8        6  \n",
              "4      9.4        5  "
            ],
            "text/html": [
              "\n",
              "  <div id=\"df-926a423d-b7d4-4f10-94e1-38d5699d88a1\">\n",
              "    <div class=\"colab-df-container\">\n",
              "      <div>\n",
              "<style scoped>\n",
              "    .dataframe tbody tr th:only-of-type {\n",
              "        vertical-align: middle;\n",
              "    }\n",
              "\n",
              "    .dataframe tbody tr th {\n",
              "        vertical-align: top;\n",
              "    }\n",
              "\n",
              "    .dataframe thead th {\n",
              "        text-align: right;\n",
              "    }\n",
              "</style>\n",
              "<table border=\"1\" class=\"dataframe\">\n",
              "  <thead>\n",
              "    <tr style=\"text-align: right;\">\n",
              "      <th></th>\n",
              "      <th>fixed acidity</th>\n",
              "      <th>volatile acidity</th>\n",
              "      <th>citric acid</th>\n",
              "      <th>residual sugar</th>\n",
              "      <th>chlorides</th>\n",
              "      <th>free sulfur dioxide</th>\n",
              "      <th>total sulfur dioxide</th>\n",
              "      <th>density</th>\n",
              "      <th>pH</th>\n",
              "      <th>sulphates</th>\n",
              "      <th>alcohol</th>\n",
              "      <th>quality</th>\n",
              "    </tr>\n",
              "  </thead>\n",
              "  <tbody>\n",
              "    <tr>\n",
              "      <th>0</th>\n",
              "      <td>7.4</td>\n",
              "      <td>0.70</td>\n",
              "      <td>0.00</td>\n",
              "      <td>1.9</td>\n",
              "      <td>0.076</td>\n",
              "      <td>11.0</td>\n",
              "      <td>34.0</td>\n",
              "      <td>0.9978</td>\n",
              "      <td>3.51</td>\n",
              "      <td>0.56</td>\n",
              "      <td>9.4</td>\n",
              "      <td>5</td>\n",
              "    </tr>\n",
              "    <tr>\n",
              "      <th>1</th>\n",
              "      <td>7.8</td>\n",
              "      <td>0.88</td>\n",
              "      <td>0.00</td>\n",
              "      <td>2.6</td>\n",
              "      <td>0.098</td>\n",
              "      <td>25.0</td>\n",
              "      <td>67.0</td>\n",
              "      <td>0.9968</td>\n",
              "      <td>3.20</td>\n",
              "      <td>0.68</td>\n",
              "      <td>9.8</td>\n",
              "      <td>5</td>\n",
              "    </tr>\n",
              "    <tr>\n",
              "      <th>2</th>\n",
              "      <td>7.8</td>\n",
              "      <td>0.76</td>\n",
              "      <td>0.04</td>\n",
              "      <td>2.3</td>\n",
              "      <td>0.092</td>\n",
              "      <td>15.0</td>\n",
              "      <td>54.0</td>\n",
              "      <td>0.9970</td>\n",
              "      <td>3.26</td>\n",
              "      <td>0.65</td>\n",
              "      <td>9.8</td>\n",
              "      <td>5</td>\n",
              "    </tr>\n",
              "    <tr>\n",
              "      <th>3</th>\n",
              "      <td>11.2</td>\n",
              "      <td>0.28</td>\n",
              "      <td>0.56</td>\n",
              "      <td>1.9</td>\n",
              "      <td>0.075</td>\n",
              "      <td>17.0</td>\n",
              "      <td>60.0</td>\n",
              "      <td>0.9980</td>\n",
              "      <td>3.16</td>\n",
              "      <td>0.58</td>\n",
              "      <td>9.8</td>\n",
              "      <td>6</td>\n",
              "    </tr>\n",
              "    <tr>\n",
              "      <th>4</th>\n",
              "      <td>7.4</td>\n",
              "      <td>0.70</td>\n",
              "      <td>0.00</td>\n",
              "      <td>1.9</td>\n",
              "      <td>0.076</td>\n",
              "      <td>11.0</td>\n",
              "      <td>34.0</td>\n",
              "      <td>0.9978</td>\n",
              "      <td>3.51</td>\n",
              "      <td>0.56</td>\n",
              "      <td>9.4</td>\n",
              "      <td>5</td>\n",
              "    </tr>\n",
              "  </tbody>\n",
              "</table>\n",
              "</div>\n",
              "      <button class=\"colab-df-convert\" onclick=\"convertToInteractive('df-926a423d-b7d4-4f10-94e1-38d5699d88a1')\"\n",
              "              title=\"Convert this dataframe to an interactive table.\"\n",
              "              style=\"display:none;\">\n",
              "        \n",
              "  <svg xmlns=\"http://www.w3.org/2000/svg\" height=\"24px\"viewBox=\"0 0 24 24\"\n",
              "       width=\"24px\">\n",
              "    <path d=\"M0 0h24v24H0V0z\" fill=\"none\"/>\n",
              "    <path d=\"M18.56 5.44l.94 2.06.94-2.06 2.06-.94-2.06-.94-.94-2.06-.94 2.06-2.06.94zm-11 1L8.5 8.5l.94-2.06 2.06-.94-2.06-.94L8.5 2.5l-.94 2.06-2.06.94zm10 10l.94 2.06.94-2.06 2.06-.94-2.06-.94-.94-2.06-.94 2.06-2.06.94z\"/><path d=\"M17.41 7.96l-1.37-1.37c-.4-.4-.92-.59-1.43-.59-.52 0-1.04.2-1.43.59L10.3 9.45l-7.72 7.72c-.78.78-.78 2.05 0 2.83L4 21.41c.39.39.9.59 1.41.59.51 0 1.02-.2 1.41-.59l7.78-7.78 2.81-2.81c.8-.78.8-2.07 0-2.86zM5.41 20L4 18.59l7.72-7.72 1.47 1.35L5.41 20z\"/>\n",
              "  </svg>\n",
              "      </button>\n",
              "      \n",
              "  <style>\n",
              "    .colab-df-container {\n",
              "      display:flex;\n",
              "      flex-wrap:wrap;\n",
              "      gap: 12px;\n",
              "    }\n",
              "\n",
              "    .colab-df-convert {\n",
              "      background-color: #E8F0FE;\n",
              "      border: none;\n",
              "      border-radius: 50%;\n",
              "      cursor: pointer;\n",
              "      display: none;\n",
              "      fill: #1967D2;\n",
              "      height: 32px;\n",
              "      padding: 0 0 0 0;\n",
              "      width: 32px;\n",
              "    }\n",
              "\n",
              "    .colab-df-convert:hover {\n",
              "      background-color: #E2EBFA;\n",
              "      box-shadow: 0px 1px 2px rgba(60, 64, 67, 0.3), 0px 1px 3px 1px rgba(60, 64, 67, 0.15);\n",
              "      fill: #174EA6;\n",
              "    }\n",
              "\n",
              "    [theme=dark] .colab-df-convert {\n",
              "      background-color: #3B4455;\n",
              "      fill: #D2E3FC;\n",
              "    }\n",
              "\n",
              "    [theme=dark] .colab-df-convert:hover {\n",
              "      background-color: #434B5C;\n",
              "      box-shadow: 0px 1px 3px 1px rgba(0, 0, 0, 0.15);\n",
              "      filter: drop-shadow(0px 1px 2px rgba(0, 0, 0, 0.3));\n",
              "      fill: #FFFFFF;\n",
              "    }\n",
              "  </style>\n",
              "\n",
              "      <script>\n",
              "        const buttonEl =\n",
              "          document.querySelector('#df-926a423d-b7d4-4f10-94e1-38d5699d88a1 button.colab-df-convert');\n",
              "        buttonEl.style.display =\n",
              "          google.colab.kernel.accessAllowed ? 'block' : 'none';\n",
              "\n",
              "        async function convertToInteractive(key) {\n",
              "          const element = document.querySelector('#df-926a423d-b7d4-4f10-94e1-38d5699d88a1');\n",
              "          const dataTable =\n",
              "            await google.colab.kernel.invokeFunction('convertToInteractive',\n",
              "                                                     [key], {});\n",
              "          if (!dataTable) return;\n",
              "\n",
              "          const docLinkHtml = 'Like what you see? Visit the ' +\n",
              "            '<a target=\"_blank\" href=https://colab.research.google.com/notebooks/data_table.ipynb>data table notebook</a>'\n",
              "            + ' to learn more about interactive tables.';\n",
              "          element.innerHTML = '';\n",
              "          dataTable['output_type'] = 'display_data';\n",
              "          await google.colab.output.renderOutput(dataTable, element);\n",
              "          const docLink = document.createElement('div');\n",
              "          docLink.innerHTML = docLinkHtml;\n",
              "          element.appendChild(docLink);\n",
              "        }\n",
              "      </script>\n",
              "    </div>\n",
              "  </div>\n",
              "  "
            ]
          },
          "metadata": {},
          "execution_count": 3
        }
      ],
      "source": [
        "data_frame.head()"
      ]
    },
    {
      "cell_type": "code",
      "execution_count": 4,
      "metadata": {
        "execution": {
          "iopub.execute_input": "2021-05-19T12:24:28.569671Z",
          "iopub.status.busy": "2021-05-19T12:24:28.569137Z",
          "iopub.status.idle": "2021-05-19T12:24:28.580485Z",
          "shell.execute_reply": "2021-05-19T12:24:28.580034Z"
        },
        "papermill": {
          "duration": 0.026204,
          "end_time": "2021-05-19T12:24:28.580609",
          "exception": false,
          "start_time": "2021-05-19T12:24:28.554405",
          "status": "completed"
        },
        "tags": [],
        "colab": {
          "base_uri": "https://localhost:8080/",
          "height": 299
        },
        "id": "9443Gkfb3Cc3",
        "outputId": "b8ff2a25-0b88-468b-a8fe-9070c01a9064"
      },
      "outputs": [
        {
          "output_type": "execute_result",
          "data": {
            "text/plain": [
              "   quality  fixed acidity  volatile acidity  citric acid  residual sugar  \\\n",
              "0        3             10                10           10              10   \n",
              "1        4             53                53           53              53   \n",
              "2        5            681               681          681             681   \n",
              "3        6            638               638          638             638   \n",
              "4        7            199               199          199             199   \n",
              "5        8             18                18           18              18   \n",
              "\n",
              "   chlorides  free sulfur dioxide  total sulfur dioxide  density   pH  \\\n",
              "0         10                   10                    10       10   10   \n",
              "1         53                   53                    53       53   53   \n",
              "2        681                  681                   681      681  681   \n",
              "3        638                  638                   638      638  638   \n",
              "4        199                  199                   199      199  199   \n",
              "5         18                   18                    18       18   18   \n",
              "\n",
              "   sulphates  alcohol  \n",
              "0         10       10  \n",
              "1         53       53  \n",
              "2        681      681  \n",
              "3        638      638  \n",
              "4        199      199  \n",
              "5         18       18  "
            ],
            "text/html": [
              "\n",
              "  <div id=\"df-509af894-3f7b-43f9-9a2c-f4b9536f5a53\">\n",
              "    <div class=\"colab-df-container\">\n",
              "      <div>\n",
              "<style scoped>\n",
              "    .dataframe tbody tr th:only-of-type {\n",
              "        vertical-align: middle;\n",
              "    }\n",
              "\n",
              "    .dataframe tbody tr th {\n",
              "        vertical-align: top;\n",
              "    }\n",
              "\n",
              "    .dataframe thead th {\n",
              "        text-align: right;\n",
              "    }\n",
              "</style>\n",
              "<table border=\"1\" class=\"dataframe\">\n",
              "  <thead>\n",
              "    <tr style=\"text-align: right;\">\n",
              "      <th></th>\n",
              "      <th>quality</th>\n",
              "      <th>fixed acidity</th>\n",
              "      <th>volatile acidity</th>\n",
              "      <th>citric acid</th>\n",
              "      <th>residual sugar</th>\n",
              "      <th>chlorides</th>\n",
              "      <th>free sulfur dioxide</th>\n",
              "      <th>total sulfur dioxide</th>\n",
              "      <th>density</th>\n",
              "      <th>pH</th>\n",
              "      <th>sulphates</th>\n",
              "      <th>alcohol</th>\n",
              "    </tr>\n",
              "  </thead>\n",
              "  <tbody>\n",
              "    <tr>\n",
              "      <th>0</th>\n",
              "      <td>3</td>\n",
              "      <td>10</td>\n",
              "      <td>10</td>\n",
              "      <td>10</td>\n",
              "      <td>10</td>\n",
              "      <td>10</td>\n",
              "      <td>10</td>\n",
              "      <td>10</td>\n",
              "      <td>10</td>\n",
              "      <td>10</td>\n",
              "      <td>10</td>\n",
              "      <td>10</td>\n",
              "    </tr>\n",
              "    <tr>\n",
              "      <th>1</th>\n",
              "      <td>4</td>\n",
              "      <td>53</td>\n",
              "      <td>53</td>\n",
              "      <td>53</td>\n",
              "      <td>53</td>\n",
              "      <td>53</td>\n",
              "      <td>53</td>\n",
              "      <td>53</td>\n",
              "      <td>53</td>\n",
              "      <td>53</td>\n",
              "      <td>53</td>\n",
              "      <td>53</td>\n",
              "    </tr>\n",
              "    <tr>\n",
              "      <th>2</th>\n",
              "      <td>5</td>\n",
              "      <td>681</td>\n",
              "      <td>681</td>\n",
              "      <td>681</td>\n",
              "      <td>681</td>\n",
              "      <td>681</td>\n",
              "      <td>681</td>\n",
              "      <td>681</td>\n",
              "      <td>681</td>\n",
              "      <td>681</td>\n",
              "      <td>681</td>\n",
              "      <td>681</td>\n",
              "    </tr>\n",
              "    <tr>\n",
              "      <th>3</th>\n",
              "      <td>6</td>\n",
              "      <td>638</td>\n",
              "      <td>638</td>\n",
              "      <td>638</td>\n",
              "      <td>638</td>\n",
              "      <td>638</td>\n",
              "      <td>638</td>\n",
              "      <td>638</td>\n",
              "      <td>638</td>\n",
              "      <td>638</td>\n",
              "      <td>638</td>\n",
              "      <td>638</td>\n",
              "    </tr>\n",
              "    <tr>\n",
              "      <th>4</th>\n",
              "      <td>7</td>\n",
              "      <td>199</td>\n",
              "      <td>199</td>\n",
              "      <td>199</td>\n",
              "      <td>199</td>\n",
              "      <td>199</td>\n",
              "      <td>199</td>\n",
              "      <td>199</td>\n",
              "      <td>199</td>\n",
              "      <td>199</td>\n",
              "      <td>199</td>\n",
              "      <td>199</td>\n",
              "    </tr>\n",
              "    <tr>\n",
              "      <th>5</th>\n",
              "      <td>8</td>\n",
              "      <td>18</td>\n",
              "      <td>18</td>\n",
              "      <td>18</td>\n",
              "      <td>18</td>\n",
              "      <td>18</td>\n",
              "      <td>18</td>\n",
              "      <td>18</td>\n",
              "      <td>18</td>\n",
              "      <td>18</td>\n",
              "      <td>18</td>\n",
              "      <td>18</td>\n",
              "    </tr>\n",
              "  </tbody>\n",
              "</table>\n",
              "</div>\n",
              "      <button class=\"colab-df-convert\" onclick=\"convertToInteractive('df-509af894-3f7b-43f9-9a2c-f4b9536f5a53')\"\n",
              "              title=\"Convert this dataframe to an interactive table.\"\n",
              "              style=\"display:none;\">\n",
              "        \n",
              "  <svg xmlns=\"http://www.w3.org/2000/svg\" height=\"24px\"viewBox=\"0 0 24 24\"\n",
              "       width=\"24px\">\n",
              "    <path d=\"M0 0h24v24H0V0z\" fill=\"none\"/>\n",
              "    <path d=\"M18.56 5.44l.94 2.06.94-2.06 2.06-.94-2.06-.94-.94-2.06-.94 2.06-2.06.94zm-11 1L8.5 8.5l.94-2.06 2.06-.94-2.06-.94L8.5 2.5l-.94 2.06-2.06.94zm10 10l.94 2.06.94-2.06 2.06-.94-2.06-.94-.94-2.06-.94 2.06-2.06.94z\"/><path d=\"M17.41 7.96l-1.37-1.37c-.4-.4-.92-.59-1.43-.59-.52 0-1.04.2-1.43.59L10.3 9.45l-7.72 7.72c-.78.78-.78 2.05 0 2.83L4 21.41c.39.39.9.59 1.41.59.51 0 1.02-.2 1.41-.59l7.78-7.78 2.81-2.81c.8-.78.8-2.07 0-2.86zM5.41 20L4 18.59l7.72-7.72 1.47 1.35L5.41 20z\"/>\n",
              "  </svg>\n",
              "      </button>\n",
              "      \n",
              "  <style>\n",
              "    .colab-df-container {\n",
              "      display:flex;\n",
              "      flex-wrap:wrap;\n",
              "      gap: 12px;\n",
              "    }\n",
              "\n",
              "    .colab-df-convert {\n",
              "      background-color: #E8F0FE;\n",
              "      border: none;\n",
              "      border-radius: 50%;\n",
              "      cursor: pointer;\n",
              "      display: none;\n",
              "      fill: #1967D2;\n",
              "      height: 32px;\n",
              "      padding: 0 0 0 0;\n",
              "      width: 32px;\n",
              "    }\n",
              "\n",
              "    .colab-df-convert:hover {\n",
              "      background-color: #E2EBFA;\n",
              "      box-shadow: 0px 1px 2px rgba(60, 64, 67, 0.3), 0px 1px 3px 1px rgba(60, 64, 67, 0.15);\n",
              "      fill: #174EA6;\n",
              "    }\n",
              "\n",
              "    [theme=dark] .colab-df-convert {\n",
              "      background-color: #3B4455;\n",
              "      fill: #D2E3FC;\n",
              "    }\n",
              "\n",
              "    [theme=dark] .colab-df-convert:hover {\n",
              "      background-color: #434B5C;\n",
              "      box-shadow: 0px 1px 3px 1px rgba(0, 0, 0, 0.15);\n",
              "      filter: drop-shadow(0px 1px 2px rgba(0, 0, 0, 0.3));\n",
              "      fill: #FFFFFF;\n",
              "    }\n",
              "  </style>\n",
              "\n",
              "      <script>\n",
              "        const buttonEl =\n",
              "          document.querySelector('#df-509af894-3f7b-43f9-9a2c-f4b9536f5a53 button.colab-df-convert');\n",
              "        buttonEl.style.display =\n",
              "          google.colab.kernel.accessAllowed ? 'block' : 'none';\n",
              "\n",
              "        async function convertToInteractive(key) {\n",
              "          const element = document.querySelector('#df-509af894-3f7b-43f9-9a2c-f4b9536f5a53');\n",
              "          const dataTable =\n",
              "            await google.colab.kernel.invokeFunction('convertToInteractive',\n",
              "                                                     [key], {});\n",
              "          if (!dataTable) return;\n",
              "\n",
              "          const docLinkHtml = 'Like what you see? Visit the ' +\n",
              "            '<a target=\"_blank\" href=https://colab.research.google.com/notebooks/data_table.ipynb>data table notebook</a>'\n",
              "            + ' to learn more about interactive tables.';\n",
              "          element.innerHTML = '';\n",
              "          dataTable['output_type'] = 'display_data';\n",
              "          await google.colab.output.renderOutput(dataTable, element);\n",
              "          const docLink = document.createElement('div');\n",
              "          docLink.innerHTML = docLinkHtml;\n",
              "          element.appendChild(docLink);\n",
              "        }\n",
              "      </script>\n",
              "    </div>\n",
              "  </div>\n",
              "  "
            ]
          },
          "metadata": {},
          "execution_count": 4
        }
      ],
      "source": [
        "data_frame.groupby('quality').count().reset_index()"
      ]
    },
    {
      "cell_type": "code",
      "execution_count": 5,
      "metadata": {
        "execution": {
          "iopub.execute_input": "2021-05-19T12:24:28.602621Z",
          "iopub.status.busy": "2021-05-19T12:24:28.602117Z",
          "iopub.status.idle": "2021-05-19T12:24:28.605036Z",
          "shell.execute_reply": "2021-05-19T12:24:28.605469Z"
        },
        "papermill": {
          "duration": 0.016157,
          "end_time": "2021-05-19T12:24:28.605616",
          "exception": false,
          "start_time": "2021-05-19T12:24:28.589459",
          "status": "completed"
        },
        "tags": [],
        "id": "vg5dAb5h3Cc4"
      },
      "outputs": [],
      "source": [
        "data_frame['quality'].replace(to_replace={3: 0, 4: 1, 5: 2, 6: 3, 7: 4, 8: 5}, inplace=True)"
      ]
    },
    {
      "cell_type": "code",
      "execution_count": 6,
      "metadata": {
        "execution": {
          "iopub.execute_input": "2021-05-19T12:24:28.625812Z",
          "iopub.status.busy": "2021-05-19T12:24:28.625295Z",
          "iopub.status.idle": "2021-05-19T12:24:28.629846Z",
          "shell.execute_reply": "2021-05-19T12:24:28.630290Z"
        },
        "papermill": {
          "duration": 0.016044,
          "end_time": "2021-05-19T12:24:28.630432",
          "exception": false,
          "start_time": "2021-05-19T12:24:28.614388",
          "status": "completed"
        },
        "tags": [],
        "id": "KpryAn-S3Cc5"
      },
      "outputs": [],
      "source": [
        "X = data_frame[['fixed acidity','volatile acidity','citric acid','residual sugar','chlorides',\n",
        "'free sulfur dioxide','total sulfur dioxide','density','pH','sulphates','alcohol']]\n",
        "Y = data_frame['quality']"
      ]
    },
    {
      "cell_type": "code",
      "execution_count": 7,
      "metadata": {
        "execution": {
          "iopub.execute_input": "2021-05-19T12:24:29.696491Z",
          "iopub.status.busy": "2021-05-19T12:24:29.695890Z",
          "iopub.status.idle": "2021-05-19T12:24:29.884061Z",
          "shell.execute_reply": "2021-05-19T12:24:29.884502Z"
        },
        "papermill": {
          "duration": 0.204377,
          "end_time": "2021-05-19T12:24:29.884676",
          "exception": false,
          "start_time": "2021-05-19T12:24:29.680299",
          "status": "completed"
        },
        "tags": [],
        "id": "Myk-qsgg3Cc5"
      },
      "outputs": [],
      "source": [
        "X_train, X_test, y_train, y_test = train_test_split(X, Y, test_size=0.2, random_state=24)"
      ]
    },
    {
      "cell_type": "code",
      "execution_count": 8,
      "metadata": {
        "execution": {
          "iopub.execute_input": "2021-05-19T12:24:29.911606Z",
          "iopub.status.busy": "2021-05-19T12:24:29.910761Z",
          "iopub.status.idle": "2021-05-19T12:24:29.920743Z",
          "shell.execute_reply": "2021-05-19T12:24:29.921213Z"
        },
        "papermill": {
          "duration": 0.024917,
          "end_time": "2021-05-19T12:24:29.921391",
          "exception": false,
          "start_time": "2021-05-19T12:24:29.896474",
          "status": "completed"
        },
        "tags": [],
        "id": "sxysBr_b3Cc6"
      },
      "outputs": [],
      "source": [
        "s = StandardScaler()\n",
        "X_train = s.fit_transform(X_train)\n",
        "X_test = s.transform(X_test)"
      ]
    },
    {
      "cell_type": "code",
      "execution_count": 9,
      "metadata": {
        "execution": {
          "iopub.execute_input": "2021-05-19T12:24:29.948681Z",
          "iopub.status.busy": "2021-05-19T12:24:29.947810Z",
          "iopub.status.idle": "2021-05-19T12:24:30.095630Z",
          "shell.execute_reply": "2021-05-19T12:24:30.096297Z"
        },
        "papermill": {
          "duration": 0.163214,
          "end_time": "2021-05-19T12:24:30.096508",
          "exception": false,
          "start_time": "2021-05-19T12:24:29.933294",
          "status": "completed"
        },
        "tags": [],
        "colab": {
          "base_uri": "https://localhost:8080/"
        },
        "id": "yrbqET403Cc7",
        "outputId": "47c13fa9-1705-4804-8ed4-86dac61caff5"
      },
      "outputs": [
        {
          "output_type": "stream",
          "name": "stdout",
          "text": [
            "Model: \"sequential\"\n",
            "_________________________________________________________________\n",
            " Layer (type)                Output Shape              Param #   \n",
            "=================================================================\n",
            " dense (Dense)               (None, 128)               1536      \n",
            "                                                                 \n",
            " dense_1 (Dense)             (None, 64)                8256      \n",
            "                                                                 \n",
            " dense_2 (Dense)             (None, 32)                2080      \n",
            "                                                                 \n",
            " dense_3 (Dense)             (None, 16)                528       \n",
            "                                                                 \n",
            " dense_4 (Dense)             (None, 6)                 102       \n",
            "                                                                 \n",
            "=================================================================\n",
            "Total params: 12,502\n",
            "Trainable params: 12,502\n",
            "Non-trainable params: 0\n",
            "_________________________________________________________________\n"
          ]
        }
      ],
      "source": [
        "model = tf.keras.models.Sequential([\n",
        "  keras.layers.Dense(units=128, input_shape=(X_train.shape[1],), activation='relu'),\n",
        "  keras.layers.Dense(units=64, activation='relu'),\n",
        "  keras.layers.Dense(units=32, activation='relu'),\n",
        "  keras.layers.Dense(units=16, activation='relu'),\n",
        "  keras.layers.Dense(units=6, activation='softmax')\n",
        "])\n",
        "model.compile(loss='sparse_categorical_crossentropy', optimizer='sgd',  metrics=['accuracy'])\n",
        "model.summary()"
      ]
    },
    {
      "cell_type": "code",
      "execution_count": 10,
      "metadata": {
        "execution": {
          "iopub.execute_input": "2021-05-19T12:24:30.126578Z",
          "iopub.status.busy": "2021-05-19T12:24:30.125892Z",
          "iopub.status.idle": "2021-05-19T12:24:37.360973Z",
          "shell.execute_reply": "2021-05-19T12:24:37.360393Z"
        },
        "papermill": {
          "duration": 7.251947,
          "end_time": "2021-05-19T12:24:37.361105",
          "exception": false,
          "start_time": "2021-05-19T12:24:30.109158",
          "status": "completed"
        },
        "tags": [],
        "colab": {
          "base_uri": "https://localhost:8080/"
        },
        "id": "VYhQc7zB3Cc8",
        "outputId": "2dca0bbc-8aa0-49e3-f911-55a4b135dad4"
      },
      "outputs": [
        {
          "output_type": "stream",
          "name": "stdout",
          "text": [
            "Epoch 1/20\n",
            "40/40 [==============================] - 1s 7ms/step - loss: 1.7843 - accuracy: 0.2330 - val_loss: 1.7097 - val_accuracy: 0.4375\n",
            "Epoch 2/20\n",
            "40/40 [==============================] - 0s 3ms/step - loss: 1.6603 - accuracy: 0.4926 - val_loss: 1.6140 - val_accuracy: 0.5156\n",
            "Epoch 3/20\n",
            "40/40 [==============================] - 0s 3ms/step - loss: 1.5726 - accuracy: 0.5051 - val_loss: 1.5329 - val_accuracy: 0.5312\n",
            "Epoch 4/20\n",
            "40/40 [==============================] - 0s 3ms/step - loss: 1.4934 - accuracy: 0.5278 - val_loss: 1.4566 - val_accuracy: 0.5344\n",
            "Epoch 5/20\n",
            "40/40 [==============================] - 0s 3ms/step - loss: 1.4173 - accuracy: 0.5410 - val_loss: 1.3822 - val_accuracy: 0.5469\n",
            "Epoch 6/20\n",
            "40/40 [==============================] - 0s 3ms/step - loss: 1.3432 - accuracy: 0.5590 - val_loss: 1.3112 - val_accuracy: 0.5375\n",
            "Epoch 7/20\n",
            "40/40 [==============================] - 0s 3ms/step - loss: 1.2736 - accuracy: 0.5661 - val_loss: 1.2466 - val_accuracy: 0.5406\n",
            "Epoch 8/20\n",
            "40/40 [==============================] - 0s 2ms/step - loss: 1.2119 - accuracy: 0.5754 - val_loss: 1.1934 - val_accuracy: 0.5437\n",
            "Epoch 9/20\n",
            "40/40 [==============================] - 0s 3ms/step - loss: 1.1611 - accuracy: 0.5653 - val_loss: 1.1540 - val_accuracy: 0.5625\n",
            "Epoch 10/20\n",
            "40/40 [==============================] - 0s 3ms/step - loss: 1.1213 - accuracy: 0.5770 - val_loss: 1.1245 - val_accuracy: 0.5562\n",
            "Epoch 11/20\n",
            "40/40 [==============================] - 0s 3ms/step - loss: 1.0889 - accuracy: 0.5786 - val_loss: 1.1045 - val_accuracy: 0.5469\n",
            "Epoch 12/20\n",
            "40/40 [==============================] - 0s 2ms/step - loss: 1.0637 - accuracy: 0.5770 - val_loss: 1.0901 - val_accuracy: 0.5656\n",
            "Epoch 13/20\n",
            "40/40 [==============================] - 0s 2ms/step - loss: 1.0431 - accuracy: 0.5919 - val_loss: 1.0794 - val_accuracy: 0.5625\n",
            "Epoch 14/20\n",
            "40/40 [==============================] - 0s 3ms/step - loss: 1.0243 - accuracy: 0.5872 - val_loss: 1.0720 - val_accuracy: 0.5656\n",
            "Epoch 15/20\n",
            "40/40 [==============================] - 0s 3ms/step - loss: 1.0089 - accuracy: 0.5919 - val_loss: 1.0665 - val_accuracy: 0.5688\n",
            "Epoch 16/20\n",
            "40/40 [==============================] - 0s 2ms/step - loss: 0.9957 - accuracy: 0.5903 - val_loss: 1.0618 - val_accuracy: 0.5688\n",
            "Epoch 17/20\n",
            "40/40 [==============================] - 0s 2ms/step - loss: 0.9839 - accuracy: 0.5966 - val_loss: 1.0566 - val_accuracy: 0.5688\n",
            "Epoch 18/20\n",
            "40/40 [==============================] - 0s 3ms/step - loss: 0.9735 - accuracy: 0.5919 - val_loss: 1.0529 - val_accuracy: 0.5688\n",
            "Epoch 19/20\n",
            "40/40 [==============================] - 0s 3ms/step - loss: 0.9653 - accuracy: 0.5973 - val_loss: 1.0503 - val_accuracy: 0.5719\n",
            "Epoch 20/20\n",
            "40/40 [==============================] - 0s 3ms/step - loss: 0.9559 - accuracy: 0.5958 - val_loss: 1.0472 - val_accuracy: 0.5625\n"
          ]
        }
      ],
      "source": [
        "h = model.fit(X_train, y_train, validation_data=(X_test,y_test), epochs=20, batch_size=32)"
      ]
    },
    {
      "cell_type": "code",
      "execution_count": 11,
      "metadata": {
        "execution": {
          "iopub.execute_input": "2021-05-19T12:24:37.464951Z",
          "iopub.status.busy": "2021-05-19T12:24:37.460368Z",
          "iopub.status.idle": "2021-05-19T12:24:37.645667Z",
          "shell.execute_reply": "2021-05-19T12:24:37.645144Z"
        },
        "papermill": {
          "duration": 0.24005,
          "end_time": "2021-05-19T12:24:37.645793",
          "exception": false,
          "start_time": "2021-05-19T12:24:37.405743",
          "status": "completed"
        },
        "tags": [],
        "colab": {
          "base_uri": "https://localhost:8080/",
          "height": 265
        },
        "id": "yIEFPBSt3Cc9",
        "outputId": "aee0d2af-8603-4bb6-dbf7-59e084692867"
      },
      "outputs": [
        {
          "output_type": "display_data",
          "data": {
            "text/plain": [
              "<Figure size 432x288 with 1 Axes>"
            ],
            "image/png": "[encoded data removed]"
          },
          "metadata": {
            "needs_background": "light"
          }
        }
      ],
      "source": [
        "plt.plot(h.history['loss'], label='loss')\n",
        "plt.plot(h.history['val_loss'], label='val_loss')\n",
        "plt.legend()\n",
        "plt.show()"
      ]
    },
    {
      "cell_type": "code",
      "execution_count": 12,
      "metadata": {
        "execution": {
          "iopub.execute_input": "2021-05-19T12:24:37.738504Z",
          "iopub.status.busy": "2021-05-19T12:24:37.737199Z",
          "iopub.status.idle": "2021-05-19T12:24:37.786329Z",
          "shell.execute_reply": "2021-05-19T12:24:37.786785Z"
        },
        "papermill": {
          "duration": 0.097039,
          "end_time": "2021-05-19T12:24:37.786976",
          "exception": false,
          "start_time": "2021-05-19T12:24:37.689937",
          "status": "completed"
        },
        "tags": [],
        "colab": {
          "base_uri": "https://localhost:8080/"
        },
        "id": "WHRE0lTs3Cc9",
        "outputId": "93d5c05a-f204-4686-ec4a-a08d1822d21c"
      },
      "outputs": [
        {
          "output_type": "stream",
          "name": "stdout",
          "text": [
            "10/10 [==============================] - 0s 2ms/step - loss: 1.0472 - accuracy: 0.5625\n",
            "Loss\n",
            "1.0472028255462646\n",
            "Accuracy\n",
            "0.5625\n"
          ]
        }
      ],
      "source": [
        "ModelLoss, ModelAccuracy = model.evaluate(X_test, y_test)\n",
        "\n",
        "print(\"Loss\")\n",
        "print(ModelLoss)\n",
        "print(\"Accuracy\")\n",
        "print(ModelAccuracy)"
      ]
    },
    {
      "cell_type": "code",
      "execution_count": 12,
      "metadata": {
        "id": "hXp6uMCn3Cc-"
      },
      "outputs": [],
      "source": []
    }
  ],
  "metadata": {
    "kernelspec": {
      "display_name": "Python 3 (ipykernel)",
      "language": "python",
      "name": "python3"
    },
    "language_info": {
      "codemirror_mode": {
        "name": "ipython",
        "version": 3
      },
      "file_extension": ".py",
      "mimetype": "text/x-python",
      "name": "python",
      "nbconvert_exporter": "python",
      "pygments_lexer": "ipython3",
      "version": "3.9.6"
    },
    "papermill": {
      "default_parameters": {},
      "duration": 22.075363,
      "end_time": "2021-05-19T12:24:39.999427",
      "environment_variables": {},
      "exception": null,
      "input_path": "__notebook__.ipynb",
      "output_path": "__notebook__.ipynb",
      "parameters": {},
      "start_time": "2021-05-19T12:24:17.924064",
      "version": "2.2.2"
    },
    "colab": {
      "provenance": []
    }
  },
  "nbformat": 4,
  "nbformat_minor": 0
}