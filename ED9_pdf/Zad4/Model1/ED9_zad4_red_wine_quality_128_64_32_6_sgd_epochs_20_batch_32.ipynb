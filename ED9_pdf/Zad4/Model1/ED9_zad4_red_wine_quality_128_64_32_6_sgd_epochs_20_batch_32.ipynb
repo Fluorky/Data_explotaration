{
  "cells": [
    {
      "cell_type": "code",
      "execution_count": null,
      "metadata": {
        "_cell_guid": "b1076dfc-b9ad-4769-8c92-a6c4dae69d19",
        "_uuid": "8f2839f25d086af736a60e9eeb907d3b93b6e0e5",
        "execution": {
          "iopub.execute_input": "2021-05-19T12:24:22.757429Z",
          "iopub.status.busy": "2021-05-19T12:24:22.756796Z",
          "iopub.status.idle": "2021-05-19T12:24:28.468491Z",
          "shell.execute_reply": "2021-05-19T12:24:28.468933Z"
        },
        "papermill": {
          "duration": 5.726385,
          "end_time": "2021-05-19T12:24:28.469218",
          "exception": false,
          "start_time": "2021-05-19T12:24:22.742833",
          "status": "completed"
        },
        "tags": [],
        "id": "Y0-MZqUh3Ccj"
      },
      "outputs": [],
      "source": [
        "import numpy as np\n",
        "import matplotlib.pyplot as plt\n",
        "import tensorflow as tf\n",
        "from tensorflow import keras\n",
        "import pandas as pd\n",
        "%matplotlib inline\n",
        "from sklearn.model_selection import *\n",
        "from sklearn.preprocessing import *"
      ]
    },
    {
      "cell_type": "code",
      "execution_count": null,
      "metadata": {
        "execution": {
          "iopub.execute_input": "2021-05-19T12:24:28.489144Z",
          "iopub.status.busy": "2021-05-19T12:24:28.488287Z",
          "iopub.status.idle": "2021-05-19T12:24:28.546193Z",
          "shell.execute_reply": "2021-05-19T12:24:28.545245Z"
        },
        "papermill": {
          "duration": 0.068666,
          "end_time": "2021-05-19T12:24:28.546328",
          "exception": false,
          "start_time": "2021-05-19T12:24:28.477662",
          "status": "completed"
        },
        "tags": [],
        "id": "XOpd4oya3Ccp"
      },
      "outputs": [],
      "source": [
        "data_frame = pd.read_csv('winequality-red.csv', parse_dates=True)"
      ]
    },
    {
      "cell_type": "code",
      "execution_count": null,
      "metadata": {
        "id": "Wc1d1zHH3Ccr",
        "outputId": "d2ffbf64-07f8-494d-abdc-a41984a941b8"
      },
      "outputs": [
        {
          "data": {
            "text/html": [
              "<div>\n",
              "<style scoped>\n",
              "    .dataframe tbody tr th:only-of-type {\n",
              "        vertical-align: middle;\n",
              "    }\n",
              "\n",
              "    .dataframe tbody tr th {\n",
              "        vertical-align: top;\n",
              "    }\n",
              "\n",
              "    .dataframe thead th {\n",
              "        text-align: right;\n",
              "    }\n",
              "</style>\n",
              "<table border=\"1\" class=\"dataframe\">\n",
              "  <thead>\n",
              "    <tr style=\"text-align: right;\">\n",
              "      <th></th>\n",
              "      <th>fixed acidity</th>\n",
              "      <th>volatile acidity</th>\n",
              "      <th>citric acid</th>\n",
              "      <th>residual sugar</th>\n",
              "      <th>chlorides</th>\n",
              "      <th>free sulfur dioxide</th>\n",
              "      <th>total sulfur dioxide</th>\n",
              "      <th>density</th>\n",
              "      <th>pH</th>\n",
              "      <th>sulphates</th>\n",
              "      <th>alcohol</th>\n",
              "      <th>quality</th>\n",
              "    </tr>\n",
              "  </thead>\n",
              "  <tbody>\n",
              "    <tr>\n",
              "      <th>0</th>\n",
              "      <td>7.4</td>\n",
              "      <td>0.70</td>\n",
              "      <td>0.00</td>\n",
              "      <td>1.9</td>\n",
              "      <td>0.076</td>\n",
              "      <td>11.0</td>\n",
              "      <td>34.0</td>\n",
              "      <td>0.9978</td>\n",
              "      <td>3.51</td>\n",
              "      <td>0.56</td>\n",
              "      <td>9.4</td>\n",
              "      <td>5</td>\n",
              "    </tr>\n",
              "    <tr>\n",
              "      <th>1</th>\n",
              "      <td>7.8</td>\n",
              "      <td>0.88</td>\n",
              "      <td>0.00</td>\n",
              "      <td>2.6</td>\n",
              "      <td>0.098</td>\n",
              "      <td>25.0</td>\n",
              "      <td>67.0</td>\n",
              "      <td>0.9968</td>\n",
              "      <td>3.20</td>\n",
              "      <td>0.68</td>\n",
              "      <td>9.8</td>\n",
              "      <td>5</td>\n",
              "    </tr>\n",
              "    <tr>\n",
              "      <th>2</th>\n",
              "      <td>7.8</td>\n",
              "      <td>0.76</td>\n",
              "      <td>0.04</td>\n",
              "      <td>2.3</td>\n",
              "      <td>0.092</td>\n",
              "      <td>15.0</td>\n",
              "      <td>54.0</td>\n",
              "      <td>0.9970</td>\n",
              "      <td>3.26</td>\n",
              "      <td>0.65</td>\n",
              "      <td>9.8</td>\n",
              "      <td>5</td>\n",
              "    </tr>\n",
              "    <tr>\n",
              "      <th>3</th>\n",
              "      <td>11.2</td>\n",
              "      <td>0.28</td>\n",
              "      <td>0.56</td>\n",
              "      <td>1.9</td>\n",
              "      <td>0.075</td>\n",
              "      <td>17.0</td>\n",
              "      <td>60.0</td>\n",
              "      <td>0.9980</td>\n",
              "      <td>3.16</td>\n",
              "      <td>0.58</td>\n",
              "      <td>9.8</td>\n",
              "      <td>6</td>\n",
              "    </tr>\n",
              "    <tr>\n",
              "      <th>4</th>\n",
              "      <td>7.4</td>\n",
              "      <td>0.70</td>\n",
              "      <td>0.00</td>\n",
              "      <td>1.9</td>\n",
              "      <td>0.076</td>\n",
              "      <td>11.0</td>\n",
              "      <td>34.0</td>\n",
              "      <td>0.9978</td>\n",
              "      <td>3.51</td>\n",
              "      <td>0.56</td>\n",
              "      <td>9.4</td>\n",
              "      <td>5</td>\n",
              "    </tr>\n",
              "  </tbody>\n",
              "</table>\n",
              "</div>"
            ],
            "text/plain": [
              "   fixed acidity  volatile acidity  citric acid  residual sugar  chlorides  \\\n",
              "0            7.4              0.70         0.00             1.9      0.076   \n",
              "1            7.8              0.88         0.00             2.6      0.098   \n",
              "2            7.8              0.76         0.04             2.3      0.092   \n",
              "3           11.2              0.28         0.56             1.9      0.075   \n",
              "4            7.4              0.70         0.00             1.9      0.076   \n",
              "\n",
              "   free sulfur dioxide  total sulfur dioxide  density    pH  sulphates  \\\n",
              "0                 11.0                  34.0   0.9978  3.51       0.56   \n",
              "1                 25.0                  67.0   0.9968  3.20       0.68   \n",
              "2                 15.0                  54.0   0.9970  3.26       0.65   \n",
              "3                 17.0                  60.0   0.9980  3.16       0.58   \n",
              "4                 11.0                  34.0   0.9978  3.51       0.56   \n",
              "\n",
              "   alcohol  quality  \n",
              "0      9.4        5  \n",
              "1      9.8        5  \n",
              "2      9.8        5  \n",
              "3      9.8        6  \n",
              "4      9.4        5  "
            ]
          },
          "execution_count": 183,
          "metadata": {},
          "output_type": "execute_result"
        }
      ],
      "source": [
        "data_frame.head()"
      ]
    },
    {
      "cell_type": "code",
      "execution_count": null,
      "metadata": {
        "execution": {
          "iopub.execute_input": "2021-05-19T12:24:28.569671Z",
          "iopub.status.busy": "2021-05-19T12:24:28.569137Z",
          "iopub.status.idle": "2021-05-19T12:24:28.580485Z",
          "shell.execute_reply": "2021-05-19T12:24:28.580034Z"
        },
        "papermill": {
          "duration": 0.026204,
          "end_time": "2021-05-19T12:24:28.580609",
          "exception": false,
          "start_time": "2021-05-19T12:24:28.554405",
          "status": "completed"
        },
        "tags": [],
        "id": "9443Gkfb3Cc3",
        "outputId": "4404b1e4-463e-4960-8b46-8c78c1171d31"
      },
      "outputs": [
        {
          "data": {
            "text/html": [
              "<div>\n",
              "<style scoped>\n",
              "    .dataframe tbody tr th:only-of-type {\n",
              "        vertical-align: middle;\n",
              "    }\n",
              "\n",
              "    .dataframe tbody tr th {\n",
              "        vertical-align: top;\n",
              "    }\n",
              "\n",
              "    .dataframe thead th {\n",
              "        text-align: right;\n",
              "    }\n",
              "</style>\n",
              "<table border=\"1\" class=\"dataframe\">\n",
              "  <thead>\n",
              "    <tr style=\"text-align: right;\">\n",
              "      <th></th>\n",
              "      <th>quality</th>\n",
              "      <th>fixed acidity</th>\n",
              "      <th>volatile acidity</th>\n",
              "      <th>citric acid</th>\n",
              "      <th>residual sugar</th>\n",
              "      <th>chlorides</th>\n",
              "      <th>free sulfur dioxide</th>\n",
              "      <th>total sulfur dioxide</th>\n",
              "      <th>density</th>\n",
              "      <th>pH</th>\n",
              "      <th>sulphates</th>\n",
              "      <th>alcohol</th>\n",
              "    </tr>\n",
              "  </thead>\n",
              "  <tbody>\n",
              "    <tr>\n",
              "      <th>0</th>\n",
              "      <td>3</td>\n",
              "      <td>10</td>\n",
              "      <td>10</td>\n",
              "      <td>10</td>\n",
              "      <td>10</td>\n",
              "      <td>10</td>\n",
              "      <td>10</td>\n",
              "      <td>10</td>\n",
              "      <td>10</td>\n",
              "      <td>10</td>\n",
              "      <td>10</td>\n",
              "      <td>10</td>\n",
              "    </tr>\n",
              "    <tr>\n",
              "      <th>1</th>\n",
              "      <td>4</td>\n",
              "      <td>53</td>\n",
              "      <td>53</td>\n",
              "      <td>53</td>\n",
              "      <td>53</td>\n",
              "      <td>53</td>\n",
              "      <td>53</td>\n",
              "      <td>53</td>\n",
              "      <td>53</td>\n",
              "      <td>53</td>\n",
              "      <td>53</td>\n",
              "      <td>53</td>\n",
              "    </tr>\n",
              "    <tr>\n",
              "      <th>2</th>\n",
              "      <td>5</td>\n",
              "      <td>681</td>\n",
              "      <td>681</td>\n",
              "      <td>681</td>\n",
              "      <td>681</td>\n",
              "      <td>681</td>\n",
              "      <td>681</td>\n",
              "      <td>681</td>\n",
              "      <td>681</td>\n",
              "      <td>681</td>\n",
              "      <td>681</td>\n",
              "      <td>681</td>\n",
              "    </tr>\n",
              "    <tr>\n",
              "      <th>3</th>\n",
              "      <td>6</td>\n",
              "      <td>638</td>\n",
              "      <td>638</td>\n",
              "      <td>638</td>\n",
              "      <td>638</td>\n",
              "      <td>638</td>\n",
              "      <td>638</td>\n",
              "      <td>638</td>\n",
              "      <td>638</td>\n",
              "      <td>638</td>\n",
              "      <td>638</td>\n",
              "      <td>638</td>\n",
              "    </tr>\n",
              "    <tr>\n",
              "      <th>4</th>\n",
              "      <td>7</td>\n",
              "      <td>199</td>\n",
              "      <td>199</td>\n",
              "      <td>199</td>\n",
              "      <td>199</td>\n",
              "      <td>199</td>\n",
              "      <td>199</td>\n",
              "      <td>199</td>\n",
              "      <td>199</td>\n",
              "      <td>199</td>\n",
              "      <td>199</td>\n",
              "      <td>199</td>\n",
              "    </tr>\n",
              "    <tr>\n",
              "      <th>5</th>\n",
              "      <td>8</td>\n",
              "      <td>18</td>\n",
              "      <td>18</td>\n",
              "      <td>18</td>\n",
              "      <td>18</td>\n",
              "      <td>18</td>\n",
              "      <td>18</td>\n",
              "      <td>18</td>\n",
              "      <td>18</td>\n",
              "      <td>18</td>\n",
              "      <td>18</td>\n",
              "      <td>18</td>\n",
              "    </tr>\n",
              "  </tbody>\n",
              "</table>\n",
              "</div>"
            ],
            "text/plain": [
              "   quality  fixed acidity  volatile acidity  citric acid  residual sugar  \\\n",
              "0        3             10                10           10              10   \n",
              "1        4             53                53           53              53   \n",
              "2        5            681               681          681             681   \n",
              "3        6            638               638          638             638   \n",
              "4        7            199               199          199             199   \n",
              "5        8             18                18           18              18   \n",
              "\n",
              "   chlorides  free sulfur dioxide  total sulfur dioxide  density   pH  \\\n",
              "0         10                   10                    10       10   10   \n",
              "1         53                   53                    53       53   53   \n",
              "2        681                  681                   681      681  681   \n",
              "3        638                  638                   638      638  638   \n",
              "4        199                  199                   199      199  199   \n",
              "5         18                   18                    18       18   18   \n",
              "\n",
              "   sulphates  alcohol  \n",
              "0         10       10  \n",
              "1         53       53  \n",
              "2        681      681  \n",
              "3        638      638  \n",
              "4        199      199  \n",
              "5         18       18  "
            ]
          },
          "execution_count": 184,
          "metadata": {},
          "output_type": "execute_result"
        }
      ],
      "source": [
        "data_frame.groupby('quality').count().reset_index()"
      ]
    },
    {
      "cell_type": "code",
      "execution_count": null,
      "metadata": {
        "execution": {
          "iopub.execute_input": "2021-05-19T12:24:28.602621Z",
          "iopub.status.busy": "2021-05-19T12:24:28.602117Z",
          "iopub.status.idle": "2021-05-19T12:24:28.605036Z",
          "shell.execute_reply": "2021-05-19T12:24:28.605469Z"
        },
        "papermill": {
          "duration": 0.016157,
          "end_time": "2021-05-19T12:24:28.605616",
          "exception": false,
          "start_time": "2021-05-19T12:24:28.589459",
          "status": "completed"
        },
        "tags": [],
        "id": "vg5dAb5h3Cc4"
      },
      "outputs": [],
      "source": [
        "data_frame['quality'].replace(to_replace={3: 0, 4: 1, 5: 2, 6: 3, 7: 4, 8: 5}, inplace=True)"
      ]
    },
    {
      "cell_type": "code",
      "execution_count": null,
      "metadata": {
        "execution": {
          "iopub.execute_input": "2021-05-19T12:24:28.625812Z",
          "iopub.status.busy": "2021-05-19T12:24:28.625295Z",
          "iopub.status.idle": "2021-05-19T12:24:28.629846Z",
          "shell.execute_reply": "2021-05-19T12:24:28.630290Z"
        },
        "papermill": {
          "duration": 0.016044,
          "end_time": "2021-05-19T12:24:28.630432",
          "exception": false,
          "start_time": "2021-05-19T12:24:28.614388",
          "status": "completed"
        },
        "tags": [],
        "id": "KpryAn-S3Cc5"
      },
      "outputs": [],
      "source": [
        "X = data_frame[['fixed acidity','volatile acidity','citric acid','residual sugar','chlorides',\n",
        "'free sulfur dioxide','total sulfur dioxide','density','pH','sulphates','alcohol']]\n",
        "Y = data_frame['quality']"
      ]
    },
    {
      "cell_type": "code",
      "execution_count": null,
      "metadata": {
        "execution": {
          "iopub.execute_input": "2021-05-19T12:24:29.696491Z",
          "iopub.status.busy": "2021-05-19T12:24:29.695890Z",
          "iopub.status.idle": "2021-05-19T12:24:29.884061Z",
          "shell.execute_reply": "2021-05-19T12:24:29.884502Z"
        },
        "papermill": {
          "duration": 0.204377,
          "end_time": "2021-05-19T12:24:29.884676",
          "exception": false,
          "start_time": "2021-05-19T12:24:29.680299",
          "status": "completed"
        },
        "tags": [],
        "id": "Myk-qsgg3Cc5"
      },
      "outputs": [],
      "source": [
        "X_train, X_test, y_train, y_test = train_test_split(X, Y, test_size=0.2, random_state=24)"
      ]
    },
    {
      "cell_type": "code",
      "execution_count": null,
      "metadata": {
        "execution": {
          "iopub.execute_input": "2021-05-19T12:24:29.911606Z",
          "iopub.status.busy": "2021-05-19T12:24:29.910761Z",
          "iopub.status.idle": "2021-05-19T12:24:29.920743Z",
          "shell.execute_reply": "2021-05-19T12:24:29.921213Z"
        },
        "papermill": {
          "duration": 0.024917,
          "end_time": "2021-05-19T12:24:29.921391",
          "exception": false,
          "start_time": "2021-05-19T12:24:29.896474",
          "status": "completed"
        },
        "tags": [],
        "id": "sxysBr_b3Cc6"
      },
      "outputs": [],
      "source": [
        "s = StandardScaler()\n",
        "X_train = s.fit_transform(X_train)\n",
        "X_test = s.transform(X_test)"
      ]
    },
    {
      "cell_type": "code",
      "execution_count": null,
      "metadata": {
        "execution": {
          "iopub.execute_input": "2021-05-19T12:24:29.948681Z",
          "iopub.status.busy": "2021-05-19T12:24:29.947810Z",
          "iopub.status.idle": "2021-05-19T12:24:30.095630Z",
          "shell.execute_reply": "2021-05-19T12:24:30.096297Z"
        },
        "papermill": {
          "duration": 0.163214,
          "end_time": "2021-05-19T12:24:30.096508",
          "exception": false,
          "start_time": "2021-05-19T12:24:29.933294",
          "status": "completed"
        },
        "tags": [],
        "id": "yrbqET403Cc7",
        "outputId": "df6a66a4-55c3-4a33-abac-4549e251c8e9"
      },
      "outputs": [
        {
          "name": "stdout",
          "output_type": "stream",
          "text": [
            "Model: \"sequential_13\"\n",
            "_________________________________________________________________\n",
            " Layer (type)                Output Shape              Param #   \n",
            "=================================================================\n",
            " dense_45 (Dense)            (None, 128)               1536      \n",
            "                                                                 \n",
            " dense_46 (Dense)            (None, 64)                8256      \n",
            "                                                                 \n",
            " dense_47 (Dense)            (None, 32)                2080      \n",
            "                                                                 \n",
            " dense_48 (Dense)            (None, 6)                 198       \n",
            "                                                                 \n",
            "=================================================================\n",
            "Total params: 12,070\n",
            "Trainable params: 12,070\n",
            "Non-trainable params: 0\n",
            "_________________________________________________________________\n"
          ]
        }
      ],
      "source": [
        "model = tf.keras.models.Sequential([\n",
        "  keras.layers.Dense(units=128, input_shape=(X_train.shape[1],), activation='relu'),\n",
        "  keras.layers.Dense(units=64, activation='relu'),\n",
        "  keras.layers.Dense(units=32, activation='relu'),\n",
        "  keras.layers.Dense(units=6, activation='softmax')\n",
        "])\n",
        "model.compile(loss='sparse_categorical_crossentropy', optimizer='sgd',  metrics=['accuracy'])\n",
        "model.summary()"
      ]
    },
    {
      "cell_type": "code",
      "execution_count": null,
      "metadata": {
        "execution": {
          "iopub.execute_input": "2021-05-19T12:24:30.126578Z",
          "iopub.status.busy": "2021-05-19T12:24:30.125892Z",
          "iopub.status.idle": "2021-05-19T12:24:37.360973Z",
          "shell.execute_reply": "2021-05-19T12:24:37.360393Z"
        },
        "papermill": {
          "duration": 7.251947,
          "end_time": "2021-05-19T12:24:37.361105",
          "exception": false,
          "start_time": "2021-05-19T12:24:30.109158",
          "status": "completed"
        },
        "tags": [],
        "id": "VYhQc7zB3Cc8",
        "outputId": "f099f456-bd43-4067-d3f0-4759a7c34c17"
      },
      "outputs": [
        {
          "name": "stdout",
          "output_type": "stream",
          "text": [
            "Epoch 1/20\n",
            "40/40 [==============================] - 1s 7ms/step - loss: 1.6777 - accuracy: 0.3972 - val_loss: 1.5256 - val_accuracy: 0.4625\n",
            "Epoch 2/20\n",
            "40/40 [==============================] - 0s 3ms/step - loss: 1.4068 - accuracy: 0.5027 - val_loss: 1.3190 - val_accuracy: 0.4938\n",
            "Epoch 3/20\n",
            "40/40 [==============================] - 0s 3ms/step - loss: 1.2593 - accuracy: 0.5168 - val_loss: 1.2221 - val_accuracy: 0.4969\n",
            "Epoch 4/20\n",
            "40/40 [==============================] - 0s 3ms/step - loss: 1.1910 - accuracy: 0.5457 - val_loss: 1.1773 - val_accuracy: 0.5250\n",
            "Epoch 5/20\n",
            "40/40 [==============================] - 0s 3ms/step - loss: 1.1539 - accuracy: 0.5590 - val_loss: 1.1494 - val_accuracy: 0.5375\n",
            "Epoch 6/20\n",
            "40/40 [==============================] - 0s 3ms/step - loss: 1.1255 - accuracy: 0.5614 - val_loss: 1.1268 - val_accuracy: 0.5562\n",
            "Epoch 7/20\n",
            "40/40 [==============================] - 0s 3ms/step - loss: 1.1015 - accuracy: 0.5700 - val_loss: 1.1081 - val_accuracy: 0.5562\n",
            "Epoch 8/20\n",
            "40/40 [==============================] - 0s 3ms/step - loss: 1.0793 - accuracy: 0.5747 - val_loss: 1.0914 - val_accuracy: 0.5562\n",
            "Epoch 9/20\n",
            "40/40 [==============================] - 0s 3ms/step - loss: 1.0594 - accuracy: 0.5770 - val_loss: 1.0774 - val_accuracy: 0.5562\n",
            "Epoch 10/20\n",
            "40/40 [==============================] - 0s 3ms/step - loss: 1.0409 - accuracy: 0.5817 - val_loss: 1.0657 - val_accuracy: 0.5625\n",
            "Epoch 11/20\n",
            "40/40 [==============================] - 0s 3ms/step - loss: 1.0248 - accuracy: 0.5825 - val_loss: 1.0559 - val_accuracy: 0.5625\n",
            "Epoch 12/20\n",
            "40/40 [==============================] - 0s 3ms/step - loss: 1.0102 - accuracy: 0.5848 - val_loss: 1.0480 - val_accuracy: 0.5781\n",
            "Epoch 13/20\n",
            "40/40 [==============================] - 0s 3ms/step - loss: 0.9978 - accuracy: 0.5919 - val_loss: 1.0419 - val_accuracy: 0.5813\n",
            "Epoch 14/20\n",
            "40/40 [==============================] - 0s 4ms/step - loss: 0.9866 - accuracy: 0.5989 - val_loss: 1.0367 - val_accuracy: 0.5844\n",
            "Epoch 15/20\n",
            "40/40 [==============================] - 0s 4ms/step - loss: 0.9771 - accuracy: 0.6091 - val_loss: 1.0331 - val_accuracy: 0.5844\n",
            "Epoch 16/20\n",
            "40/40 [==============================] - 0s 3ms/step - loss: 0.9675 - accuracy: 0.6106 - val_loss: 1.0304 - val_accuracy: 0.5844\n",
            "Epoch 17/20\n",
            "40/40 [==============================] - 0s 5ms/step - loss: 0.9606 - accuracy: 0.6138 - val_loss: 1.0279 - val_accuracy: 0.5813\n",
            "Epoch 18/20\n",
            "40/40 [==============================] - 0s 4ms/step - loss: 0.9527 - accuracy: 0.6177 - val_loss: 1.0264 - val_accuracy: 0.5844\n",
            "Epoch 19/20\n",
            "40/40 [==============================] - 0s 6ms/step - loss: 0.9468 - accuracy: 0.6255 - val_loss: 1.0248 - val_accuracy: 0.5875\n",
            "Epoch 20/20\n",
            "40/40 [==============================] - 0s 4ms/step - loss: 0.9412 - accuracy: 0.6224 - val_loss: 1.0233 - val_accuracy: 0.5844\n"
          ]
        }
      ],
      "source": [
        "h = model.fit(X_train, y_train, validation_data=(X_test,y_test), epochs=20, batch_size=32)"
      ]
    },
    {
      "cell_type": "code",
      "execution_count": null,
      "metadata": {
        "execution": {
          "iopub.execute_input": "2021-05-19T12:24:37.464951Z",
          "iopub.status.busy": "2021-05-19T12:24:37.460368Z",
          "iopub.status.idle": "2021-05-19T12:24:37.645667Z",
          "shell.execute_reply": "2021-05-19T12:24:37.645144Z"
        },
        "papermill": {
          "duration": 0.24005,
          "end_time": "2021-05-19T12:24:37.645793",
          "exception": false,
          "start_time": "2021-05-19T12:24:37.405743",
          "status": "completed"
        },
        "tags": [],
        "id": "yIEFPBSt3Cc9",
        "outputId": "a03c2f07-0c74-42ac-83ee-044cc01befa4"
      },
      "outputs": [
        {
          "data": {
            "image/png": "[encoded data removed]",
            "text/plain": [
              "<Figure size 640x480 with 1 Axes>"
            ]
          },
          "metadata": {},
          "output_type": "display_data"
        }
      ],
      "source": [
        "plt.plot(h.history['loss'], label='loss')\n",
        "plt.plot(h.history['val_loss'], label='val_loss')\n",
        "plt.legend()\n",
        "plt.show()"
      ]
    },
    {
      "cell_type": "code",
      "execution_count": null,
      "metadata": {
        "execution": {
          "iopub.execute_input": "2021-05-19T12:24:37.738504Z",
          "iopub.status.busy": "2021-05-19T12:24:37.737199Z",
          "iopub.status.idle": "2021-05-19T12:24:37.786329Z",
          "shell.execute_reply": "2021-05-19T12:24:37.786785Z"
        },
        "papermill": {
          "duration": 0.097039,
          "end_time": "2021-05-19T12:24:37.786976",
          "exception": false,
          "start_time": "2021-05-19T12:24:37.689937",
          "status": "completed"
        },
        "tags": [],
        "id": "WHRE0lTs3Cc9",
        "outputId": "5f90ecfe-61bf-448e-d892-a11986ed6907"
      },
      "outputs": [
        {
          "name": "stdout",
          "output_type": "stream",
          "text": [
            "10/10 [==============================] - 0s 3ms/step - loss: 1.0233 - accuracy: 0.5844\n",
            "Loss\n",
            "1.0233267545700073\n",
            "Accuracy\n",
            "0.5843750238418579\n"
          ]
        }
      ],
      "source": [
        "ModelLoss, ModelAccuracy = model.evaluate(X_test, y_test)\n",
        "\n",
        "print(\"Loss\")\n",
        "print(ModelLoss)\n",
        "print(\"Accuracy\")\n",
        "print(ModelAccuracy)"
      ]
    },
    {
      "cell_type": "code",
      "execution_count": null,
      "metadata": {
        "id": "hXp6uMCn3Cc-"
      },
      "outputs": [],
      "source": []
    }
  ],
  "metadata": {
    "kernelspec": {
      "display_name": "Python 3 (ipykernel)",
      "language": "python",
      "name": "python3"
    },
    "language_info": {
      "codemirror_mode": {
        "name": "ipython",
        "version": 3
      },
      "file_extension": ".py",
      "mimetype": "text/x-python",
      "name": "python",
      "nbconvert_exporter": "python",
      "pygments_lexer": "ipython3",
      "version": "3.9.6"
    },
    "papermill": {
      "default_parameters": {},
      "duration": 22.075363,
      "end_time": "2021-05-19T12:24:39.999427",
      "environment_variables": {},
      "exception": null,
      "input_path": "__notebook__.ipynb",
      "output_path": "__notebook__.ipynb",
      "parameters": {},
      "start_time": "2021-05-19T12:24:17.924064",
      "version": "2.2.2"
    },
    "colab": {
      "provenance": []
    }
  },
  "nbformat": 4,
  "nbformat_minor": 0
}