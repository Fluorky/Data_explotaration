{
  "nbformat": 4,
  "nbformat_minor": 0,
  "metadata": {
    "colab": {
      "provenance": []
    },
    "kernelspec": {
      "name": "python3",
      "display_name": "Python 3"
    },
    "language_info": {
      "name": "python"
    }
  },
  "cells": [
    {
      "cell_type": "markdown",
      "source": [
        "ZAD 1\n",
        "\n"
      ],
      "metadata": {
        "id": "7oyxqkrp36uh"
      }
    },
    {
      "cell_type": "code",
      "execution_count": 1,
      "metadata": {
        "id": "rTJ1-k7dn6qm"
      },
      "outputs": [],
      "source": [
        "import tensorflow as tf"
      ]
    },
    {
      "cell_type": "code",
      "source": [
        "x = tf.Variable(4.0)\n",
        "y = tf.Variable(3.0)\n",
        "\n",
        "with tf.GradientTape() as tape:\n",
        "    f = (x**3)+(y**2)                        \n",
        "    df_dx,df_dy = tape.gradient(f,(x,y))\n",
        "\n",
        "print(df_dx.numpy())\n",
        "print(df_dy.numpy())"
      ],
      "metadata": {
        "colab": {
          "base_uri": "https://localhost:8080/"
        },
        "id": "7kRlwav13y-h",
        "outputId": "c363fe58-0cd1-482e-81ed-c508ef92dbba"
      },
      "execution_count": 2,
      "outputs": [
        {
          "output_type": "stream",
          "name": "stdout",
          "text": [
            "48.0\n",
            "6.0\n"
          ]
        }
      ]
    },
    {
      "cell_type": "markdown",
      "source": [
        "ZAD 2"
      ],
      "metadata": {
        "id": "xZYOscp74dmA"
      }
    },
    {
      "cell_type": "code",
      "source": [],
      "metadata": {
        "id": "WAXZWfTp4hBm"
      },
      "execution_count": null,
      "outputs": []
    },
    {
      "cell_type": "code",
      "source": [
        "x = tf.Variable(1.0)\n",
        "y = tf.Variable(2.0)\n",
        "\n",
        "with tf.GradientTape() as tape:\n",
        "    f = 4*(x**3)+11*(y**2)+9*y*x+10                         \n",
        "    df_dx,df_dy = tape.gradient(f,(x,y))\n",
        "\n",
        "print(df_dx.numpy())\n",
        "print(df_dy.numpy())"
      ],
      "metadata": {
        "id": "TdwIPwcG4a5U"
      },
      "execution_count": null,
      "outputs": []
    },
    {
      "cell_type": "markdown",
      "source": [
        "Zad 3"
      ],
      "metadata": {
        "id": "58M_OeUb5b_E"
      }
    },
    {
      "cell_type": "code",
      "source": [
        "import matplotlib.pyplot as plt \n",
        "import numpy as np"
      ],
      "metadata": {
        "id": "veFjE1nF5bev"
      },
      "execution_count": 81,
      "outputs": []
    },
    {
      "cell_type": "code",
      "source": [
        "number_of_points = 1000\n",
        "x_point = []\n",
        "y_point = []"
      ],
      "metadata": {
        "id": "J1xJSmQU5dP4"
      },
      "execution_count": 82,
      "outputs": []
    },
    {
      "cell_type": "code",
      "source": [
        "a = -0.22\n",
        "b = 0.78"
      ],
      "metadata": {
        "id": "texEQcvq5dGb"
      },
      "execution_count": 84,
      "outputs": []
    },
    {
      "cell_type": "code",
      "source": [
        "for i in range(number_of_points):\n",
        "    x = np.random.normal(0.0,0.5)\n",
        "    y = (a*x+b)+np.random.normal(0.0,0.1)\n",
        "    x_point.append(x)\n",
        "    y_point.append(y)"
      ],
      "metadata": {
        "id": "oz8ZX8Wi5kug"
      },
      "execution_count": 85,
      "outputs": []
    },
    {
      "cell_type": "code",
      "source": [
        "plt.scatter(x_point,y_point,c='b')\n",
        "plt.show()"
      ],
      "metadata": {
        "colab": {
          "base_uri": "https://localhost:8080/",
          "height": 265
        },
        "id": "kwWUAJhQ5oIK",
        "outputId": "39d82c0a-da87-424b-f3e6-122151176c57"
      },
      "execution_count": 86,
      "outputs": [
        {
          "output_type": "display_data",
          "data": {
            "text/plain": [
              "<Figure size 432x288 with 1 Axes>"
            ],
            "image/png": "[encoded data removed]"
          },
          "metadata": {
            "needs_background": "light"
          }
        }
      ]
    },
    {
      "cell_type": "code",
      "source": [
        "real_x = np.array(x_point)\n",
        "real_y = np.array(y_point)"
      ],
      "metadata": {
        "id": "U4VVDmXZ5t1o"
      },
      "execution_count": 87,
      "outputs": []
    },
    {
      "cell_type": "code",
      "source": [
        "def loss_fn(real_y, pred_y):\n",
        "    return tf.reduce_mean((real_y - pred_y)**2)"
      ],
      "metadata": {
        "id": "xkAJlcjl5whI"
      },
      "execution_count": 88,
      "outputs": []
    },
    {
      "cell_type": "code",
      "source": [
        "import random\n",
        "a = tf.Variable(random.random())\n",
        "b = tf.Variable(random.random())"
      ],
      "metadata": {
        "id": "CGcJEQ-e5zkc"
      },
      "execution_count": 89,
      "outputs": []
    },
    {
      "cell_type": "code",
      "source": [
        "Loss = []\n",
        "epochs = 1000\n",
        "learning_rate = 0.01\n",
        "\n",
        "for _ in range(epochs):\n",
        "  with tf.GradientTape() as tape:\n",
        "    pred_y = a * real_x + b\n",
        "    loss = loss_fn(real_y, pred_y)\n",
        "    Loss.append(loss.numpy())\n",
        "\n",
        "  dloss_da, dloss_db = tape.gradient(loss,(a, b))\n",
        "\n",
        "  a.assign_sub(learning_rate*dloss_da)  #a = a - alpha*dloss_da\n",
        "  b.assign_sub(learning_rate*dloss_db)  #b = b - alpha*dloss_db"
      ],
      "metadata": {
        "id": "d6cqARH654Ld"
      },
      "execution_count": 90,
      "outputs": []
    },
    {
      "cell_type": "code",
      "source": [
        "np.max(Loss),np.min(Loss)"
      ],
      "metadata": {
        "colab": {
          "base_uri": "https://localhost:8080/"
        },
        "id": "AkFhOVlu58w3",
        "outputId": "27717712-2431-4e5d-8b40-dea08a7461d8"
      },
      "execution_count": 91,
      "outputs": [
        {
          "output_type": "execute_result",
          "data": {
            "text/plain": [
              "(0.028574357, 0.0098474445)"
            ]
          },
          "metadata": {},
          "execution_count": 91
        }
      ]
    },
    {
      "cell_type": "code",
      "source": [
        "print(a.numpy())\n",
        "print(b.numpy())"
      ],
      "metadata": {
        "colab": {
          "base_uri": "https://localhost:8080/"
        },
        "id": "-ocA6Kq-6A8v",
        "outputId": "dda3b526-611f-4f95-e8a8-04b60667cc2a"
      },
      "execution_count": 92,
      "outputs": [
        {
          "output_type": "stream",
          "name": "stdout",
          "text": [
            "-0.22509728\n",
            "0.77586883\n"
          ]
        }
      ]
    },
    {
      "cell_type": "code",
      "source": [
        "plt.scatter(np.arange(epochs),Loss)\n",
        "plt.show()"
      ],
      "metadata": {
        "colab": {
          "base_uri": "https://localhost:8080/",
          "height": 265
        },
        "id": "rrQnAvMi6Bif",
        "outputId": "b18a1c7c-ae62-4173-b831-dea5e9d606d7"
      },
      "execution_count": 93,
      "outputs": [
        {
          "output_type": "display_data",
          "data": {
            "text/plain": [
              "<Figure size 432x288 with 1 Axes>"
            ],
            "image/png": "[encoded data removed]"
          },
          "metadata": {
            "needs_background": "light"
          }
        }
      ]
    },
    {
      "cell_type": "code",
      "source": [
        "max = np.max(x_point)\n",
        "min = np.min(x_point)"
      ],
      "metadata": {
        "id": "rXE2kSEm6EYH"
      },
      "execution_count": 94,
      "outputs": []
    },
    {
      "cell_type": "code",
      "source": [
        "X = np.linspace(min, max, num=10)\n",
        "plt.plot(X,a.numpy()*X+b.numpy(),c='r')\n",
        "plt.scatter(x_point,y_point,c=\"b\")\n",
        "plt.show()"
      ],
      "metadata": {
        "colab": {
          "base_uri": "https://localhost:8080/",
          "height": 265
        },
        "id": "iVAgiTkA6GSd",
        "outputId": "1df679c5-fddc-431f-b81d-d8c9a9b4e4ac"
      },
      "execution_count": 95,
      "outputs": [
        {
          "output_type": "display_data",
          "data": {
            "text/plain": [
              "<Figure size 432x288 with 1 Axes>"
            ],
            "image/png": "[encoded data removed]"
          },
          "metadata": {
            "needs_background": "light"
          }
        }
      ]
    },
    {
      "cell_type": "code",
      "source": [
        "def subset_dataset(x_dataset, y_dataset, subset_size):\n",
        "    arr = np.arange(len(x_dataset))\n",
        "    np.random.shuffle(arr) \n",
        "    x_train = x_dataset[arr[0:subset_size]]\n",
        "    y_train = y_dataset[arr[0:subset_size]]\n",
        "    return x_train,y_train"
      ],
      "metadata": {
        "id": "EBsLA0Py6IVG"
      },
      "execution_count": 96,
      "outputs": []
    },
    {
      "cell_type": "code",
      "source": [
        "a = tf.Variable(random.random())\n",
        "b = tf.Variable(random.random())"
      ],
      "metadata": {
        "id": "8rPI_3ABDWzZ"
      },
      "execution_count": 129,
      "outputs": []
    },
    {
      "cell_type": "code",
      "source": [
        "Loss = []\n",
        "epochs = 1000\n",
        "learning_rate = 0.2\n",
        "batch_size = 50\n",
        "\n",
        "for i in range(epochs):\n",
        "  real_x_batch,real_y_batch = subset_dataset(real_x,real_y,batch_size)\n",
        "  with tf.GradientTape() as tape:\n",
        "    pred_y = a * real_x_batch + b\n",
        "    loss = loss_fn(real_y_batch, pred_y)\n",
        "    Loss.append(loss.numpy())\n",
        "\n",
        "  dloss_da, dloss_db = tape.gradient(loss,(a, b))\n",
        "\n",
        "  a.assign_sub(learning_rate*dloss_da)  #a = a - alpha*dloss_da\n",
        "  b.assign_sub(learning_rate*dloss_db)  #b = b - alpha*dloss_db"
      ],
      "metadata": {
        "id": "ym6vMmHh_qV0"
      },
      "execution_count": 130,
      "outputs": []
    },
    {
      "cell_type": "code",
      "source": [
        "np.max(Loss),np.min(Loss)"
      ],
      "metadata": {
        "colab": {
          "base_uri": "https://localhost:8080/"
        },
        "id": "U29s1oIlAIqm",
        "outputId": "c7768c74-669b-4081-c5ee-7f14090347de"
      },
      "execution_count": 131,
      "outputs": [
        {
          "output_type": "execute_result",
          "data": {
            "text/plain": [
              "(0.0836345, 0.0046261256)"
            ]
          },
          "metadata": {},
          "execution_count": 131
        }
      ]
    },
    {
      "cell_type": "code",
      "source": [
        "print(a.numpy())\n",
        "print(b.numpy())"
      ],
      "metadata": {
        "colab": {
          "base_uri": "https://localhost:8080/"
        },
        "id": "dbGakUYUAN7W",
        "outputId": "0f078e75-de2c-4b80-bff8-aa6e3c395b22"
      },
      "execution_count": 132,
      "outputs": [
        {
          "output_type": "stream",
          "name": "stdout",
          "text": [
            "-0.21703197\n",
            "0.77252394\n"
          ]
        }
      ]
    },
    {
      "cell_type": "code",
      "source": [
        "plt.plot(Loss)\n",
        "plt.show()"
      ],
      "metadata": {
        "colab": {
          "base_uri": "https://localhost:8080/",
          "height": 265
        },
        "id": "b1TghO82Acaj",
        "outputId": "0c5b501c-d62b-4236-9003-9131438cda3e"
      },
      "execution_count": 133,
      "outputs": [
        {
          "output_type": "display_data",
          "data": {
            "text/plain": [
              "<Figure size 432x288 with 1 Axes>"
            ],
            "image/png": "[encoded data removed]"
          },
          "metadata": {
            "needs_background": "light"
          }
        }
      ]
    },
    {
      "cell_type": "code",
      "source": [],
      "metadata": {
        "id": "tUZJrPgPA28t"
      },
      "execution_count": null,
      "outputs": []
    }
  ]
}